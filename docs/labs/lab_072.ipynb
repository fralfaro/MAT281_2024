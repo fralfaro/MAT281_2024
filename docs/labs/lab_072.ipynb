{
 "cells": [
  {
   "cell_type": "markdown",
   "id": "5ce90c3b",
   "metadata": {
    "id": "5ce90c3b"
   },
   "source": [
    "<a href=\"https://colab.research.google.com/github/fralfaro/MAT281_2024/blob/main/docs/labs/lab_072.ipynb\" target=\"_parent\"><img src=\"https://colab.research.google.com/assets/colab-badge.svg\" alt=\"Open In Colab\"/></a>\n",
    "\n",
    "# MAT281 - Laboratorio N°072\n",
    "\n",
    "\n",
    "## I.- Problema 01\n",
    "\n",
    "\n",
    "<img src=\"https://miro.medium.com/v2/resize:fit:372/0*EwdH1C6ThmpwY0Qo.png\" width = \"400\" align=\"center\"/>\n"
   ]
  },
  {
   "cell_type": "markdown",
   "id": "97d33fad",
   "metadata": {
    "id": "97d33fad"
   },
   "source": [
    "El objetivo de este proyecto es realizar la mejor predicción posible de las imágenes a partir de los datos disponibles. Para lograrlo, es necesario seguir los pasos habituales en un proyecto de _Machine Learning_, que incluyen la exploración estadística, la visualización y el preprocesamiento de los datos.\n",
    "\n",
    "Se solicita lo siguiente:\n",
    "\n",
    "* Ajustar al menos tres modelos de clasificación:\n",
    "    * Regresión logística.\n",
    "    * K-Nearest Neighbors.\n",
    "    * Un algoritmo adicional o más, de libre elección. Puedes consultar [esta lista de algoritmos](https://scikit-learn.org/stable/supervised_learning.html#supervised-learning) para obtener ideas.\n",
    "  \n",
    "* Realizar predicciones con cada uno de los tres modelos utilizando el conjunto de datos de _test_ y calcular sus respectivas puntuaciones (_score_).\n",
    "\n",
    "* Evaluar y analizar los resultados de los modelos utilizando las siguientes métricas de rendimiento:\n",
    "    * **Accuracy**\n",
    "    * **Precision**\n",
    "    * **Recall**\n",
    "    * **F1-score**"
   ]
  },
  {
   "cell_type": "markdown",
   "id": "e2c4e7ea",
   "metadata": {
    "id": "e2c4e7ea"
   },
   "source": [
    "### Exploración de los datos\n",
    "A continuación se carga el conjunto de datos a utilizar, a través del sub-módulo `datasets` de `sklearn`."
   ]
  },
  {
   "cell_type": "code",
   "execution_count": null,
   "id": "017c133d",
   "metadata": {
    "id": "017c133d"
   },
   "outputs": [],
   "source": [
    "import numpy as np\n",
    "import pandas as pd\n",
    "from sklearn import datasets\n",
    "import matplotlib.pyplot as plt\n",
    "\n",
    "%matplotlib inline"
   ]
  },
  {
   "cell_type": "code",
   "execution_count": null,
   "id": "4c20a1b9",
   "metadata": {
    "id": "4c20a1b9"
   },
   "outputs": [],
   "source": [
    "digits_dict = datasets.load_digits()\n",
    "print(digits_dict[\"DESCR\"])"
   ]
  },
  {
   "cell_type": "code",
   "execution_count": null,
   "id": "eb5e310c",
   "metadata": {
    "id": "eb5e310c"
   },
   "outputs": [],
   "source": [
    "# informacion de las columnas\n",
    "digits_dict.keys()"
   ]
  },
  {
   "cell_type": "code",
   "execution_count": null,
   "id": "3214cfd9",
   "metadata": {
    "id": "3214cfd9"
   },
   "outputs": [],
   "source": [
    "# informacion del target\n",
    "digits_dict[\"target\"]"
   ]
  },
  {
   "cell_type": "markdown",
   "id": "698e2e43",
   "metadata": {
    "id": "698e2e43"
   },
   "source": [
    "A continuación se crea dataframe declarado como `digits` con los datos de `digits_dict` tal que tenga 65 columnas, las 6 primeras a la representación de la imagen en escala de grises (0-blanco, 255-negro) y la última correspondiente al dígito (`target`) con el nombre _target_."
   ]
  },
  {
   "cell_type": "code",
   "execution_count": null,
   "id": "a2018b00",
   "metadata": {
    "id": "a2018b00"
   },
   "outputs": [],
   "source": [
    "# leer datos\n",
    "digits = (\n",
    "    pd.DataFrame(\n",
    "        digits_dict[\"data\"],\n",
    "    )\n",
    "    .rename(columns=lambda x: f\"c{x:02d}\")\n",
    "    .assign(target=digits_dict[\"target\"])\n",
    "    .astype(int)\n",
    ")\n",
    "\n",
    "digits.head()"
   ]
  },
  {
   "cell_type": "markdown",
   "id": "11767261",
   "metadata": {
    "id": "11767261"
   },
   "source": [
    "### Ejercicio 1\n",
    "**Análisis exploratorio:** Realiza tu análisis exploratorio, no debes olvidar nada! Recuerda, cada análisis debe responder una pregunta.\n",
    "\n",
    "Algunas sugerencias:\n",
    "\n",
    "* ¿Cómo se distribuyen los datos?\n",
    "* ¿Cuánta memoria estoy utilizando?\n",
    "* ¿Qué tipo de datos son?\n",
    "* ¿Cuántos registros por clase hay?\n",
    "* ¿Hay registros que no se correspondan con tu conocimiento previo de los datos?"
   ]
  },
  {
   "cell_type": "code",
   "execution_count": null,
   "id": "2cd3eb53",
   "metadata": {
    "id": "2cd3eb53"
   },
   "outputs": [],
   "source": [
    "# FIXME"
   ]
  },
  {
   "cell_type": "markdown",
   "id": "73e45cec",
   "metadata": {
    "id": "73e45cec"
   },
   "source": [
    "### Ejercicio 2\n",
    "**Visualización:** Para visualizar los datos utilizaremos el método `imshow` de `matplotlib`. Resulta necesario convertir el arreglo desde las dimensiones (1,64)  a (8,8) para que la imagen sea cuadrada y pueda distinguirse el dígito. Superpondremos además el label correspondiente al dígito, mediante el método `text`. Esto nos permitirá comparar la imagen generada con la etiqueta asociada a los valores. Realizaremos lo anterior para los primeros 25 datos del archivo."
   ]
  },
  {
   "cell_type": "code",
   "execution_count": null,
   "id": "f5d60d0f",
   "metadata": {
    "id": "f5d60d0f"
   },
   "outputs": [],
   "source": [
    "digits_dict[\"images\"][0]"
   ]
  },
  {
   "cell_type": "markdown",
   "id": "b91c9bf4",
   "metadata": {
    "id": "b91c9bf4"
   },
   "source": [
    "Visualiza imágenes de los dígitos utilizando la llave `images` de `digits_dict`.\n",
    "\n",
    "> **Sugerencia**: Utiliza `plt.subplots` y el método `imshow`. Puedes hacer una grilla de varias imágenes al mismo tiempo!"
   ]
  },
  {
   "cell_type": "code",
   "execution_count": null,
   "id": "4d161dae",
   "metadata": {
    "id": "4d161dae"
   },
   "outputs": [],
   "source": [
    "nx, ny = 5, 5\n",
    "fig, axs = plt.subplots(nx, ny, figsize=(12, 12))\n",
    "## FIXME"
   ]
  },
  {
   "cell_type": "markdown",
   "id": "972fecb6",
   "metadata": {
    "id": "972fecb6"
   },
   "source": [
    "### Ejercicio 3\n",
    "\n",
    "**Machine Learning**: En esta parte usted debe entrenar los distintos modelos escogidos desde la librería de `skelearn`. Para cada modelo, debe realizar los siguientes pasos:\n",
    "\n",
    "* **train-test**\n",
    "     * Crear conjunto de entrenamiento y testeo (usted determine las proporciones adecuadas).\n",
    "     * Imprimir por pantalla el largo del conjunto de entrenamiento y de testeo.\n",
    "  \n",
    "* **modelo**:\n",
    "     * Instanciar el modelo objetivo desde la librería sklearn.\n",
    "\n",
    "* **Métricas**:\n",
    "     * Graficar matriz de confusión.\n",
    "     * Analizar métricas de error.\n",
    "\n",
    "\n",
    "\n",
    "__Preguntas a responder:__\n",
    "\n",
    "* ¿Cuál modelo es mejor basado en sus métricas?\n",
    "* ¿Cuál modelo demora menos tiempo en ajustarse?\n",
    "* ¿Qué modelo escoges?\n"
   ]
  },
  {
   "cell_type": "code",
   "execution_count": null,
   "id": "81c11dae",
   "metadata": {
    "id": "81c11dae"
   },
   "outputs": [],
   "source": [
    "# features, target\n",
    "\n",
    "X = digits.drop(columns=\"target\").values\n",
    "y = digits[\"target\"].values"
   ]
  },
  {
   "cell_type": "markdown",
   "id": "f53afd2b",
   "metadata": {
    "id": "f53afd2b"
   },
   "source": [
    "### Ejercicio 4\n",
    "\n",
    "__Comprensión del modelo:__ Tomando en cuenta el **mejor modelo entontrado** en el `Ejercicio 3`, debe comprender e interpretar minuciosamente los resultados y gráficos asocados al modelo en estudio, para ello debe resolver los siguientes puntos:\n",
    "\n",
    "\n",
    " * **Curva AUC–ROC**: Replica el ejemplo del siguiente  [link](https://scikit-learn.org/stable/auto_examples/model_selection/plot_roc.html#sphx-glr-auto-examples-model-selection-plot-roc-py) pero con el modelo, parámetros y métrica adecuada. Saque conclusiones del gráfico."
   ]
  },
  {
   "cell_type": "code",
   "execution_count": null,
   "id": "5b7d6ee5",
   "metadata": {
    "id": "5b7d6ee5"
   },
   "outputs": [],
   "source": [
    "# FIXME"
   ]
  },
  {
   "cell_type": "markdown",
   "id": "528c1506",
   "metadata": {
    "id": "528c1506"
   },
   "source": [
    "### Ejercicio 5\n",
    "\n",
    "\n",
    "__Visualizando Resultados:__ A continuación se provee código para comparar las etiquetas predichas vs las etiquetas reales del conjunto de _test_."
   ]
  },
  {
   "cell_type": "code",
   "execution_count": null,
   "id": "d13bf1ad",
   "metadata": {
    "id": "d13bf1ad"
   },
   "outputs": [],
   "source": [
    "def mostrar_resultados(digits, model, nx=5, ny=5, label=\"correctos\"):\n",
    "    \"\"\"\n",
    "    Muestra los resultados de las predicciones de un modelo de clasificación en particular.\n",
    "    Se toman aleatoriamente los valores de los resultados.\n",
    "\n",
    "    - label == 'correctos': muestra los valores en los que el modelo acierta.\n",
    "    - label == 'incorrectos': muestra los valores en los que el modelo no acierta.\n",
    "\n",
    "    Observación: El modelo que se recibe como argumento no debe estar entrenado.\n",
    "\n",
    "    :param digits: dataset 'digits'\n",
    "    :param model: modelo de sklearn\n",
    "    :param nx: número de filas (subplots)\n",
    "    :param ny: número de columnas (subplots)\n",
    "    :param label: 'correctos' o 'incorrectos'\n",
    "    :return: gráficos matplotlib\n",
    "    \"\"\"\n",
    "\n",
    "    X = digits.drop(columns=\"target\").values\n",
    "    y = digits[\"target\"].values\n",
    "    X_train, X_test, y_train, y_test = train_test_split(X, y, test_size=0.2, random_state=42)\n",
    "    model.fit(X_train, y_train)  # Ajustar el modelo\n",
    "    y_pred = model.predict(X_test)\n",
    "\n",
    "    # Mostrar los datos correctos\n",
    "    if label == \"correctos\":\n",
    "        mask = (y_pred == y_test)\n",
    "        color = \"green\"\n",
    "\n",
    "    # Mostrar los datos incorrectos\n",
    "    elif label == \"incorrectos\":\n",
    "        mask = (y_pred != y_test)\n",
    "        color = \"red\"\n",
    "\n",
    "    else:\n",
    "        raise ValueError(\"Valor incorrecto\")\n",
    "\n",
    "    X_aux = X_test[mask]\n",
    "    y_aux_true = y_test[mask]\n",
    "    y_aux_pred = y_pred[mask]\n",
    "\n",
    "    # Mostrar los resultados\n",
    "    n_samples = min(nx * ny, len(X_aux))\n",
    "    indices = np.random.choice(len(X_aux), n_samples, replace=False)\n",
    "    fig, ax = plt.subplots(nx, ny, figsize=(12, 12))\n",
    "\n",
    "    for i, index in enumerate(indices):\n",
    "        data = X_aux[index, :].reshape(8, 8)\n",
    "        label_pred = str(int(y_aux_pred[index]))\n",
    "        label_true = str(int(y_aux_true[index]))\n",
    "        row = i // ny\n",
    "        col = i % ny\n",
    "        ax[row, col].imshow(data, interpolation='nearest', cmap='gray_r')\n",
    "        ax[row, col].text(0, 0, label_pred, horizontalalignment='center', verticalalignment='center', fontsize=10, color=color)\n",
    "        ax[row, col].text(7, 0, label_true, horizontalalignment='center', verticalalignment='center', fontsize=10, color='blue')\n",
    "        ax[row, col].get_xaxis().set_visible(False)\n",
    "        ax[row, col].get_yaxis().set_visible(False)\n",
    "\n",
    "    plt.show()"
   ]
  },
  {
   "cell_type": "markdown",
   "id": "9c7e3382",
   "metadata": {
    "id": "9c7e3382"
   },
   "source": [
    "**Pregunta**\n",
    "\n",
    "* Tomando en cuenta el mejor modelo entontrado en el `Ejercicio 3`, grafique los resultados cuando:\n",
    " * el valor predicho y original son iguales\n",
    " * el valor predicho y original son distintos\n",
    "\n",
    "\n",
    "* Cuando el valor predicho y original son distintos ,  ¿Por qué ocurren estas fallas?"
   ]
  },
  {
   "cell_type": "code",
   "execution_count": null,
   "id": "5a928580",
   "metadata": {
    "id": "5a928580"
   },
   "outputs": [],
   "source": [
    "# FIXME"
   ]
  },
  {
   "cell_type": "markdown",
   "id": "87f3d6e7",
   "metadata": {
    "id": "87f3d6e7"
   },
   "source": [
    "### Ejercicio 6\n",
    "**Conclusiones**: Entrega tu veredicto, responde las preguntas iniciales, visualizaciones, trabajos futuros, dificultades, etc."
   ]
  }
 ],
 "metadata": {
  "colab": {
   "provenance": []
  },
  "kernelspec": {
   "display_name": "Python 3 (ipykernel)",
   "language": "python",
   "name": "python3"
  },
  "language_info": {
   "codemirror_mode": {
    "name": "ipython",
    "version": 3
   },
   "file_extension": ".py",
   "mimetype": "text/x-python",
   "name": "python",
   "nbconvert_exporter": "python",
   "pygments_lexer": "ipython3",
   "version": "3.10.11"
  }
 },
 "nbformat": 4,
 "nbformat_minor": 5
}
