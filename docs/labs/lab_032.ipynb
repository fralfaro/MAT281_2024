{
 "cells": [
  {
   "cell_type": "markdown",
   "id": "64fe4451",
   "metadata": {},
   "source": [
    "<a href=\"https://colab.research.google.com/github/fralfaro/MAT281_2024/blob/main/docs/labs/lab_032.ipynb\" target=\"_parent\"><img src=\"https://colab.research.google.com/assets/colab-badge.svg\" alt=\"Open In Colab\"/></a>\n",
    "\n",
    "# MAT281 - Laboratorio N°032\n"
   ]
  },
  {
   "cell_type": "markdown",
   "id": "63a15921",
   "metadata": {},
   "source": [
    "Esta semana revisaremos datos del **Índice de Libertad de Prensa** que confecciona cada año la asociación de Reporteros Sin Fronteras.\n",
    "\n",
    "\n",
    "## Diccionario de datos\n",
    "\n",
    "\n",
    "|Variable       |Clase               |Descripción |\n",
    "|:--------------|:-------------------|:-----------|\n",
    "| codigo_iso | caracter | Código ISO del país |\n",
    "| pais | caracter | País |\n",
    "| anio | entero | Año del resultado |\n",
    "| indice | entero | Puntaje Índice Libertad de Prensa (menor puntaje = mayor libertad de prensa) |\n",
    "| ranking | entero | Ranking Libertad de Prensa |\n",
    "\n",
    "\n",
    "## Fuente original y adaptación\n",
    "Los datos fueron extraídos de [The World Bank](https://tcdata360.worldbank.org/indicators/h3f86901f?country=BRA&indicator=32416&viz=line_chart&years=2001,2019). La fuente original es [Reporteros sin Fronteras](https://www.rsf-es.org/). \n",
    "\n",
    "Por otro lado, estos archivos han sido modificado intencionalmente para ocupar todo lo aprendido en clases. A continuación, una breve descripción de cada uno de los data frames:\n",
    "\n",
    "* **libertad_prensa_codigo.csv**: contiene la información codigo_iso/pais. Existe un código que tiene dos valores.\n",
    "* **libertad_prensa_01.csv**: contiene la información pais/anio/indice/ranking. Los nombres de las columnas estan en mayúscula (hatas el año 2010).\n",
    "* **libertad_prensa_02.csv**: contiene la información pais/anio/indice/ranking. Los nombres de las columnas estan en mayúscula (después del año 2010).\n",
    "\n",
    "\n"
   ]
  },
  {
   "cell_type": "code",
   "execution_count": 4,
   "id": "ed417506",
   "metadata": {},
   "outputs": [],
   "source": [
    "import numpy as np \n",
    "import pandas as pd\n",
    "\n",
    "from os import listdir"
   ]
  },
  {
   "cell_type": "code",
   "execution_count": 8,
   "id": "28a58320",
   "metadata": {},
   "outputs": [],
   "source": [
    "path = \"data/libertad_prensa/\"\n",
    "\n",
    "archivos_anio = [path + f for f in listdir(path) if 'libertad_prensa_codigo' not in f ] \n",
    "df_codigos = pd.read_csv(path + 'libertad_prensa_codigo.csv')"
   ]
  },
  {
   "cell_type": "markdown",
   "id": "0894056d",
   "metadata": {},
   "source": [
    " El objetivo es tratar de obtener la mayor información posible de este conjunto de datos. Para cumplir este objetivo debe resolver las siguientes problemáticas:\n",
    " \n",
    "1. Lo primero será juntar toda la información en un _solo archivo_, para ello necesitamos seguir los siguientes pasos:\n",
    "\n",
    " * a) Crear el archivo **df_anio**, que contenga la información de **libertad_prensa_anio.csv** para cada año. Luego, normalice el nombre de las columnas a minúscula.\n",
    " * b) Encuentre y elimine el dato que esta duplicado en el archivo **df_codigo**.\n",
    " * c) Crear el archivo **df** que junte la información del archivo **df_anio** con **df_codigo** por la columna _codigo_iso_.\n",
    " \n",
    "> **Hint**: Para juntar por _anio_ ocupe la función **pd.concat**. Para juntar información por columna ocupe **pd.merge**."
   ]
  },
  {
   "cell_type": "code",
   "execution_count": 10,
   "id": "6993e29c",
   "metadata": {},
   "outputs": [
    {
     "data": {
      "text/html": [
       "<div>\n",
       "<style scoped>\n",
       "    .dataframe tbody tr th:only-of-type {\n",
       "        vertical-align: middle;\n",
       "    }\n",
       "\n",
       "    .dataframe tbody tr th {\n",
       "        vertical-align: top;\n",
       "    }\n",
       "\n",
       "    .dataframe thead th {\n",
       "        text-align: right;\n",
       "    }\n",
       "</style>\n",
       "<table border=\"1\" class=\"dataframe\">\n",
       "  <thead>\n",
       "    <tr style=\"text-align: right;\">\n",
       "      <th></th>\n",
       "      <th>CODIGO_ISO</th>\n",
       "      <th>ANIO</th>\n",
       "      <th>INDICE</th>\n",
       "      <th>RANKING</th>\n",
       "    </tr>\n",
       "  </thead>\n",
       "  <tbody>\n",
       "    <tr>\n",
       "      <th>0</th>\n",
       "      <td>AFG</td>\n",
       "      <td>2001</td>\n",
       "      <td>35.50</td>\n",
       "      <td>59.0</td>\n",
       "    </tr>\n",
       "    <tr>\n",
       "      <th>1</th>\n",
       "      <td>AGO</td>\n",
       "      <td>2001</td>\n",
       "      <td>30.20</td>\n",
       "      <td>50.0</td>\n",
       "    </tr>\n",
       "    <tr>\n",
       "      <th>2</th>\n",
       "      <td>ALB</td>\n",
       "      <td>2001</td>\n",
       "      <td>NaN</td>\n",
       "      <td>NaN</td>\n",
       "    </tr>\n",
       "    <tr>\n",
       "      <th>3</th>\n",
       "      <td>AND</td>\n",
       "      <td>2001</td>\n",
       "      <td>NaN</td>\n",
       "      <td>NaN</td>\n",
       "    </tr>\n",
       "    <tr>\n",
       "      <th>4</th>\n",
       "      <td>ARE</td>\n",
       "      <td>2001</td>\n",
       "      <td>NaN</td>\n",
       "      <td>NaN</td>\n",
       "    </tr>\n",
       "    <tr>\n",
       "      <th>...</th>\n",
       "      <td>...</td>\n",
       "      <td>...</td>\n",
       "      <td>...</td>\n",
       "      <td>...</td>\n",
       "    </tr>\n",
       "    <tr>\n",
       "      <th>175</th>\n",
       "      <td>WSM</td>\n",
       "      <td>2019</td>\n",
       "      <td>18.25</td>\n",
       "      <td>22.0</td>\n",
       "    </tr>\n",
       "    <tr>\n",
       "      <th>176</th>\n",
       "      <td>YEM</td>\n",
       "      <td>2019</td>\n",
       "      <td>61.66</td>\n",
       "      <td>168.0</td>\n",
       "    </tr>\n",
       "    <tr>\n",
       "      <th>177</th>\n",
       "      <td>ZAF</td>\n",
       "      <td>2019</td>\n",
       "      <td>22.19</td>\n",
       "      <td>31.0</td>\n",
       "    </tr>\n",
       "    <tr>\n",
       "      <th>178</th>\n",
       "      <td>ZMB</td>\n",
       "      <td>2019</td>\n",
       "      <td>36.38</td>\n",
       "      <td>119.0</td>\n",
       "    </tr>\n",
       "    <tr>\n",
       "      <th>179</th>\n",
       "      <td>ZWE</td>\n",
       "      <td>2019</td>\n",
       "      <td>42.23</td>\n",
       "      <td>127.0</td>\n",
       "    </tr>\n",
       "  </tbody>\n",
       "</table>\n",
       "<p>3060 rows × 4 columns</p>\n",
       "</div>"
      ],
      "text/plain": [
       "    CODIGO_ISO  ANIO  INDICE  RANKING\n",
       "0          AFG  2001   35.50     59.0\n",
       "1          AGO  2001   30.20     50.0\n",
       "2          ALB  2001     NaN      NaN\n",
       "3          AND  2001     NaN      NaN\n",
       "4          ARE  2001     NaN      NaN\n",
       "..         ...   ...     ...      ...\n",
       "175        WSM  2019   18.25     22.0\n",
       "176        YEM  2019   61.66    168.0\n",
       "177        ZAF  2019   22.19     31.0\n",
       "178        ZMB  2019   36.38    119.0\n",
       "179        ZWE  2019   42.23    127.0\n",
       "\n",
       "[3060 rows x 4 columns]"
      ]
     },
     "execution_count": 10,
     "metadata": {},
     "output_type": "execute_result"
    }
   ],
   "source": [
    "# creamos el dataframe con la información de todos los años\n",
    "anios = []\n",
    "for name in archivos_anio:\n",
    "    df_temp = pd.read_csv(name)\n",
    "    anios.append(df_temp)\n",
    "\n",
    "df_anio = pd.concat(anios)\n",
    "df_anio"
   ]
  },
  {
   "cell_type": "code",
   "execution_count": 18,
   "id": "0eb24bd2",
   "metadata": {},
   "outputs": [],
   "source": [
    "df_01 = df_anio.loc[lambda x: x['ANIO']<2010]\n",
    "df_02 = df_anio.loc[lambda x: x['ANIO']>=2010]\n",
    "\n",
    "df_01.to_csv('data/libertad_prensa_01.csv',sep=',',index=False)\n",
    "df_02.to_csv('data/libertad_prensa_02.csv',sep=',',index=False)"
   ]
  },
  {
   "cell_type": "code",
   "execution_count": null,
   "id": "cfd268a0",
   "metadata": {},
   "outputs": [],
   "source": [
    "# FIXME"
   ]
  },
  {
   "cell_type": "markdown",
   "id": "282e8301",
   "metadata": {},
   "source": [
    "2. Encontrar:\n",
    "   * ¿Cuál es el número de observaciones en el conjunto de datos?   \n",
    "   * ¿Cuál es el número de columnas en el conjunto de datos?   \n",
    "   * Imprime el nombre de todas las columnas  \n",
    "   * ¿Cuál es el tipo de datos de cada columna? \n",
    "   * Describir el conjunto de datos (**hint**: .describe())\n",
    "    "
   ]
  },
  {
   "cell_type": "code",
   "execution_count": null,
   "id": "14369830",
   "metadata": {},
   "outputs": [],
   "source": [
    "# FIXME"
   ]
  },
  {
   "cell_type": "markdown",
   "id": "6ebfbbea",
   "metadata": {},
   "source": [
    "3. Desarrolle una función `resumen_df(df)` para encontrar el total de elementos distintos y vacíos por columnas."
   ]
  },
  {
   "cell_type": "code",
   "execution_count": null,
   "id": "b571f6da",
   "metadata": {},
   "outputs": [],
   "source": [
    "# respuesta\n",
    "\n",
    "def resumen_df(df):\n",
    "    \"\"\"\n",
    "    funcion resumen con elementos distintos y vacios\n",
    "    por columnas\n",
    "    \"\"\"\n",
    "    nombres = df.columns\n",
    "    \n",
    "    result = pd.DataFrame({'nombres': nombres})\n",
    "    result['elementos_distintos'] = 0\n",
    "    result['elementos_vacios'] = 0\n",
    "    \n",
    "    return result"
   ]
  },
  {
   "cell_type": "code",
   "execution_count": null,
   "id": "4ceaaaa4",
   "metadata": {},
   "outputs": [],
   "source": [
    "# retornar \n",
    "resumen_df(df)"
   ]
  },
  {
   "cell_type": "markdown",
   "id": "98efcc39",
   "metadata": {},
   "source": [
    "4. Para los paises latinoamericano, encuentre por año  el país con mayor y menor `indice`.\n",
    "\n",
    " * a) Mediante un ciclo _for_.\n",
    " * b) Mediante un  _groupby_."
   ]
  },
  {
   "cell_type": "code",
   "execution_count": null,
   "id": "9077a9bc",
   "metadata": {},
   "outputs": [],
   "source": [
    "# respuesta\n",
    "\n",
    "america = ['ARG', 'ATG', 'BLZ', 'BOL', 'BRA', 'CAN', 'CHL', 'COL', 'CRI',\n",
    "       'CUB', 'DOM', 'ECU', 'GRD', 'GTM', 'GUY', 'HND', 'HTI', 'JAM',\n",
    "       'MEX', 'NIC', 'PAN', 'PER', 'PRY', 'SLV', 'SUR', 'TTO', 'URY',\n",
    "       'USA', 'VEN']\n",
    "\n",
    "df_america = # FIX ME"
   ]
  },
  {
   "cell_type": "markdown",
   "id": "91532f43",
   "metadata": {},
   "source": [
    "5. Para cada _país_, muestre el _indice_ máximo que alcanzo por _anio_. Para los datos nulos, rellene con el valor **0**.\n",
    "\n",
    "**Ejemplo**:\n",
    "\n",
    "<img src=\"https://drive.google.com/uc?export=view&id=1ob0qch1dsOjDOUuZXnCY0HU_3XPp19gV\" width = \"700\" align=\"center\"/>\n",
    "\n",
    "> **Hint**: Utilice la función **pd.pivot_table**.\n",
    "\n"
   ]
  },
  {
   "cell_type": "code",
   "execution_count": null,
   "id": "c844a0a8",
   "metadata": {},
   "outputs": [],
   "source": [
    "# FIX ME"
   ]
  }
 ],
 "metadata": {
  "kernelspec": {
   "display_name": "Python 3 (ipykernel)",
   "language": "python",
   "name": "python3"
  },
  "language_info": {
   "codemirror_mode": {
    "name": "ipython",
    "version": 3
   },
   "file_extension": ".py",
   "mimetype": "text/x-python",
   "name": "python",
   "nbconvert_exporter": "python",
   "pygments_lexer": "ipython3",
   "version": "3.10.11"
  }
 },
 "nbformat": 4,
 "nbformat_minor": 5
}
