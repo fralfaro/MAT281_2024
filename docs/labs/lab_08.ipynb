{
 "cells": [
  {
   "cell_type": "markdown",
   "metadata": {},
   "source": [
    "<a href=\"https://colab.research.google.com/github/fralfaro/MAT281_2024/blob/main/docs/labs/lab_08.ipynb\" target=\"_parent\"><img src=\"https://colab.research.google.com/assets/colab-badge.svg\" alt=\"Open In Colab\"/></a>\n",
    "\n",
    "\n",
    "# MAT281 - Laboratorio N°08"
   ]
  },
  {
   "cell_type": "markdown",
   "metadata": {},
   "source": [
    "<a id='p1'></a>\n",
    "## I.- Problema 01\n",
    "\n",
    "\n",
    "<img src=\"https://www.svgrepo.com/show/253022/car.svg\" width = \"300\" align=\"center\"/>\n",
    "\n",
    "\n",
    "\n",
    "El conjunto de datos, denominado `vehiculos_procesado_con_grupos.csv`, contiene algunas de las características más importantes de los vehículos. El objetivo de este ejercicio es clasificar los vehículos en diferentes categorías, basándonos en las características que se describen a continuación. \n",
    "\n",
    "El desafío de este ejercicio radica en la combinación de variables numéricas y categóricas, lo que añade complejidad al análisis.\n",
    "\n",
    "Lo primero que haremos será cargar el conjunto de datos:\n",
    "\n",
    "**Descripción de los Datos:**\n",
    "\n",
    "| **Nombre de la Columna**   | **Descripción**                                                                                                                                   |\n",
    "|----------------------------|---------------------------------------------------------------------------------------------------------------------------------------------------|\n",
    "| **year**                   | El año en que el vehículo fue fabricado.                                                                                                          |\n",
    "| **desplazamiento**          | La capacidad volumétrica del motor en litros. Indica la cantidad de aire y combustible que puede desplazar el motor durante una revolución.       |\n",
    "| **cilindros**               | El número de cilindros que tiene el motor. Los cilindros son las cámaras donde ocurre la combustión interna en los motores de los vehículos.       |\n",
    "| **co2**                     | Emisiones de dióxido de carbono del vehículo, medido en gramos por kilómetro. Es una medida de las emisiones de gases de efecto invernadero.       |\n",
    "| **clase_tipo**              | La clase o tipo de vehículo, como vehículos especiales, deportivos, etc.                                                                         |\n",
    "| **traccion_tipo**           | Tipo de tracción del vehículo, ya sea tracción en dos ruedas, en cuatro ruedas o en todas las ruedas.                                             |\n",
    "| **transmision_tipo**        | Tipo de transmisión del vehículo, como automática, manual, entre otros.                                                                          |\n",
    "| **combustible_tipo**        | Tipo de combustible que utiliza el vehículo, como gasolina, diésel, eléctrico, híbrido, etc.                                                     |\n",
    "| **tamano_motor_tipo**       | Clasificación del tamaño del motor (por ejemplo, pequeño, mediano o grande), que generalmente se basa en la capacidad de desplazamiento.           |\n",
    "| **consumo_tipo**            | Clasificación del nivel de consumo de combustible del vehículo, indicando si es alto, bajo, o muy alto.                                           |\n",
    "| **co2_tipo**                | Clasificación de las emisiones de CO2 del vehículo, indicando si es alto, bajo, o muy alto.                                                       |\n",
    "| **consumo_litros_milla**    | El consumo de combustible del vehículo, medido en litros por milla. Indica la eficiencia del vehículo en términos de consumo de combustible.        |\n",
    "\n"
   ]
  },
  {
   "cell_type": "code",
   "execution_count": 4,
   "metadata": {},
   "outputs": [],
   "source": [
    "import numpy as np\n",
    "import pandas as pd\n",
    "import matplotlib.pyplot as plt\n",
    "import seaborn as sns\n",
    "\n",
    "from sklearn.preprocessing import MinMaxScaler\n",
    "from sklearn.dummy import DummyClassifier\n",
    "from sklearn.cluster import KMeans\n",
    "\n",
    "\n",
    "%matplotlib inline\n",
    "\n",
    "sns.set_palette(\"deep\", desat=.6)\n",
    "sns.set(rc={'figure.figsize':(11.7,8.27)})"
   ]
  },
  {
   "cell_type": "code",
   "execution_count": 5,
   "metadata": {},
   "outputs": [
    {
     "data": {
      "text/html": [
       "<div>\n",
       "<style scoped>\n",
       "    .dataframe tbody tr th:only-of-type {\n",
       "        vertical-align: middle;\n",
       "    }\n",
       "\n",
       "    .dataframe tbody tr th {\n",
       "        vertical-align: top;\n",
       "    }\n",
       "\n",
       "    .dataframe thead th {\n",
       "        text-align: right;\n",
       "    }\n",
       "</style>\n",
       "<table border=\"1\" class=\"dataframe\">\n",
       "  <thead>\n",
       "    <tr style=\"text-align: right;\">\n",
       "      <th></th>\n",
       "      <th>year</th>\n",
       "      <th>desplazamiento</th>\n",
       "      <th>cilindros</th>\n",
       "      <th>co2</th>\n",
       "      <th>clase_tipo</th>\n",
       "      <th>traccion_tipo</th>\n",
       "      <th>transmision_tipo</th>\n",
       "      <th>combustible_tipo</th>\n",
       "      <th>tamano_motor_tipo</th>\n",
       "      <th>consumo_tipo</th>\n",
       "      <th>co2_tipo</th>\n",
       "      <th>consumo_litros_milla</th>\n",
       "    </tr>\n",
       "  </thead>\n",
       "  <tbody>\n",
       "    <tr>\n",
       "      <th>0</th>\n",
       "      <td>1984</td>\n",
       "      <td>2.5</td>\n",
       "      <td>4.0</td>\n",
       "      <td>522.764706</td>\n",
       "      <td>Vehículos Especiales</td>\n",
       "      <td>dos</td>\n",
       "      <td>Automatica</td>\n",
       "      <td>Normal</td>\n",
       "      <td>pequeño</td>\n",
       "      <td>alto</td>\n",
       "      <td>alto</td>\n",
       "      <td>0.222671</td>\n",
       "    </tr>\n",
       "    <tr>\n",
       "      <th>1</th>\n",
       "      <td>1984</td>\n",
       "      <td>4.2</td>\n",
       "      <td>6.0</td>\n",
       "      <td>683.615385</td>\n",
       "      <td>Vehículos Especiales</td>\n",
       "      <td>dos</td>\n",
       "      <td>Automatica</td>\n",
       "      <td>Normal</td>\n",
       "      <td>grande</td>\n",
       "      <td>muy alto</td>\n",
       "      <td>muy alto</td>\n",
       "      <td>0.291185</td>\n",
       "    </tr>\n",
       "    <tr>\n",
       "      <th>2</th>\n",
       "      <td>1985</td>\n",
       "      <td>2.5</td>\n",
       "      <td>4.0</td>\n",
       "      <td>555.437500</td>\n",
       "      <td>Vehículos Especiales</td>\n",
       "      <td>dos</td>\n",
       "      <td>Automatica</td>\n",
       "      <td>Normal</td>\n",
       "      <td>pequeño</td>\n",
       "      <td>alto</td>\n",
       "      <td>alto</td>\n",
       "      <td>0.236588</td>\n",
       "    </tr>\n",
       "    <tr>\n",
       "      <th>3</th>\n",
       "      <td>1985</td>\n",
       "      <td>4.2</td>\n",
       "      <td>6.0</td>\n",
       "      <td>683.615385</td>\n",
       "      <td>Vehículos Especiales</td>\n",
       "      <td>dos</td>\n",
       "      <td>Automatica</td>\n",
       "      <td>Normal</td>\n",
       "      <td>grande</td>\n",
       "      <td>muy alto</td>\n",
       "      <td>muy alto</td>\n",
       "      <td>0.291185</td>\n",
       "    </tr>\n",
       "    <tr>\n",
       "      <th>4</th>\n",
       "      <td>1987</td>\n",
       "      <td>3.8</td>\n",
       "      <td>6.0</td>\n",
       "      <td>555.437500</td>\n",
       "      <td>Coches Medianos</td>\n",
       "      <td>dos</td>\n",
       "      <td>Automatica</td>\n",
       "      <td>Premium</td>\n",
       "      <td>grande</td>\n",
       "      <td>alto</td>\n",
       "      <td>alto</td>\n",
       "      <td>0.236588</td>\n",
       "    </tr>\n",
       "  </tbody>\n",
       "</table>\n",
       "</div>"
      ],
      "text/plain": [
       "   year  desplazamiento  cilindros         co2            clase_tipo  \\\n",
       "0  1984             2.5        4.0  522.764706  Vehículos Especiales   \n",
       "1  1984             4.2        6.0  683.615385  Vehículos Especiales   \n",
       "2  1985             2.5        4.0  555.437500  Vehículos Especiales   \n",
       "3  1985             4.2        6.0  683.615385  Vehículos Especiales   \n",
       "4  1987             3.8        6.0  555.437500       Coches Medianos   \n",
       "\n",
       "  traccion_tipo transmision_tipo combustible_tipo tamano_motor_tipo  \\\n",
       "0           dos       Automatica           Normal           pequeño   \n",
       "1           dos       Automatica           Normal            grande   \n",
       "2           dos       Automatica           Normal           pequeño   \n",
       "3           dos       Automatica           Normal            grande   \n",
       "4           dos       Automatica          Premium            grande   \n",
       "\n",
       "  consumo_tipo  co2_tipo  consumo_litros_milla  \n",
       "0         alto      alto              0.222671  \n",
       "1     muy alto  muy alto              0.291185  \n",
       "2         alto      alto              0.236588  \n",
       "3     muy alto  muy alto              0.291185  \n",
       "4         alto      alto              0.236588  "
      ]
     },
     "execution_count": 5,
     "metadata": {},
     "output_type": "execute_result"
    }
   ],
   "source": [
    "# cargar datos\n",
    "df = pd.read_csv(\"https://raw.githubusercontent.com/fralfaro/MAT281_2024/main/docs/labs/data/vehiculos_procesado_con_grupos.csv\", sep=\",\")\\\n",
    "       .drop(\n",
    "            [\"fabricante\", \n",
    "             \"modelo\",\n",
    "             \"transmision\", \n",
    "             \"traccion\", \n",
    "             \"clase\", \n",
    "             \"combustible\",\n",
    "             \"consumo\"], \n",
    "    \n",
    "          axis=1)\n",
    "\n",
    "df.head()"
   ]
  },
  {
   "cell_type": "markdown",
   "metadata": {},
   "source": [
    "En este caso, no solo se tienen datos numéricos, sino que también categóricos. Además, tenemos problemas de datos **vacíos (Nan)**. Así que para resolver este problema, seguiremos varios pasos:\n",
    "\n",
    "### 1.- Normalizar datos\n",
    "\n",
    "1. Cree un conjunto de datos con las variables numéricas, además, para cada dato vacía, rellene con el promedio asociado a esa columna. Finalmente, normalize los datos mediante el procesamiento **MinMaxScaler** de **sklearn**.\n",
    "\n",
    "2.-  Cree un conjunto de datos con las variables categóricas , además, transforme de variables categoricas a numericas ocupando el comando **get_dummies** de pandas ([referencia](https://pandas.pydata.org/pandas-docs/stable/reference/api/pandas.get_dummies.html)). Explique a grande rasgo como se realiza la codificación de variables numéricas a categóricas.\n",
    "\n",
    "3.- Junte ambos dataset en uno, llamado **df_procesado**. "
   ]
  },
  {
   "cell_type": "code",
   "execution_count": null,
   "metadata": {},
   "outputs": [],
   "source": [
    "# FIXME"
   ]
  },
  {
   "cell_type": "markdown",
   "metadata": {},
   "source": [
    "### 2.- Realizar ajuste mediante kmeans\n",
    "\n",
    "Una vez depurado el conjunto de datos, es momento de aplicar el algoritmo de **kmeans**.\n",
    "\n",
    "1. Ajuste el modelo de **kmeans** sobre el conjunto de datos, con un total de **8 clusters**.\n",
    "2. Asociar a cada individuo el correspondiente cluster y calcular valor de los centroides de cada cluster.\n",
    "3. Realizar un resumen de las principales cualidades de cada cluster. Para  esto debe calcular (para cluster) las siguientes medidas de resumen:\n",
    "    * Valor promedio de las variables numérica\n",
    "    * Moda para las variables numericas"
   ]
  },
  {
   "cell_type": "code",
   "execution_count": null,
   "metadata": {},
   "outputs": [],
   "source": [
    "# FIXME"
   ]
  },
  {
   "cell_type": "markdown",
   "metadata": {},
   "source": [
    "### 3.- Elegir Número de cluster\n",
    "\n",
    "Estime mediante la **regla del codo**, el número de cluster apropiados para el caso.\n",
    "Para efectos prácticos, eliga la siguiente secuencia como número de clusters a comparar:\n",
    "\n",
    "$$[5, 10, 20, 30, 50, 75, 100, 200, 300]$$\n",
    "\n",
    "Una vez realizado el gráfico, saque sus propias conclusiones del caso."
   ]
  },
  {
   "cell_type": "code",
   "execution_count": null,
   "metadata": {},
   "outputs": [],
   "source": [
    "# FIXME"
   ]
  },
  {
   "cell_type": "markdown",
   "metadata": {},
   "source": [
    "Al observar el gráfico resultante, se pueden obtener conclusiones sobre el número apropiado de clusters. La regla del codo sugiere elegir el número de clusters donde la reducción en la inercia se estabiliza significativamente. En otras palabras, se busca el punto en el gráfico donde la curva de inercia comienza a aplanarse o forma un codo."
   ]
  },
  {
   "cell_type": "markdown",
   "metadata": {},
   "source": [
    "## II.- Problema 02\n",
    "\n",
    "<img src=\"https://live.staticflickr.com/7866/47075467621_85ab810139_c.jpg\" align=\"center\"/>\n",
    "\n",
    "Para el conjunto de datos de **Iris**, se pide realizar una reducción de dimensionalidad ocupando las técnicas de PCA y TSNE (vistas en clases). \n",
    "\n"
   ]
  },
  {
   "cell_type": "code",
   "execution_count": null,
   "metadata": {},
   "outputs": [],
   "source": [
    "import pandas as pd\n",
    "from sklearn.datasets import load_iris\n",
    "from sklearn.decomposition import PCA\n",
    "from sklearn.manifold import TSNE\n",
    "\n",
    "import matplotlib.pyplot as plt\n",
    "from matplotlib.colors import ListedColormap\n",
    "from mpl_toolkits.mplot3d import Axes3D\n",
    "import seaborn as sns"
   ]
  },
  {
   "cell_type": "code",
   "execution_count": null,
   "metadata": {},
   "outputs": [],
   "source": [
    "dataset = load_iris()\n",
    "\n",
    "features = ['sepal_length', 'sepal_width', 'petal_length', 'petal_width']\n",
    "target = 'species'\n",
    "iris = pd.DataFrame(\n",
    "    dataset.data,\n",
    "    columns=features)\n",
    "\n",
    "iris['species'] = dataset.target\n",
    "iris.head()"
   ]
  },
  {
   "cell_type": "markdown",
   "metadata": {},
   "source": [
    "El objetivo es aplicar ambos algoritmos de la siguiente manera:\n",
    "\n",
    "* Análisis detallado algoritma PCA (tablas, gráficos, etc.)\n",
    "* Análisis detallado algoritma TSNE (tablas, gráficos, etc.)\n",
    "* Comparar ambos algoritmos (conclusiones del caso)"
   ]
  },
  {
   "cell_type": "code",
   "execution_count": null,
   "metadata": {},
   "outputs": [],
   "source": [
    "# FIXME"
   ]
  }
 ],
 "metadata": {
  "kernelspec": {
   "display_name": "docs-PxIqdmp3-py3.10",
   "language": "python",
   "name": "python3"
  },
  "language_info": {
   "codemirror_mode": {
    "name": "ipython",
    "version": 3
   },
   "file_extension": ".py",
   "mimetype": "text/x-python",
   "name": "python",
   "nbconvert_exporter": "python",
   "pygments_lexer": "ipython3",
   "version": "3.10.11"
  }
 },
 "nbformat": 4,
 "nbformat_minor": 4
}
