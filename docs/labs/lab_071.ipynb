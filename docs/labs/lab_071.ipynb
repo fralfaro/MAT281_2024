{
 "cells": [
  {
   "cell_type": "markdown",
   "id": "073b048d",
   "metadata": {
    "id": "073b048d"
   },
   "source": [
    "<a href=\"https://colab.research.google.com/github/fralfaro/MAT281_2024/blob/main/docs/labs/lab_071.ipynb\" target=\"_parent\"><img src=\"https://colab.research.google.com/assets/colab-badge.svg\" alt=\"Open In Colab\"/></a>\n",
    "\n",
    "# MAT281 - Laboratorio N°071\n",
    "\n",
    "\n",
    "<a id='p1'></a>\n",
    "## I.- Problema 01\n",
    "\n",
    "\n",
    "<img src=\"https://plus.unsplash.com/premium_photo-1661963439471-0d0eeb1330d4?fm=jpg&q=60&w=3000&ixlib=rb-4.0.3&ixid=M3wxMjA3fDB8MHxzZWFyY2h8MXx8Y2FsaWZvcm5pYSUyMGhvdXNlfGVufDB8fDB8fHww\" width = \"400\" align=\"center\"/>\n"
   ]
  },
  {
   "cell_type": "markdown",
   "id": "a2053628",
   "metadata": {
    "id": "a2053628"
   },
   "source": [
    "Los datos utilizados corresponden a propiedades localizadas en un distrito específico de California, junto con algunas estadísticas resumen extraídas del censo de 1990. Es importante tener en cuenta que los datos no han sido procesados previamente, por lo que será necesario realizar algunas etapas de limpieza y preprocesamiento.\n",
    "\n",
    "Las columnas incluidas en el conjunto de datos son las siguientes (sus nombres son descriptivos):\n",
    "\n",
    "* **longitude**: Longitud geográfica de la propiedad.\n",
    "* **latitude**: Latitud geográfica de la propiedad.\n",
    "* **housingmedianage**: Edad media de las viviendas en la zona.\n",
    "* **total_rooms**: Número total de habitaciones.\n",
    "* **total_bedrooms**: Número total de dormitorios.\n",
    "* **population**: Población en el área circundante.\n",
    "* **households**: Número de hogares en la zona.\n",
    "* **median_income**: Ingreso medio por hogar.\n",
    "* **medianhousevalue**: Valor medio de la propiedad.\n",
    "* **ocean_proximity**: Proximidad al océano.\n",
    "\n",
    "El objetivo de este análisis es predecir el valor medio de las propiedades utilizando las características proporcionadas.\n",
    "\n",
    "Para completar este laboratorio, se recomienda seguir la siguiente rúbrica de trabajo:\n",
    "\n",
    "1. **Definición del problema**: Clarificar el objetivo del análisis y los resultados esperados.\n",
    "2. **Estadística descriptiva**: Resumir las principales características de los datos a través de medidas estadísticas.\n",
    "3. **Visualización descriptiva**: Utilizar gráficos para explorar los datos y sus relaciones.\n",
    "4. **Preprocesamiento**: Realizar los pasos necesarios de limpieza y transformación de los datos.\n",
    "5. **Selección de modelo**: Comparar al menos cuatro modelos de predicción diferentes.\n",
    "6. **Métricas y análisis de resultados**: Evaluar el rendimiento de los modelos utilizando métricas apropiadas.\n",
    "7. **Visualización de resultados del modelo**: Crear gráficos que muestren el desempeño de los modelos.\n",
    "8. **Conclusiones**: Resumir los hallazgos del análisis.\n",
    "\n",
    "> **Nota**: Se anima a los estudiantes a desarrollar un análisis más profundo si lo desean. Pueden consultar como referencia el siguiente [enlace](https://www.kaggle.com/camnugent/california-housing-prices)."
   ]
  },
  {
   "cell_type": "code",
   "execution_count": null,
   "id": "cf950d11",
   "metadata": {
    "id": "cf950d11"
   },
   "outputs": [],
   "source": [
    "import pandas as pd\n",
    "import numpy as np\n",
    "import matplotlib.pyplot as plt\n",
    "import seaborn as sns"
   ]
  },
  {
   "cell_type": "code",
   "execution_count": null,
   "id": "38f1f3e7",
   "metadata": {
    "id": "38f1f3e7"
   },
   "outputs": [],
   "source": [
    "from sklearn.metrics import mean_absolute_error, mean_squared_error\n",
    "\n",
    "def mean_absolute_percentage_error(y_true, y_pred):\n",
    "    return np.mean(np.abs((y_true - y_pred) / y_true)) * 100\n",
    "\n",
    "def regression_metrics(df):\n",
    "    \"\"\"\n",
    "    Aplicar las distintas métricas definidas\n",
    "    :param df: DataFrame con las columnas: ['y', 'yhat']\n",
    "    :return: DataFrame con las métricas especificadas\n",
    "    \"\"\"\n",
    "    df_result = pd.DataFrame()\n",
    "\n",
    "    y_true = df['y']\n",
    "    y_pred = df['yhat']\n",
    "\n",
    "    df_result['mae'] = [round(mean_absolute_error(y_true, y_pred), 4)]\n",
    "    df_result['mse'] = [round(mean_squared_error(y_true, y_pred), 4)]\n",
    "    df_result['rmse'] = [round(np.sqrt(mean_squared_error(y_true, y_pred)), 4)]\n",
    "    df_result['mape'] = [round(mean_absolute_percentage_error(y_true, y_pred), 4)]\n",
    "    df_result['smape'] = [round(2 * mean_absolute_percentage_error(y_true, y_pred) / (mean_absolute_percentage_error(y_true, y_pred) + 100), 4)]\n",
    "\n",
    "    return df_result"
   ]
  },
  {
   "cell_type": "code",
   "execution_count": null,
   "id": "a8fa5144",
   "metadata": {
    "id": "a8fa5144",
    "outputId": "75e34f23-29eb-4069-8498-80b195638038"
   },
   "outputs": [
    {
     "data": {
      "text/html": [
       "<div>\n",
       "<style scoped>\n",
       "    .dataframe tbody tr th:only-of-type {\n",
       "        vertical-align: middle;\n",
       "    }\n",
       "\n",
       "    .dataframe tbody tr th {\n",
       "        vertical-align: top;\n",
       "    }\n",
       "\n",
       "    .dataframe thead th {\n",
       "        text-align: right;\n",
       "    }\n",
       "</style>\n",
       "<table border=\"1\" class=\"dataframe\">\n",
       "  <thead>\n",
       "    <tr style=\"text-align: right;\">\n",
       "      <th></th>\n",
       "      <th>MedInc</th>\n",
       "      <th>HouseAge</th>\n",
       "      <th>AveRooms</th>\n",
       "      <th>AveBedrms</th>\n",
       "      <th>Population</th>\n",
       "      <th>AveOccup</th>\n",
       "      <th>Latitude</th>\n",
       "      <th>Longitude</th>\n",
       "      <th>target</th>\n",
       "    </tr>\n",
       "  </thead>\n",
       "  <tbody>\n",
       "    <tr>\n",
       "      <th>0</th>\n",
       "      <td>8.3252</td>\n",
       "      <td>41.0</td>\n",
       "      <td>6.984127</td>\n",
       "      <td>1.023810</td>\n",
       "      <td>322.0</td>\n",
       "      <td>2.555556</td>\n",
       "      <td>37.88</td>\n",
       "      <td>-122.23</td>\n",
       "      <td>4.526</td>\n",
       "    </tr>\n",
       "    <tr>\n",
       "      <th>1</th>\n",
       "      <td>8.3014</td>\n",
       "      <td>21.0</td>\n",
       "      <td>6.238137</td>\n",
       "      <td>0.971880</td>\n",
       "      <td>2401.0</td>\n",
       "      <td>2.109842</td>\n",
       "      <td>37.86</td>\n",
       "      <td>-122.22</td>\n",
       "      <td>3.585</td>\n",
       "    </tr>\n",
       "    <tr>\n",
       "      <th>2</th>\n",
       "      <td>7.2574</td>\n",
       "      <td>52.0</td>\n",
       "      <td>8.288136</td>\n",
       "      <td>1.073446</td>\n",
       "      <td>496.0</td>\n",
       "      <td>2.802260</td>\n",
       "      <td>37.85</td>\n",
       "      <td>-122.24</td>\n",
       "      <td>3.521</td>\n",
       "    </tr>\n",
       "    <tr>\n",
       "      <th>3</th>\n",
       "      <td>5.6431</td>\n",
       "      <td>52.0</td>\n",
       "      <td>5.817352</td>\n",
       "      <td>1.073059</td>\n",
       "      <td>558.0</td>\n",
       "      <td>2.547945</td>\n",
       "      <td>37.85</td>\n",
       "      <td>-122.25</td>\n",
       "      <td>3.413</td>\n",
       "    </tr>\n",
       "    <tr>\n",
       "      <th>4</th>\n",
       "      <td>3.8462</td>\n",
       "      <td>52.0</td>\n",
       "      <td>6.281853</td>\n",
       "      <td>1.081081</td>\n",
       "      <td>565.0</td>\n",
       "      <td>2.181467</td>\n",
       "      <td>37.85</td>\n",
       "      <td>-122.25</td>\n",
       "      <td>3.422</td>\n",
       "    </tr>\n",
       "  </tbody>\n",
       "</table>\n",
       "</div>"
      ],
      "text/plain": [
       "   MedInc  HouseAge  AveRooms  AveBedrms  Population  AveOccup  Latitude  \\\n",
       "0  8.3252      41.0  6.984127   1.023810       322.0  2.555556     37.88   \n",
       "1  8.3014      21.0  6.238137   0.971880      2401.0  2.109842     37.86   \n",
       "2  7.2574      52.0  8.288136   1.073446       496.0  2.802260     37.85   \n",
       "3  5.6431      52.0  5.817352   1.073059       558.0  2.547945     37.85   \n",
       "4  3.8462      52.0  6.281853   1.081081       565.0  2.181467     37.85   \n",
       "\n",
       "   Longitude  target  \n",
       "0    -122.23   4.526  \n",
       "1    -122.22   3.585  \n",
       "2    -122.24   3.521  \n",
       "3    -122.25   3.413  \n",
       "4    -122.25   3.422  "
      ]
     },
     "execution_count": 3,
     "metadata": {},
     "output_type": "execute_result"
    }
   ],
   "source": [
    "from sklearn.datasets import fetch_california_housing\n",
    "\n",
    "# Cargar los datos de housing\n",
    "housing_data = fetch_california_housing(as_frame=True)\n",
    "\n",
    "# Convertir los datos en un DataFrame de pandas\n",
    "housing = housing_data['data']\n",
    "housing['target'] = housing_data['target']\n",
    "\n",
    "# Visualizar las primeras filas del DataFrame\n",
    "housing.head()"
   ]
  },
  {
   "cell_type": "code",
   "execution_count": null,
   "id": "dece8d1c",
   "metadata": {
    "id": "dece8d1c"
   },
   "outputs": [],
   "source": [
    "# FIXME"
   ]
  }
 ],
 "metadata": {
  "colab": {
   "provenance": []
  },
  "kernelspec": {
   "display_name": "Python 3 (ipykernel)",
   "language": "python",
   "name": "python3"
  },
  "language_info": {
   "codemirror_mode": {
    "name": "ipython",
    "version": 3
   },
   "file_extension": ".py",
   "mimetype": "text/x-python",
   "name": "python",
   "nbconvert_exporter": "python",
   "pygments_lexer": "ipython3",
   "version": "3.10.11"
  }
 },
 "nbformat": 4,
 "nbformat_minor": 5
}
