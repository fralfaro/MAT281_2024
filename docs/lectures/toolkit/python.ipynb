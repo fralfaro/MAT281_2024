{
 "cells": [
  {
   "cell_type": "markdown",
   "id": "969c4c2a",
   "metadata": {},
   "source": [
    "<a href=\"https://colab.research.google.com/github/fralfaro/MAT281_2023/blob/main/docs/lectures/basic_tools/bt_01.ipynb\" target=\"_parent\"><img src=\"https://colab.research.google.com/assets/colab-badge.svg\" alt=\"Open In Colab\"/></a>\n",
    "\n",
    "# Python\n",
    "\n",
    "<img src=\"https://upload.wikimedia.org/wikipedia/commons/thumb/c/c3/Python-logo-notext.svg/1200px-Python-logo-notext.svg.png\" width = \"200\" align=\"center\"/>"
   ]
  },
  {
   "cell_type": "markdown",
   "id": "fb3f826d",
   "metadata": {},
   "source": [
    "## Introducción\n",
    "\n",
    "\n",
    "**Python** es un lenguaje de programación interpretado y de alto nivel. Fue creado por Guido van Rossum y lanzado por primera vez en 1991. Python se destaca por su legibilidad y sintaxis clara, lo que lo hace ideal tanto para principiantes como para programadores experimentados.\n",
    "\n",
    "Una de las características más destacadas de Python es su filosofía de diseño, que enfatiza la legibilidad del código y la facilidad de uso. El lenguaje utiliza una sintaxis limpia y utiliza el espaciado en blanco de manera significativa para estructurar el código, lo que lo hace fácil de leer y entender.\n",
    "\n",
    "> 🔑 **Nota**: Para profundizar en conceptos básicos de Python, se recomienda estudiar del curso [Introducción a Python](https://fralfaro.github.io/python_intro/)."
   ]
  },
  {
   "cell_type": "markdown",
   "id": "4374db7c",
   "metadata": {},
   "source": [
    "## Nomenclatura\n",
    "\n",
    "<img src=\"https://cs.stanford.edu/people/nick/py/img/python-var3.svg\" width = \"500\" align=\"center\"/>"
   ]
  },
  {
   "cell_type": "markdown",
   "id": "a1e1d400",
   "metadata": {},
   "source": [
    "### Sintaxis\n",
    "\n",
    "**Hola mundo!**\n",
    "\n",
    "Escribamos nuestro primer programa de Python, \"¡Hola, mundo!\". Es un programa simple que imprime Hello World! en el dispositivo de salida estándar (pantalla)."
   ]
  },
  {
   "cell_type": "code",
   "execution_count": 1,
   "id": "04e05598",
   "metadata": {},
   "outputs": [
    {
     "name": "stdout",
     "output_type": "stream",
     "text": [
      "Hola Mundo!\n"
     ]
    }
   ],
   "source": [
    "# imprimir \"Hola Mundo!\"\n",
    "print(\"Hola Mundo!\");"
   ]
  },
  {
   "cell_type": "markdown",
   "id": "2874f087",
   "metadata": {},
   "source": [
    "**Variables**\n",
    "\n",
    "Las **variables** son contenedores que se utilizan para almacenar datos. Estos datos pueden ser números, cadenas de texto, listas, diccionarios, y más. En Python, no necesitas declarar el tipo de variable antes de asignarle un valor; el tipo de variable se determina automáticamente según el valor que se le asigne.\n",
    "\n",
    "Además, las variables pueden contener una amplia variedad de tipos de datos, que determinan el tipo de valores que pueden almacenar y las operaciones que se pueden realizar con ellos.\n"
   ]
  },
  {
   "cell_type": "code",
   "execution_count": 2,
   "id": "f8eddfa1",
   "metadata": {},
   "outputs": [
    {
     "name": "stdout",
     "output_type": "stream",
     "text": [
      "Valor de numero_entero: 10\n",
      "Valor de numero_flotante: 3.14\n",
      "Valor de nombre: Juan\n",
      "Valor de mensaje: Hola, mundo!\n",
      "Valor de verdadero: True\n",
      "Valor de falso: False\n",
      "Valor de mi_variable_nula: None\n"
     ]
    }
   ],
   "source": [
    "# Variables numéricas\n",
    "numero_entero = 10\n",
    "numero_flotante = 3.14\n",
    "\n",
    "# Variables de cadena de texto\n",
    "nombre = \"Juan\"\n",
    "mensaje = 'Hola, mundo!'\n",
    "\n",
    "# Variables booleanas\n",
    "verdadero = True\n",
    "falso = False\n",
    "\n",
    "# Variables nulas\n",
    "mi_variable_nula = None\n",
    "\n",
    "# Imprimiendo los valores de las variables\n",
    "print(\"Valor de numero_entero:\", numero_entero)\n",
    "print(\"Valor de numero_flotante:\", numero_flotante)\n",
    "print(\"Valor de nombre:\", nombre)\n",
    "print(\"Valor de mensaje:\", mensaje)\n",
    "print(\"Valor de verdadero:\", verdadero)\n",
    "print(\"Valor de falso:\", falso)\n",
    "print(\"Valor de mi_variable_nula:\", mi_variable_nula)"
   ]
  },
  {
   "cell_type": "markdown",
   "id": "2b6f83e3",
   "metadata": {},
   "source": [
    "### Operaciones\n",
    "\n",
    "Puedes realizar una variedad de operaciones en diferentes tipos de datos. Estas operaciones pueden ser aritméticas, de comparación, lógicas, de asignación, de pertenencia e identidad. A continuación, se describen los principales tipos de operaciones:"
   ]
  },
  {
   "cell_type": "markdown",
   "id": "2e551bbc",
   "metadata": {},
   "source": [
    "**Operaciones Aritméticas**\n",
    "\n",
    "Las operaciones aritméticas se utilizan para realizar cálculos matemáticos simples. Algunas de las operaciones aritméticas básicas incluyen:\n",
    "\n",
    "- Suma (+)\n",
    "- Resta (-)\n",
    "- Multiplicación (*)\n",
    "- División (/)\n",
    "- Potenciación (**)\n",
    "- División entera (//)\n",
    "- Módulo (%)"
   ]
  },
  {
   "cell_type": "code",
   "execution_count": 3,
   "id": "fa1c12be",
   "metadata": {},
   "outputs": [
    {
     "name": "stdout",
     "output_type": "stream",
     "text": [
      "Operaciones Aritméticas:\n",
      "Suma: 13\n",
      "Resta: 7\n",
      "Multiplicación: 30\n",
      "División: 3.3333333333333335\n",
      "Potenciación: 1000\n",
      "División entera: 3\n",
      "Módulo: 1\n"
     ]
    }
   ],
   "source": [
    "# Operaciones Aritméticas\n",
    "a = 10\n",
    "b = 3\n",
    "\n",
    "suma = a + b\n",
    "resta = a - b\n",
    "multiplicacion = a * b\n",
    "division = a / b\n",
    "potenciacion = a ** b\n",
    "division_entera = a // b\n",
    "modulo = a % b\n",
    "\n",
    "print(\"Operaciones Aritméticas:\")\n",
    "print(\"Suma:\", suma)\n",
    "print(\"Resta:\", resta)\n",
    "print(\"Multiplicación:\", multiplicacion)\n",
    "print(\"División:\", division)\n",
    "print(\"Potenciación:\", potenciacion)\n",
    "print(\"División entera:\", division_entera)\n",
    "print(\"Módulo:\", modulo)"
   ]
  },
  {
   "cell_type": "markdown",
   "id": "0a5d76f9",
   "metadata": {},
   "source": [
    "**Operaciones de Comparación**\n",
    "\n",
    "Las operaciones de comparación se utilizan para comparar valores y devolver un valor booleano (Verdadero o Falso). Algunas operaciones de comparación comunes son:\n",
    "\n",
    "- Igualdad (==)\n",
    "- Desigualdad (!=)\n",
    "- Mayor que (>)\n",
    "- Menor que (<)\n",
    "- Mayor o igual que (>=)\n",
    "- Menor o igual que (<=)"
   ]
  },
  {
   "cell_type": "code",
   "execution_count": 4,
   "id": "c2323017",
   "metadata": {},
   "outputs": [
    {
     "name": "stdout",
     "output_type": "stream",
     "text": [
      "Operaciones de Comparación:\n",
      "Igualdad: False\n",
      "Desigualdad: True\n",
      "Mayor que: True\n",
      "Menor que: False\n",
      "Mayor o igual que: True\n",
      "Menor o igual que: False\n"
     ]
    }
   ],
   "source": [
    "# Operaciones de Comparación\n",
    "igualdad = (a == b)\n",
    "desigualdad = (a != b)\n",
    "mayor_que = (a > b)\n",
    "menor_que = (a < b)\n",
    "mayor_igual = (a >= b)\n",
    "menor_igual = (a <= b)\n",
    "\n",
    "print(\"Operaciones de Comparación:\")\n",
    "print(\"Igualdad:\", igualdad)\n",
    "print(\"Desigualdad:\", desigualdad)\n",
    "print(\"Mayor que:\", mayor_que)\n",
    "print(\"Menor que:\", menor_que)\n",
    "print(\"Mayor o igual que:\", mayor_igual)\n",
    "print(\"Menor o igual que:\", menor_igual)"
   ]
  },
  {
   "cell_type": "markdown",
   "id": "3308cfb9",
   "metadata": {},
   "source": [
    "**Operaciones Lógicas**\n",
    "\n",
    "Las operaciones lógicas se utilizan para realizar operaciones booleanas en valores booleanos. Algunas operaciones lógicas comunes incluyen:\n",
    "\n",
    "- Y lógico (and)\n",
    "- O lógico (or)\n",
    "- Negación lógica (not)"
   ]
  },
  {
   "cell_type": "code",
   "execution_count": 5,
   "id": "bba2139d",
   "metadata": {},
   "outputs": [
    {
     "name": "stdout",
     "output_type": "stream",
     "text": [
      "Operaciones Lógicas:\n",
      "Y lógico: False\n",
      "O lógico: True\n",
      "Negación: False\n"
     ]
    }
   ],
   "source": [
    "# Operaciones Lógicas\n",
    "verdadero = True\n",
    "falso = False\n",
    "\n",
    "y_logico = verdadero and falso\n",
    "o_logico = verdadero or falso\n",
    "negacion = not verdadero\n",
    "\n",
    "print(\"Operaciones Lógicas:\")\n",
    "print(\"Y lógico:\", y_logico)\n",
    "print(\"O lógico:\", o_logico)\n",
    "print(\"Negación:\", negacion)"
   ]
  },
  {
   "cell_type": "markdown",
   "id": "92254965",
   "metadata": {},
   "source": [
    "**Operaciones de Asignación**\n",
    "\n",
    "Las operaciones de asignación se utilizan para asignar valores a variables. Algunas operaciones de asignación pueden combinar operaciones aritméticas con la asignación. Por ejemplo:"
   ]
  },
  {
   "cell_type": "code",
   "execution_count": 6,
   "id": "6f879dbf",
   "metadata": {},
   "outputs": [
    {
     "name": "stdout",
     "output_type": "stream",
     "text": [
      "Operaciones de Asignación:\n",
      "Valor de x después de la asignación: 7\n"
     ]
    }
   ],
   "source": [
    "# Operaciones de Asignación\n",
    "x = 5\n",
    "x += 2  # Equivalente a x = x + 2\n",
    "\n",
    "print(\"Operaciones de Asignación:\")\n",
    "print(\"Valor de x después de la asignación:\", x)"
   ]
  },
  {
   "cell_type": "markdown",
   "id": "15286304",
   "metadata": {},
   "source": [
    "**Operaciones con strings**\n",
    "\n",
    "Puedes realizar varias operaciones con cadenas de texto (strings) para manipular y trabajar con ellas de diversas formas. A continuación, se describen algunas operaciones comunes con ejemplos y resultados:\n"
   ]
  },
  {
   "cell_type": "code",
   "execution_count": 7,
   "id": "0d63e1f2",
   "metadata": {},
   "outputs": [
    {
     "name": "stdout",
     "output_type": "stream",
     "text": [
      "Concatenación: Hola mundo\n"
     ]
    }
   ],
   "source": [
    "cadena1 = \"Hola\"\n",
    "cadena2 = \"mundo\"\n",
    "\n",
    "# Concatenación de cadenas\n",
    "resultado_concatenacion = cadena1 + \" \" + cadena2\n",
    "print(\"Concatenación:\", resultado_concatenacion)"
   ]
  },
  {
   "cell_type": "code",
   "execution_count": 8,
   "id": "4094439b",
   "metadata": {},
   "outputs": [
    {
     "name": "stdout",
     "output_type": "stream",
     "text": [
      "Repetición: PythonPythonPython\n"
     ]
    }
   ],
   "source": [
    "cadena = \"Python\"\n",
    "# Repetición de una cadena\n",
    "resultado_repeticion = cadena * 3\n",
    "print(\"Repetición:\", resultado_repeticion)"
   ]
  },
  {
   "cell_type": "code",
   "execution_count": 9,
   "id": "b5f30d88",
   "metadata": {},
   "outputs": [
    {
     "name": "stdout",
     "output_type": "stream",
     "text": [
      "Indexación: P\n"
     ]
    }
   ],
   "source": [
    "# Indexación para obtener el primer carácter de la cadena\n",
    "primer_caracter = cadena[0]\n",
    "print(\"Indexación:\", primer_caracter)"
   ]
  },
  {
   "cell_type": "code",
   "execution_count": 10,
   "id": "d3d9c6af",
   "metadata": {},
   "outputs": [
    {
     "name": "stdout",
     "output_type": "stream",
     "text": [
      "Longitud: 6\n"
     ]
    }
   ],
   "source": [
    "# Obtención de la longitud de la cadena\n",
    "longitud = len(cadena)\n",
    "print(\"Longitud:\", longitud)"
   ]
  },
  {
   "cell_type": "code",
   "execution_count": 11,
   "id": "69a6cb2d",
   "metadata": {},
   "outputs": [
    {
     "name": "stdout",
     "output_type": "stream",
     "text": [
      "Slicing: tho\n"
     ]
    }
   ],
   "source": [
    "# Slicing para obtener una subcadena de la cadena original\n",
    "subcadena = cadena[2:5]\n",
    "print(\"Slicing:\", subcadena)"
   ]
  },
  {
   "cell_type": "markdown",
   "id": "47b013f4",
   "metadata": {},
   "source": [
    "## Control de Flujo\n",
    "\n",
    "<img src=\"https://snakebear.science/_images/if_elif_else_flowchart.svg\" width = \"600\" align=\"center\"/>"
   ]
  },
  {
   "cell_type": "markdown",
   "id": "816f7817",
   "metadata": {},
   "source": [
    "### Condicional if-elif-else\n",
    "\n",
    "Los condicionales `if`, `elif` y `else` son estructuras fundamentales en Python que te permiten ejecutar diferentes bloques de código dependiendo de ciertas condiciones. A continuación se explica cómo funcionan:\n",
    "\n",
    "**Estructura básica**\n",
    "\n",
    "La estructura básica de un condicional `if` es la siguiente:\n",
    "\n",
    "```python\n",
    "if condicion:\n",
    "    # Código a ejecutar si la condición es verdadera\n",
    "```\n",
    "\n",
    "Si la condición es verdadera, se ejecuta el bloque de código indentado debajo de la declaración `if`. Si la condición es falsa, este bloque de código se omite.\n",
    "\n",
    "**Condicional if-else**\n",
    "\n",
    "Puedes agregar un bloque `else` para ejecutar un código alternativo cuando la condición en el `if` es falsa:\n",
    "\n",
    "```python\n",
    "if condicion:\n",
    "    # Código a ejecutar si la condición es verdadera\n",
    "else:\n",
    "    # Código a ejecutar si la condición es falsa\n",
    "```\n",
    "\n",
    "**Condicional if-elif-else**\n",
    "\n",
    "Si tienes múltiples condiciones, puedes usar la estructura `elif` (abreviatura de \"else if\") para verificarlas en secuencia:\n",
    "\n",
    "```python\n",
    "if condicion1:\n",
    "    # Código a ejecutar si la condicion1 es verdadera\n",
    "elif condicion2:\n",
    "    # Código a ejecutar si la condicion2 es verdadera\n",
    "else:\n",
    "    # Código a ejecutar si ninguna de las condiciones anteriores es verdadera\n",
    "```\n",
    "\n",
    "**Ejemplo**"
   ]
  },
  {
   "cell_type": "code",
   "execution_count": 12,
   "id": "98f4d722",
   "metadata": {},
   "outputs": [
    {
     "name": "stdout",
     "output_type": "stream",
     "text": [
      "Eres adulto\n"
     ]
    }
   ],
   "source": [
    "edad = 20\n",
    "\n",
    "if edad < 18:\n",
    "    print(\"Eres menor de edad\")\n",
    "elif edad >= 18 and edad < 65:\n",
    "    print(\"Eres adulto\")\n",
    "else:\n",
    "    print(\"Eres un adulto mayor\")"
   ]
  },
  {
   "cell_type": "markdown",
   "id": "34c74217",
   "metadata": {},
   "source": [
    "### Bucle While\n",
    "\n",
    "El bucle `while` es una estructura de control que permite repetir un bloque de código mientras una condición especificada sea verdadera. A continuación se explica cómo funciona:\n",
    "\n",
    "**Estructura básica**\n",
    "\n",
    "La estructura básica de un bucle `while` es la siguiente:\n",
    "\n",
    "```python\n",
    "while condicion:\n",
    "    # Código a repetir mientras la condición sea verdadera\n",
    "```\n",
    "\n",
    "El bloque de código indentado debajo del `while` se ejecutará repetidamente mientras la condición sea verdadera. Una vez que la condición se evalúa como falsa, la ejecución del bucle se detiene y el programa continúa con la siguiente instrucción después del bucle.\n",
    "\n",
    "**Ejemplo**"
   ]
  },
  {
   "cell_type": "code",
   "execution_count": 13,
   "id": "e34c95de",
   "metadata": {},
   "outputs": [
    {
     "name": "stdout",
     "output_type": "stream",
     "text": [
      "El contador es: 0\n",
      "El contador es: 1\n",
      "El contador es: 2\n",
      "El contador es: 3\n",
      "El contador es: 4\n",
      "¡Bucle completado!\n"
     ]
    }
   ],
   "source": [
    "contador = 0\n",
    "\n",
    "while contador < 5:\n",
    "    print(\"El contador es:\", contador)\n",
    "    contador += 1\n",
    "\n",
    "print(\"¡Bucle completado!\")"
   ]
  },
  {
   "cell_type": "markdown",
   "id": "fb5d5b7b",
   "metadata": {},
   "source": [
    "### Ciclo `For` con la Función Range()\n",
    "\n",
    "El ciclo `for` se utiliza para iterar sobre una secuencia (como una lista, una tupla, un diccionario, etc.) y realizar una acción en cada elemento de la secuencia. La función `range()` es comúnmente utilizada junto con un ciclo `for` para generar una secuencia de números en un rango específico. A continuación se explica cómo funciona:\n",
    "\n",
    "**Estructura básica**\n",
    "\n",
    "La estructura básica de un ciclo `for` con `range()` es la siguiente:\n",
    "\n",
    "```python\n",
    "for variable in range(inicio, fin, paso):\n",
    "    # Código a ejecutar en cada iteración\n",
    "```\n",
    "\n",
    "La función `range()` genera una secuencia de números que comienza desde el valor de \"inicio\" hasta el valor de \"fin\" (sin incluirlo), con un incremento definido por el valor de \"paso\". El bloque de código indentado debajo del `for` se ejecutará una vez para cada valor en la secuencia generada por `range()`.\n",
    "\n",
    "**Ejemplo**"
   ]
  },
  {
   "cell_type": "code",
   "execution_count": 14,
   "id": "bf85ca84",
   "metadata": {},
   "outputs": [
    {
     "name": "stdout",
     "output_type": "stream",
     "text": [
      "El valor de i es: 0\n",
      "El valor de i es: 1\n",
      "El valor de i es: 2\n",
      "El valor de i es: 3\n",
      "El valor de i es: 4\n",
      "¡Ciclo completado!\n"
     ]
    }
   ],
   "source": [
    "for i in range(5):\n",
    "    print(\"El valor de i es:\", i)\n",
    "\n",
    "print(\"¡Ciclo completado!\")"
   ]
  },
  {
   "cell_type": "markdown",
   "id": "bf73867f",
   "metadata": {},
   "source": [
    "### Salir o Continuar un Ciclo \n",
    "\n",
    "Puedes controlar el flujo de ejecución de un ciclo `for` o `while` utilizando las palabras clave `break` y `continue`. Estas palabras clave te permiten detener la ejecución del ciclo de forma prematura o saltar a la siguiente iteración del ciclo, respectivamente. A continuación se explica cómo funcionan:\n",
    "\n",
    "**Salir de un Ciclo con `break`**\n",
    "\n",
    "La palabra clave `break` se utiliza para salir de un ciclo de forma prematura si se cumple una cierta condición. Cuando se encuentra una instrucción `break`, el ciclo se detiene inmediatamente y la ejecución del programa continúa con la primera instrucción después del ciclo.\n",
    "\n",
    "**Ejemplo**"
   ]
  },
  {
   "cell_type": "code",
   "execution_count": 15,
   "id": "a3f16fbb",
   "metadata": {},
   "outputs": [
    {
     "name": "stdout",
     "output_type": "stream",
     "text": [
      "El valor del contador es: 1\n",
      "El valor del contador es: 2\n",
      "El valor del contador es: 3\n",
      "El valor del contador es: 4\n",
      "¡El contador llegó a 5! Saliendo del ciclo.\n",
      "¡Ciclo completado!\n"
     ]
    }
   ],
   "source": [
    "# Ejemplo de salir de un ciclo con break\n",
    "\n",
    "contador = 0\n",
    "\n",
    "while True:\n",
    "    contador += 1\n",
    "\n",
    "    # Salir del ciclo si el contador llega a 5\n",
    "    if contador == 5:\n",
    "        print(\"¡El contador llegó a 5! Saliendo del ciclo.\")\n",
    "        break\n",
    "\n",
    "    print(\"El valor del contador es:\", contador)\n",
    "\n",
    "print(\"¡Ciclo completado!\")\n"
   ]
  },
  {
   "cell_type": "markdown",
   "id": "482816bf",
   "metadata": {},
   "source": [
    "**Continuar con la Siguiente Iteración con `continue`**\n",
    "\n",
    "La palabra clave `continue` se utiliza para saltar a la siguiente iteración del ciclo si se cumple una cierta condición. Cuando se encuentra una instrucción `continue`, el ciclo se detiene temporalmente y se pasa a la siguiente iteración del ciclo, omitiendo cualquier código restante dentro del bloque de ciclo para esa iteración en particular.\n",
    "\n",
    "**Ejemplo**"
   ]
  },
  {
   "cell_type": "code",
   "execution_count": 16,
   "id": "ca87267e",
   "metadata": {},
   "outputs": [
    {
     "name": "stdout",
     "output_type": "stream",
     "text": [
      "El valor del contador es: 1\n",
      "El contador es par. Continuando con la siguiente iteración.\n",
      "El valor del contador es: 3\n",
      "El contador es par. Continuando con la siguiente iteración.\n",
      "El valor del contador es: 5\n",
      "¡Ciclo completado!\n"
     ]
    }
   ],
   "source": [
    "# Ejemplo de continuar con la siguiente iteración con continue\n",
    "\n",
    "contador = 0\n",
    "\n",
    "while contador < 5:\n",
    "    contador += 1\n",
    "\n",
    "    # Saltar a la siguiente iteración si el contador es par\n",
    "    if contador % 2 == 0:\n",
    "        print(\"El contador es par. Continuando con la siguiente iteración.\")\n",
    "        continue\n",
    "\n",
    "    print(\"El valor del contador es:\", contador)\n",
    "\n",
    "print(\"¡Ciclo completado!\")\n"
   ]
  },
  {
   "cell_type": "markdown",
   "id": "b7e82bc4",
   "metadata": {},
   "source": [
    "## Estructura de datos\n",
    "\n",
    "<img src=\"https://miro.medium.com/v2/resize:fit:1400/1*Det-kkoSw9T4IZ4XrypVNQ.png\" width = \"700\" align=\"center\"/>"
   ]
  },
  {
   "cell_type": "markdown",
   "id": "bca83798",
   "metadata": {},
   "source": [
    "Existen varias estructuras de datos integradas que te permiten almacenar y organizar colecciones de elementos de diferentes maneras. Algunas de las estructuras de datos más comunes son las listas, las tuplas, los conjuntos y los diccionarios. A continuación, se explican cada una de ellas con ejemplos y resultados impresos."
   ]
  },
  {
   "cell_type": "markdown",
   "id": "8b3b120a",
   "metadata": {},
   "source": [
    "### Listas\n",
    "\n",
    "Una lista en Python es una colección ordenada y mutable de elementos. Puedes acceder a los elementos de una lista utilizando índices, y puedes modificar la lista agregando, eliminando o cambiando elementos."
   ]
  },
  {
   "cell_type": "code",
   "execution_count": 17,
   "id": "559b00b1",
   "metadata": {},
   "outputs": [
    {
     "name": "stdout",
     "output_type": "stream",
     "text": [
      "Lista vacía: []\n"
     ]
    }
   ],
   "source": [
    "# Crear una lista vacía\n",
    "lista_vacia = []\n",
    "print(\"Lista vacía:\", lista_vacia)"
   ]
  },
  {
   "cell_type": "code",
   "execution_count": 18,
   "id": "982bcab9",
   "metadata": {},
   "outputs": [
    {
     "name": "stdout",
     "output_type": "stream",
     "text": [
      "Lista mixta: [1, 'dos', 3.0, True]\n"
     ]
    }
   ],
   "source": [
    "# Crear una lista con elementos de diferentes tipos\n",
    "lista_mixta = [1, \"dos\", 3.0, True]\n",
    "print(\"Lista mixta:\", lista_mixta)"
   ]
  },
  {
   "cell_type": "code",
   "execution_count": 19,
   "id": "d07bccbc",
   "metadata": {},
   "outputs": [
    {
     "name": "stdout",
     "output_type": "stream",
     "text": [
      "Primer elemento: a\n",
      "Último elemento: e\n"
     ]
    }
   ],
   "source": [
    "# Acceder a elementos de una lista utilizando índices positivos y negativos\n",
    "mi_lista = ['a', 'b', 'c', 'd', 'e']\n",
    "print(\"Primer elemento:\", mi_lista[0])\n",
    "print(\"Último elemento:\", mi_lista[-1])"
   ]
  },
  {
   "cell_type": "code",
   "execution_count": 20,
   "id": "77b719d5",
   "metadata": {},
   "outputs": [
    {
     "name": "stdout",
     "output_type": "stream",
     "text": [
      "Rebanado: ['b', 'c']\n"
     ]
    }
   ],
   "source": [
    "# Rebanado (slicing) de listas\n",
    "print(\"Rebanado:\", mi_lista[1:3])"
   ]
  },
  {
   "cell_type": "code",
   "execution_count": 21,
   "id": "e4100a99",
   "metadata": {},
   "outputs": [
    {
     "name": "stdout",
     "output_type": "stream",
     "text": [
      "Lista modificada: ['z', 'b', 'c', 'd', 'e']\n"
     ]
    }
   ],
   "source": [
    "# Modificar elementos de una lista\n",
    "mi_lista[0] = 'z'\n",
    "print(\"Lista modificada:\", mi_lista)"
   ]
  },
  {
   "cell_type": "code",
   "execution_count": 22,
   "id": "3f17158d",
   "metadata": {},
   "outputs": [
    {
     "name": "stdout",
     "output_type": "stream",
     "text": [
      "Lista después de agregar un elemento: ['z', 'b', 'c', 'd', 'e', 'f']\n"
     ]
    }
   ],
   "source": [
    "# Agregar elementos a una lista\n",
    "mi_lista.append('f')\n",
    "print(\"Lista después de agregar un elemento:\", mi_lista)"
   ]
  },
  {
   "cell_type": "code",
   "execution_count": 23,
   "id": "9f71b441",
   "metadata": {},
   "outputs": [
    {
     "name": "stdout",
     "output_type": "stream",
     "text": [
      "Lista después de extenderla con otra lista: ['z', 'b', 'c', 'd', 'e', 'f', 'g', 'h', 'i']\n"
     ]
    }
   ],
   "source": [
    "# Extender una lista con otra lista\n",
    "mi_otra_lista = ['g', 'h', 'i']\n",
    "mi_lista.extend(mi_otra_lista)\n",
    "print(\"Lista después de extenderla con otra lista:\", mi_lista)"
   ]
  },
  {
   "cell_type": "code",
   "execution_count": 24,
   "id": "f2840775",
   "metadata": {},
   "outputs": [
    {
     "name": "stdout",
     "output_type": "stream",
     "text": [
      "Lista después de insertar un nuevo elemento: ['z', 'b', 'nuevo', 'c', 'd', 'e', 'f', 'g', 'h', 'i']\n"
     ]
    }
   ],
   "source": [
    "# Insertar un elemento en una posición específica\n",
    "mi_lista.insert(2, 'nuevo')\n",
    "print(\"Lista después de insertar un nuevo elemento:\", mi_lista)"
   ]
  },
  {
   "cell_type": "code",
   "execution_count": 25,
   "id": "4e54c3ad",
   "metadata": {},
   "outputs": [
    {
     "name": "stdout",
     "output_type": "stream",
     "text": [
      "Lista después de eliminar un elemento: ['z', 'b', 'nuevo', 'd', 'e', 'f', 'g', 'h', 'i']\n"
     ]
    }
   ],
   "source": [
    "# Eliminar un elemento de una lista\n",
    "mi_lista.remove('c')\n",
    "print(\"Lista después de eliminar un elemento:\", mi_lista)"
   ]
  },
  {
   "cell_type": "code",
   "execution_count": 26,
   "id": "757adeac",
   "metadata": {},
   "outputs": [
    {
     "name": "stdout",
     "output_type": "stream",
     "text": [
      "Último elemento eliminado: i\n",
      "Lista después de eliminar el último elemento: ['z', 'b', 'nuevo', 'd', 'e', 'f', 'g', 'h']\n"
     ]
    }
   ],
   "source": [
    "# Eliminar el último elemento de una lista y devolverlo\n",
    "ultimo_elemento = mi_lista.pop()\n",
    "print(\"Último elemento eliminado:\", ultimo_elemento)\n",
    "print(\"Lista después de eliminar el último elemento:\", mi_lista)"
   ]
  },
  {
   "cell_type": "code",
   "execution_count": 27,
   "id": "a5654053",
   "metadata": {},
   "outputs": [
    {
     "name": "stdout",
     "output_type": "stream",
     "text": [
      "Índice del elemento 'e': 4\n"
     ]
    }
   ],
   "source": [
    "# Buscar el índice de un elemento en una lista\n",
    "indice = mi_lista.index('e')\n",
    "print(\"Índice del elemento 'e':\", indice)"
   ]
  },
  {
   "cell_type": "code",
   "execution_count": 28,
   "id": "31ed3aef",
   "metadata": {},
   "outputs": [
    {
     "name": "stdout",
     "output_type": "stream",
     "text": [
      "Cantidad de veces que aparece 'a': 0\n"
     ]
    }
   ],
   "source": [
    "# Contar la cantidad de veces que aparece un elemento en una lista\n",
    "cantidad = mi_lista.count('a')\n",
    "print(\"Cantidad de veces que aparece 'a':\", cantidad)"
   ]
  },
  {
   "cell_type": "code",
   "execution_count": 29,
   "id": "414ddd11",
   "metadata": {},
   "outputs": [
    {
     "name": "stdout",
     "output_type": "stream",
     "text": [
      "Lista después de revertir el orden: ['h', 'g', 'f', 'e', 'd', 'nuevo', 'b', 'z']\n"
     ]
    }
   ],
   "source": [
    "# Revertir el orden de los elementos en una lista\n",
    "mi_lista.reverse()\n",
    "print(\"Lista después de revertir el orden:\", mi_lista)"
   ]
  },
  {
   "cell_type": "code",
   "execution_count": 30,
   "id": "e2613696",
   "metadata": {},
   "outputs": [
    {
     "name": "stdout",
     "output_type": "stream",
     "text": [
      "Lista de números ordenada: [1, 1, 2, 3, 3, 4, 5, 5, 6, 9]\n"
     ]
    }
   ],
   "source": [
    "# Ordenar los elementos de una lista (si son del mismo tipo)\n",
    "numeros = [3, 1, 4, 1, 5, 9, 2, 6, 5, 3]\n",
    "numeros.sort()\n",
    "print(\"Lista de números ordenada:\", numeros)"
   ]
  },
  {
   "cell_type": "code",
   "execution_count": 31,
   "id": "60c999cf",
   "metadata": {},
   "outputs": [
    {
     "name": "stdout",
     "output_type": "stream",
     "text": [
      "Copia de la lista: ['h', 'g', 'f', 'e', 'd', 'nuevo', 'b', 'z']\n"
     ]
    }
   ],
   "source": [
    "# Copiar una lista\n",
    "copia_lista = mi_lista.copy()\n",
    "print(\"Copia de la lista:\", copia_lista)"
   ]
  },
  {
   "cell_type": "code",
   "execution_count": 32,
   "id": "e61f545a",
   "metadata": {},
   "outputs": [
    {
     "name": "stdout",
     "output_type": "stream",
     "text": [
      "Lista después de vaciarla: []\n"
     ]
    }
   ],
   "source": [
    "# Vaciar una lista\n",
    "mi_lista.clear()\n",
    "print(\"Lista después de vaciarla:\", mi_lista)"
   ]
  },
  {
   "cell_type": "markdown",
   "id": "8476bcf8",
   "metadata": {},
   "source": [
    "### Tuplas\n",
    "\n",
    "Una tupla en Python es una colección ordenada e inmutable de elementos. Puedes acceder a los elementos de una tupla utilizando índices, pero no puedes modificar la tupla después de crearla."
   ]
  },
  {
   "cell_type": "code",
   "execution_count": 33,
   "id": "ea8c526c",
   "metadata": {},
   "outputs": [
    {
     "name": "stdout",
     "output_type": "stream",
     "text": [
      "Tupla vacía: ()\n"
     ]
    }
   ],
   "source": [
    "# Crear una tupla vacía\n",
    "tupla_vacia = ()\n",
    "print(\"Tupla vacía:\", tupla_vacia)"
   ]
  },
  {
   "cell_type": "code",
   "execution_count": 34,
   "id": "d79cbdf0",
   "metadata": {},
   "outputs": [
    {
     "name": "stdout",
     "output_type": "stream",
     "text": [
      "Tupla mixta: (1, 'dos', 3.0, True)\n"
     ]
    }
   ],
   "source": [
    "# Crear una tupla con elementos de diferentes tipos\n",
    "tupla_mixta = (1, \"dos\", 3.0, True)\n",
    "print(\"Tupla mixta:\", tupla_mixta)"
   ]
  },
  {
   "cell_type": "code",
   "execution_count": 35,
   "id": "598b71ef",
   "metadata": {},
   "outputs": [
    {
     "name": "stdout",
     "output_type": "stream",
     "text": [
      "Primer elemento: a\n",
      "Último elemento: e\n"
     ]
    }
   ],
   "source": [
    "# Acceder a elementos de una tupla utilizando índices positivos y negativos\n",
    "mi_tupla = ('a', 'b', 'c', 'd', 'e')\n",
    "print(\"Primer elemento:\", mi_tupla[0])\n",
    "print(\"Último elemento:\", mi_tupla[-1])"
   ]
  },
  {
   "cell_type": "code",
   "execution_count": 36,
   "id": "e0890e65",
   "metadata": {},
   "outputs": [
    {
     "name": "stdout",
     "output_type": "stream",
     "text": [
      "Rebanado: ('b', 'c')\n"
     ]
    }
   ],
   "source": [
    "# Rebanado (slicing) de tuplas\n",
    "print(\"Rebanado:\", mi_tupla[1:3])\n",
    "# No se puede modificar una tupla después de crearla\n",
    "# mi_tupla[0] = 'z'  # Esto producirá un error"
   ]
  },
  {
   "cell_type": "code",
   "execution_count": 37,
   "id": "0f259346",
   "metadata": {},
   "outputs": [
    {
     "name": "stdout",
     "output_type": "stream",
     "text": [
      "Concatenación de tuplas: ('a', 'b', 'c', 'd', 'e', 'f', 'g')\n"
     ]
    }
   ],
   "source": [
    "# Concatenar tuplas\n",
    "otra_tupla = ('f', 'g')\n",
    "concatenacion = mi_tupla + otra_tupla\n",
    "print(\"Concatenación de tuplas:\", concatenacion)"
   ]
  },
  {
   "cell_type": "code",
   "execution_count": 38,
   "id": "1a643ed5",
   "metadata": {},
   "outputs": [
    {
     "name": "stdout",
     "output_type": "stream",
     "text": [
      "Multiplicación de tupla: ('f', 'g', 'f', 'g', 'f', 'g')\n"
     ]
    }
   ],
   "source": [
    "# Multiplicar una tupla\n",
    "multiplicacion = otra_tupla * 3\n",
    "print(\"Multiplicación de tupla:\", multiplicacion)"
   ]
  },
  {
   "cell_type": "code",
   "execution_count": 39,
   "id": "5974db43",
   "metadata": {},
   "outputs": [
    {
     "name": "stdout",
     "output_type": "stream",
     "text": [
      "Longitud de la tupla: 5\n"
     ]
    }
   ],
   "source": [
    "# Obtener la longitud de una tupla\n",
    "longitud = len(mi_tupla)\n",
    "print(\"Longitud de la tupla:\", longitud)"
   ]
  },
  {
   "cell_type": "code",
   "execution_count": 40,
   "id": "4f23cec8",
   "metadata": {},
   "outputs": [
    {
     "name": "stdout",
     "output_type": "stream",
     "text": [
      "El elemento 'c' está en la tupla.\n"
     ]
    }
   ],
   "source": [
    "# Buscar un elemento en una tupla\n",
    "if 'c' in mi_tupla:\n",
    "    print(\"El elemento 'c' está en la tupla.\")\n",
    "else:\n",
    "    print(\"El elemento 'c' no está en la tupla.\")"
   ]
  },
  {
   "cell_type": "code",
   "execution_count": 41,
   "id": "446165c5",
   "metadata": {},
   "outputs": [
    {
     "name": "stdout",
     "output_type": "stream",
     "text": [
      "Cantidad de veces que aparece 'b': 1\n"
     ]
    }
   ],
   "source": [
    "# Contar la cantidad de veces que aparece un elemento en una tupla\n",
    "cantidad = mi_tupla.count('b')\n",
    "print(\"Cantidad de veces que aparece 'b':\", cantidad)"
   ]
  },
  {
   "cell_type": "code",
   "execution_count": 42,
   "id": "6cddd4bf",
   "metadata": {},
   "outputs": [
    {
     "name": "stdout",
     "output_type": "stream",
     "text": [
      "Índice del elemento 'd': 3\n"
     ]
    }
   ],
   "source": [
    "# Encontrar el índice de un elemento en una tupla\n",
    "indice = mi_tupla.index('d')\n",
    "print(\"Índice del elemento 'd':\", indice)"
   ]
  },
  {
   "cell_type": "markdown",
   "id": "7dc01c94",
   "metadata": {},
   "source": [
    "### Conjuntos\n",
    "\n",
    "Un conjunto en Python es una colección desordenada y mutable de elementos únicos. Puedes realizar operaciones de conjuntos como unión, intersección y diferencia entre conjuntos.\n",
    "\n"
   ]
  },
  {
   "cell_type": "code",
   "execution_count": 43,
   "id": "1fdea3a4",
   "metadata": {},
   "outputs": [
    {
     "name": "stdout",
     "output_type": "stream",
     "text": [
      "Conjunto vacío: set()\n"
     ]
    }
   ],
   "source": [
    "# Crear un conjunto vacío\n",
    "conjunto_vacio = set()\n",
    "print(\"Conjunto vacío:\", conjunto_vacio)"
   ]
  },
  {
   "cell_type": "code",
   "execution_count": 44,
   "id": "2a23ac90",
   "metadata": {},
   "outputs": [
    {
     "name": "stdout",
     "output_type": "stream",
     "text": [
      "Conjunto: {1, 2, 3, 4, 5}\n"
     ]
    }
   ],
   "source": [
    "# Crear un conjunto con elementos\n",
    "mi_conjunto = {1, 2, 3, 4, 5}\n",
    "print(\"Conjunto:\", mi_conjunto)"
   ]
  },
  {
   "cell_type": "code",
   "execution_count": 45,
   "id": "da4e399b",
   "metadata": {},
   "outputs": [
    {
     "name": "stdout",
     "output_type": "stream",
     "text": [
      "Conjunto después de agregar un elemento: {1, 2, 3, 4, 5, 6}\n"
     ]
    }
   ],
   "source": [
    "# Agregar elementos a un conjunto\n",
    "mi_conjunto.add(6)\n",
    "print(\"Conjunto después de agregar un elemento:\", mi_conjunto)"
   ]
  },
  {
   "cell_type": "code",
   "execution_count": 46,
   "id": "82087a2f",
   "metadata": {},
   "outputs": [
    {
     "name": "stdout",
     "output_type": "stream",
     "text": [
      "Conjunto después de eliminar un elemento: {1, 2, 4, 5, 6}\n"
     ]
    }
   ],
   "source": [
    "# Eliminar un elemento de un conjunto\n",
    "mi_conjunto.remove(3)\n",
    "print(\"Conjunto después de eliminar un elemento:\", mi_conjunto)"
   ]
  },
  {
   "cell_type": "code",
   "execution_count": 47,
   "id": "6a46e639",
   "metadata": {},
   "outputs": [
    {
     "name": "stdout",
     "output_type": "stream",
     "text": [
      "El elemento 4 está en el conjunto.\n"
     ]
    }
   ],
   "source": [
    "# Verificar si un elemento está en un conjunto\n",
    "if 4 in mi_conjunto:\n",
    "    print(\"El elemento 4 está en el conjunto.\")\n",
    "else:\n",
    "    print(\"El elemento 4 no está en el conjunto.\")"
   ]
  },
  {
   "cell_type": "code",
   "execution_count": 48,
   "id": "b5d3f7de",
   "metadata": {},
   "outputs": [],
   "source": [
    "# Realizar operaciones de conjunto\n",
    "conjunto1 = {1, 2, 3, 4, 5}\n",
    "conjunto2 = {4, 5, 6, 7, 8}"
   ]
  },
  {
   "cell_type": "code",
   "execution_count": 49,
   "id": "fe1618f6",
   "metadata": {},
   "outputs": [
    {
     "name": "stdout",
     "output_type": "stream",
     "text": [
      "Unión de conjuntos: {1, 2, 3, 4, 5, 6, 7, 8}\n"
     ]
    }
   ],
   "source": [
    "# Unión de conjuntos\n",
    "union = conjunto1.union(conjunto2)\n",
    "print(\"Unión de conjuntos:\", union)"
   ]
  },
  {
   "cell_type": "code",
   "execution_count": 50,
   "id": "dd41bad1",
   "metadata": {},
   "outputs": [
    {
     "name": "stdout",
     "output_type": "stream",
     "text": [
      "Intersección de conjuntos: {4, 5}\n"
     ]
    }
   ],
   "source": [
    "# Intersección de conjuntos\n",
    "interseccion = conjunto1.intersection(conjunto2)\n",
    "print(\"Intersección de conjuntos:\", interseccion)"
   ]
  },
  {
   "cell_type": "code",
   "execution_count": 51,
   "id": "1ca83279",
   "metadata": {},
   "outputs": [
    {
     "name": "stdout",
     "output_type": "stream",
     "text": [
      "Diferencia entre conjuntos 1 y 2: {1, 2, 3}\n"
     ]
    }
   ],
   "source": [
    "# Diferencia entre conjuntos\n",
    "diferencia = conjunto1.difference(conjunto2)\n",
    "print(\"Diferencia entre conjuntos 1 y 2:\", diferencia)"
   ]
  },
  {
   "cell_type": "code",
   "execution_count": 52,
   "id": "ddb1611d",
   "metadata": {},
   "outputs": [
    {
     "name": "stdout",
     "output_type": "stream",
     "text": [
      "El conjunto 1 no es un subconjunto del conjunto 2.\n"
     ]
    }
   ],
   "source": [
    "# Comprobar si un conjunto es subconjunto de otro\n",
    "if conjunto1.issubset(conjunto2):\n",
    "    print(\"El conjunto 1 es un subconjunto del conjunto 2.\")\n",
    "else:\n",
    "    print(\"El conjunto 1 no es un subconjunto del conjunto 2.\")"
   ]
  },
  {
   "cell_type": "code",
   "execution_count": 53,
   "id": "4e08ef8d",
   "metadata": {},
   "outputs": [
    {
     "name": "stdout",
     "output_type": "stream",
     "text": [
      "Conjunto 1 después de vaciarlo: set()\n"
     ]
    }
   ],
   "source": [
    "# Vaciar un conjunto\n",
    "conjunto1.clear()\n",
    "print(\"Conjunto 1 después de vaciarlo:\", conjunto1)"
   ]
  },
  {
   "cell_type": "markdown",
   "id": "1b4c68e9",
   "metadata": {},
   "source": [
    "### Diccionarios\n",
    "\n",
    "Un diccionario en Python es una colección desordenada y mutable de pares clave-valor. Puedes acceder a los valores utilizando las claves, y puedes agregar, modificar o eliminar elementos del diccionario."
   ]
  },
  {
   "cell_type": "code",
   "execution_count": 54,
   "id": "0f966928",
   "metadata": {},
   "outputs": [
    {
     "name": "stdout",
     "output_type": "stream",
     "text": [
      "Diccionario vacío: {}\n"
     ]
    }
   ],
   "source": [
    "# Crear un diccionario vacío\n",
    "diccionario_vacio = {}\n",
    "print(\"Diccionario vacío:\", diccionario_vacio)"
   ]
  },
  {
   "cell_type": "code",
   "execution_count": 55,
   "id": "92123d67",
   "metadata": {},
   "outputs": [
    {
     "name": "stdout",
     "output_type": "stream",
     "text": [
      "Diccionario: {'nombre': 'Juan', 'edad': 30, 'ciudad': 'Madrid'}\n"
     ]
    }
   ],
   "source": [
    "# Crear un diccionario con elementos\n",
    "mi_diccionario = {\"nombre\": \"Juan\", \"edad\": 30, \"ciudad\": \"Madrid\"}\n",
    "print(\"Diccionario:\", mi_diccionario)"
   ]
  },
  {
   "cell_type": "code",
   "execution_count": 56,
   "id": "658c619c",
   "metadata": {},
   "outputs": [
    {
     "name": "stdout",
     "output_type": "stream",
     "text": [
      "Nombre: Juan\n",
      "Edad: 30\n"
     ]
    }
   ],
   "source": [
    "# Acceder a valores utilizando claves\n",
    "print(\"Nombre:\", mi_diccionario[\"nombre\"])\n",
    "print(\"Edad:\", mi_diccionario[\"edad\"])"
   ]
  },
  {
   "cell_type": "code",
   "execution_count": 57,
   "id": "e49c70aa",
   "metadata": {},
   "outputs": [
    {
     "name": "stdout",
     "output_type": "stream",
     "text": [
      "Diccionario después de modificar la edad: {'nombre': 'Juan', 'edad': 31, 'ciudad': 'Madrid'}\n"
     ]
    }
   ],
   "source": [
    "# Modificar valores en un diccionario\n",
    "mi_diccionario[\"edad\"] = 31\n",
    "print(\"Diccionario después de modificar la edad:\", mi_diccionario)"
   ]
  },
  {
   "cell_type": "code",
   "execution_count": 58,
   "id": "960046b7",
   "metadata": {},
   "outputs": [
    {
     "name": "stdout",
     "output_type": "stream",
     "text": [
      "Diccionario después de agregar una profesión: {'nombre': 'Juan', 'edad': 31, 'ciudad': 'Madrid', 'profesión': 'Ingeniero'}\n"
     ]
    }
   ],
   "source": [
    "# Agregar un nuevo par clave-valor\n",
    "mi_diccionario[\"profesión\"] = \"Ingeniero\"\n",
    "print(\"Diccionario después de agregar una profesión:\", mi_diccionario)"
   ]
  },
  {
   "cell_type": "code",
   "execution_count": 59,
   "id": "ba2327e6",
   "metadata": {},
   "outputs": [
    {
     "name": "stdout",
     "output_type": "stream",
     "text": [
      "Diccionario después de eliminar la ciudad: {'nombre': 'Juan', 'edad': 31, 'profesión': 'Ingeniero'}\n"
     ]
    }
   ],
   "source": [
    "# Eliminar un par clave-valor\n",
    "del mi_diccionario[\"ciudad\"]\n",
    "print(\"Diccionario después de eliminar la ciudad:\", mi_diccionario)"
   ]
  },
  {
   "cell_type": "code",
   "execution_count": 60,
   "id": "c989f4bf",
   "metadata": {},
   "outputs": [
    {
     "name": "stdout",
     "output_type": "stream",
     "text": [
      "La clave 'nombre' está en el diccionario.\n"
     ]
    }
   ],
   "source": [
    "# Verificar si una clave está en el diccionario\n",
    "if \"nombre\" in mi_diccionario:\n",
    "    print(\"La clave 'nombre' está en el diccionario.\")\n",
    "else:\n",
    "    print(\"La clave 'nombre' no está en el diccionario.\")"
   ]
  },
  {
   "cell_type": "code",
   "execution_count": 61,
   "id": "441b22d5",
   "metadata": {},
   "outputs": [
    {
     "name": "stdout",
     "output_type": "stream",
     "text": [
      "Claves del diccionario: dict_keys(['nombre', 'edad', 'profesión'])\n",
      "Valores del diccionario: dict_values(['Juan', 31, 'Ingeniero'])\n"
     ]
    }
   ],
   "source": [
    "# Obtener todas las claves y valores del diccionario\n",
    "claves = mi_diccionario.keys()\n",
    "print(\"Claves del diccionario:\", claves)\n",
    "valores = mi_diccionario.values()\n",
    "print(\"Valores del diccionario:\", valores)"
   ]
  },
  {
   "cell_type": "code",
   "execution_count": 62,
   "id": "beba8a8b",
   "metadata": {},
   "outputs": [
    {
     "name": "stdout",
     "output_type": "stream",
     "text": [
      "Pares clave-valor del diccionario: dict_items([('nombre', 'Juan'), ('edad', 31), ('profesión', 'Ingeniero')])\n"
     ]
    }
   ],
   "source": [
    "# Obtener pares clave-valor del diccionario como tuplas\n",
    "items = mi_diccionario.items()\n",
    "print(\"Pares clave-valor del diccionario:\", items)"
   ]
  },
  {
   "cell_type": "code",
   "execution_count": 63,
   "id": "3824a0f1",
   "metadata": {},
   "outputs": [
    {
     "name": "stdout",
     "output_type": "stream",
     "text": [
      "Copia del diccionario: {'nombre': 'Juan', 'edad': 31, 'profesión': 'Ingeniero'}\n"
     ]
    }
   ],
   "source": [
    "# Copiar un diccionario\n",
    "copia_diccionario = mi_diccionario.copy()\n",
    "print(\"Copia del diccionario:\", copia_diccionario)"
   ]
  },
  {
   "cell_type": "code",
   "execution_count": 64,
   "id": "8be0bfd6",
   "metadata": {},
   "outputs": [
    {
     "name": "stdout",
     "output_type": "stream",
     "text": [
      "Diccionario después de vaciarlo: {}\n"
     ]
    }
   ],
   "source": [
    "# Vaciar un diccionario\n",
    "mi_diccionario.clear()\n",
    "print(\"Diccionario después de vaciarlo:\", mi_diccionario)"
   ]
  },
  {
   "cell_type": "markdown",
   "id": "14509c28",
   "metadata": {},
   "source": [
    "## Funciones\n",
    "\n",
    "<img src=\"https://teachen.info/cspp/_images/funcheader.svg\" width = \"500\" align=\"center\"/>"
   ]
  },
  {
   "cell_type": "markdown",
   "id": "fe24884c",
   "metadata": {},
   "source": [
    "### Definiciones\n",
    "\n",
    "Una función es un bloque de código que realiza una tarea específica y puede ser llamado desde cualquier parte del programa. Las funciones pueden tener parámetros (datos que se pasan a la función) y pueden devolver un resultado. Al utilizar funciones, podemos dividir el código en partes más pequeñas y manejables, lo que facilita la comprensión y la depuración.\n",
    "\n",
    "### Sintaxis\n",
    "La sintaxis básica de una función en Python es la siguiente:\n",
    "\n",
    "```python\n",
    "def nombre_funcion(parametros):\n",
    "    # Cuerpo de la función\n",
    "    # Realizar operaciones\n",
    "    return resultado\n",
    "```\n",
    "\n",
    "- **def**: Es una palabra clave que indica que se está definiendo una función.\n",
    "- **nombre_funcion**: Es el nombre que le damos a la función. Debe seguir las mismas reglas de nomenclatura que las variables.\n",
    "- **parámetros**: Son los datos que la función espera recibir. Pueden ser opcionales.\n",
    "- **return**: Es una palabra clave que indica el valor que la función devolverá. Puede devolver cero o más valores."
   ]
  },
  {
   "cell_type": "code",
   "execution_count": 65,
   "id": "93772111",
   "metadata": {},
   "outputs": [
    {
     "name": "stdout",
     "output_type": "stream",
     "text": [
      "¡Hola!\n"
     ]
    }
   ],
   "source": [
    "# Definir una función sin parámetros y sin valor de retorno\n",
    "def saludar():\n",
    "    print(\"¡Hola!\")\n",
    "\n",
    "# Llamar a la función\n",
    "saludar()"
   ]
  },
  {
   "cell_type": "code",
   "execution_count": 66,
   "id": "cd6c182c",
   "metadata": {},
   "outputs": [
    {
     "name": "stdout",
     "output_type": "stream",
     "text": [
      "¡Hola, Juan !\n"
     ]
    }
   ],
   "source": [
    "# Definir una función con parámetros y sin valor de retorno\n",
    "def saludar_persona(nombre):\n",
    "    print(\"¡Hola,\", nombre, \"!\")\n",
    "\n",
    "# Llamar a la función con un argumento\n",
    "saludar_persona(\"Juan\")"
   ]
  },
  {
   "cell_type": "code",
   "execution_count": 67,
   "id": "1959169f",
   "metadata": {},
   "outputs": [
    {
     "name": "stdout",
     "output_type": "stream",
     "text": [
      "Resultado de la suma: 8\n"
     ]
    }
   ],
   "source": [
    "# Definir una función con parámetros y con valor de retorno\n",
    "def sumar(a, b):\n",
    "    return a + b\n",
    "\n",
    "# Llamar a la función y almacenar el resultado en una variable\n",
    "resultado = sumar(3, 5)\n",
    "print(\"Resultado de la suma:\", resultado)"
   ]
  },
  {
   "cell_type": "code",
   "execution_count": 68,
   "id": "6ee19b66",
   "metadata": {},
   "outputs": [
    {
     "name": "stdout",
     "output_type": "stream",
     "text": [
      "Resultado de la multiplicación (con valor predeterminado): 6\n",
      "Resultado de la multiplicación (con argumento específico): 12\n"
     ]
    }
   ],
   "source": [
    "# Función con parámetros con valores predeterminados\n",
    "def multiplicar(a, b=2):\n",
    "    return a * b\n",
    "\n",
    "# Llamar a la función con un solo argumento\n",
    "resultado1 = multiplicar(3)\n",
    "print(\"Resultado de la multiplicación (con valor predeterminado):\", resultado1)\n",
    "\n",
    "# Llamar a la función con dos argumentos\n",
    "resultado2 = multiplicar(3, 4)\n",
    "print(\"Resultado de la multiplicación (con argumento específico):\", resultado2)"
   ]
  },
  {
   "cell_type": "code",
   "execution_count": 69,
   "id": "cc86f227",
   "metadata": {},
   "outputs": [
    {
     "name": "stdout",
     "output_type": "stream",
     "text": [
      "Promedio de 2, 4 y 6: 4.0\n",
      "Promedio de 1, 3, 5, 7 y 9: 5.0\n"
     ]
    }
   ],
   "source": [
    "# Función con un número variable de argumentos\n",
    "def promedio(*args):\n",
    "    return sum(args) / len(args)\n",
    "\n",
    "# Llamar a la función con diferentes cantidades de argumentos\n",
    "resultado1 = promedio(2, 4, 6)\n",
    "print(\"Promedio de 2, 4 y 6:\", resultado1)\n",
    "\n",
    "resultado2 = promedio(1, 3, 5, 7, 9)\n",
    "print(\"Promedio de 1, 3, 5, 7 y 9:\", resultado2)"
   ]
  },
  {
   "cell_type": "code",
   "execution_count": 70,
   "id": "37a97198",
   "metadata": {},
   "outputs": [
    {
     "name": "stdout",
     "output_type": "stream",
     "text": [
      "Nombre: Ana\n",
      "Edad: 25\n"
     ]
    }
   ],
   "source": [
    "# Función con argumentos de palabra clave\n",
    "def mostrar_info(nombre, edad):\n",
    "    print(\"Nombre:\", nombre)\n",
    "    print(\"Edad:\", edad)\n",
    "\n",
    "# Llamar a la función utilizando argumentos de palabra clave\n",
    "mostrar_info(nombre=\"Ana\", edad=25)"
   ]
  },
  {
   "cell_type": "code",
   "execution_count": 71,
   "id": "8c4ce334",
   "metadata": {},
   "outputs": [
    {
     "name": "stdout",
     "output_type": "stream",
     "text": [
      "Cociente: 3\n",
      "Resto: 1\n"
     ]
    }
   ],
   "source": [
    "# Función con retorno de múltiples valores\n",
    "def dividir(a, b):\n",
    "    cociente = a // b\n",
    "    resto = a % b\n",
    "    return cociente, resto\n",
    "\n",
    "# Llamar a la función y almacenar los valores de retorno en variables separadas\n",
    "cociente, resto = dividir(10, 3)\n",
    "print(\"Cociente:\", cociente)\n",
    "print(\"Resto:\", resto)"
   ]
  },
  {
   "cell_type": "code",
   "execution_count": 72,
   "id": "88bfd0da",
   "metadata": {},
   "outputs": [
    {
     "name": "stdout",
     "output_type": "stream",
     "text": [
      "Función exterior\n",
      "Función interior\n"
     ]
    }
   ],
   "source": [
    "# Funciones anidadas\n",
    "def exterior():\n",
    "    print(\"Función exterior\")\n",
    "    \n",
    "    def interior():\n",
    "        print(\"Función interior\")\n",
    "    \n",
    "    interior()\n",
    "\n",
    "# Llamar a la función exterior, que también llama a la función interior\n",
    "exterior()"
   ]
  },
  {
   "cell_type": "markdown",
   "id": "5cdfd48a",
   "metadata": {},
   "source": [
    "## Excepciones\n",
    "\n",
    "<img src=\"https://teachen.info/cspp/_images/errormsg.svg\" width = \"600\" align=\"center\"/>"
   ]
  },
  {
   "cell_type": "markdown",
   "id": "e403117a",
   "metadata": {},
   "source": [
    "En Python, los errores se dividen principalmente en tres categorías: errores de sintaxis, excepciones y errores semánticos. Cada uno de estos tipos de errores tiene sus propias características y se manejan de manera diferente en el código."
   ]
  },
  {
   "cell_type": "markdown",
   "id": "ea126ca2",
   "metadata": {},
   "source": [
    "### Errores de Sintaxis\n",
    "\n",
    "Los errores de sintaxis en Python ocurren cuando el código no sigue las reglas gramaticales del lenguaje. Estos errores se detectan durante la fase de análisis del código y generalmente provocan que el intérprete de Python detenga la ejecución del programa y muestre un mensaje de error que indica la ubicación y la naturaleza del error. Aquí hay una lista de algunos errores de sintaxis comunes y ejemplos de cómo corregirlos:"
   ]
  },
  {
   "cell_type": "markdown",
   "id": "95ac1f2a",
   "metadata": {},
   "source": [
    "**Falta de paréntesis, corchetes o llaves**"
   ]
  },
  {
   "cell_type": "code",
   "execution_count": 73,
   "id": "2191c696",
   "metadata": {},
   "outputs": [
    {
     "ename": "SyntaxError",
     "evalue": "unexpected EOF while parsing (772037202.py, line 2)",
     "output_type": "error",
     "traceback": [
      "\u001b[1;36m  Cell \u001b[1;32mIn[73], line 2\u001b[1;36m\u001b[0m\n\u001b[1;33m    print(\"Hola mundo\"\u001b[0m\n\u001b[1;37m                      ^\u001b[0m\n\u001b[1;31mSyntaxError\u001b[0m\u001b[1;31m:\u001b[0m unexpected EOF while parsing\n"
     ]
    }
   ],
   "source": [
    "# Error de sintaxis: Falta un paréntesis de cierre\n",
    "print(\"Hola mundo\""
   ]
  },
  {
   "cell_type": "markdown",
   "id": "23ad0a41",
   "metadata": {},
   "source": [
    "**Falta de comillas**"
   ]
  },
  {
   "cell_type": "code",
   "execution_count": 74,
   "id": "a82109b3",
   "metadata": {},
   "outputs": [
    {
     "ename": "SyntaxError",
     "evalue": "EOL while scanning string literal (3170818782.py, line 2)",
     "output_type": "error",
     "traceback": [
      "\u001b[1;36m  Cell \u001b[1;32mIn[74], line 2\u001b[1;36m\u001b[0m\n\u001b[1;33m    mensaje = \"Hola mundo\u001b[0m\n\u001b[1;37m                         ^\u001b[0m\n\u001b[1;31mSyntaxError\u001b[0m\u001b[1;31m:\u001b[0m EOL while scanning string literal\n"
     ]
    }
   ],
   "source": [
    "# Error de sintaxis: Falta una comilla de cierre\n",
    "mensaje = \"Hola mundo"
   ]
  },
  {
   "cell_type": "markdown",
   "id": "c6056903",
   "metadata": {},
   "source": [
    "**Falta de dos puntos**"
   ]
  },
  {
   "cell_type": "code",
   "execution_count": 75,
   "id": "2cd6824e",
   "metadata": {},
   "outputs": [
    {
     "ename": "SyntaxError",
     "evalue": "invalid syntax (2408425682.py, line 2)",
     "output_type": "error",
     "traceback": [
      "\u001b[1;36m  Cell \u001b[1;32mIn[75], line 2\u001b[1;36m\u001b[0m\n\u001b[1;33m    if True\u001b[0m\n\u001b[1;37m           ^\u001b[0m\n\u001b[1;31mSyntaxError\u001b[0m\u001b[1;31m:\u001b[0m invalid syntax\n"
     ]
    }
   ],
   "source": [
    "# Error de sintaxis: Falta dos puntos al final de la declaración if\n",
    "if True\n",
    "    print(\"Es verdadero\")\n",
    "# Solución: Agregar dos puntos al final de la declaración if\n",
    "if True:\n",
    "    print(\"Es verdadero\")"
   ]
  },
  {
   "cell_type": "markdown",
   "id": "a75f57c3",
   "metadata": {},
   "source": [
    "**Indentación incorrecta**"
   ]
  },
  {
   "cell_type": "code",
   "execution_count": 76,
   "id": "f4f95b22",
   "metadata": {},
   "outputs": [
    {
     "ename": "IndentationError",
     "evalue": "expected an indented block (4041088692.py, line 3)",
     "output_type": "error",
     "traceback": [
      "\u001b[1;36m  Cell \u001b[1;32mIn[76], line 3\u001b[1;36m\u001b[0m\n\u001b[1;33m    print(\"Es verdadero\")\u001b[0m\n\u001b[1;37m    ^\u001b[0m\n\u001b[1;31mIndentationError\u001b[0m\u001b[1;31m:\u001b[0m expected an indented block\n"
     ]
    }
   ],
   "source": [
    "# Error de sintaxis: Declaración indentada incorrectamente\n",
    "if True:\n",
    "print(\"Es verdadero\")"
   ]
  },
  {
   "cell_type": "markdown",
   "id": "bbbce495",
   "metadata": {},
   "source": [
    "**Uso incorrecto de palabras clave**"
   ]
  },
  {
   "cell_type": "code",
   "execution_count": 77,
   "id": "c9d8683f",
   "metadata": {},
   "outputs": [
    {
     "ename": "SyntaxError",
     "evalue": "invalid syntax (235475069.py, line 4)",
     "output_type": "error",
     "traceback": [
      "\u001b[1;36m  Cell \u001b[1;32mIn[77], line 4\u001b[1;36m\u001b[0m\n\u001b[1;33m    elsee:\u001b[0m\n\u001b[1;37m          ^\u001b[0m\n\u001b[1;31mSyntaxError\u001b[0m\u001b[1;31m:\u001b[0m invalid syntax\n"
     ]
    }
   ],
   "source": [
    "# Error de sintaxis: Uso incorrecto de la palabra clave 'else'\n",
    "if True:\n",
    "    print(\"Es verdadero\")\n",
    "elsee:\n",
    "    print(\"Es falso\")"
   ]
  },
  {
   "cell_type": "markdown",
   "id": "4e22f20a",
   "metadata": {},
   "source": [
    "### Excepciones\n",
    "\n",
    "Las excepciones en Python son eventos que ocurren durante la ejecución del programa y pueden alterar el flujo normal de ejecución. Cuando una excepción se produce, Python detiene la ejecución del programa y busca un bloque de código que pueda manejar la excepción. Aquí se presentan algunos tipos comunes de excepciones en Python y cómo manejarlos:"
   ]
  },
  {
   "cell_type": "markdown",
   "id": "df30d284",
   "metadata": {},
   "source": [
    "**Excepción de tipo `SyntaxError`**"
   ]
  },
  {
   "cell_type": "code",
   "execution_count": 78,
   "id": "c15da9d2",
   "metadata": {},
   "outputs": [
    {
     "ename": "SyntaxError",
     "evalue": "unexpected EOF while parsing (772037202.py, line 2)",
     "output_type": "error",
     "traceback": [
      "\u001b[1;36m  Cell \u001b[1;32mIn[78], line 2\u001b[1;36m\u001b[0m\n\u001b[1;33m    print(\"Hola mundo\"\u001b[0m\n\u001b[1;37m                      ^\u001b[0m\n\u001b[1;31mSyntaxError\u001b[0m\u001b[1;31m:\u001b[0m unexpected EOF while parsing\n"
     ]
    }
   ],
   "source": [
    "# Error de sintaxis: Falta un paréntesis de cierre\n",
    "print(\"Hola mundo\""
   ]
  },
  {
   "cell_type": "markdown",
   "id": "ec2feede",
   "metadata": {},
   "source": [
    "**Excepción de tipo `NameError`**"
   ]
  },
  {
   "cell_type": "code",
   "execution_count": 79,
   "id": "d59a8d9a",
   "metadata": {},
   "outputs": [
    {
     "ename": "NameError",
     "evalue": "name 'variable_no_definida' is not defined",
     "output_type": "error",
     "traceback": [
      "\u001b[1;31m---------------------------------------------------------------------------\u001b[0m",
      "\u001b[1;31mNameError\u001b[0m                                 Traceback (most recent call last)",
      "Cell \u001b[1;32mIn[79], line 2\u001b[0m\n\u001b[0;32m      1\u001b[0m \u001b[38;5;66;03m# Error de nombre: Variable no definida\u001b[39;00m\n\u001b[1;32m----> 2\u001b[0m \u001b[38;5;28mprint\u001b[39m(\u001b[43mvariable_no_definida\u001b[49m)\n",
      "\u001b[1;31mNameError\u001b[0m: name 'variable_no_definida' is not defined"
     ]
    }
   ],
   "source": [
    "# Error de nombre: Variable no definida\n",
    "print(variable_no_definida)"
   ]
  },
  {
   "cell_type": "markdown",
   "id": "d414d3d7",
   "metadata": {},
   "source": [
    "**Excepción de tipo `TypeError`**"
   ]
  },
  {
   "cell_type": "code",
   "execution_count": 80,
   "id": "c5f4f91d",
   "metadata": {},
   "outputs": [
    {
     "ename": "TypeError",
     "evalue": "unsupported operand type(s) for +: 'int' and 'str'",
     "output_type": "error",
     "traceback": [
      "\u001b[1;31m---------------------------------------------------------------------------\u001b[0m",
      "\u001b[1;31mTypeError\u001b[0m                                 Traceback (most recent call last)",
      "Cell \u001b[1;32mIn[80], line 2\u001b[0m\n\u001b[0;32m      1\u001b[0m \u001b[38;5;66;03m# Error de tipo: Suma entre tipos incompatibles\u001b[39;00m\n\u001b[1;32m----> 2\u001b[0m resultado \u001b[38;5;241m=\u001b[39m \u001b[38;5;241;43m10\u001b[39;49m\u001b[43m \u001b[49m\u001b[38;5;241;43m+\u001b[39;49m\u001b[43m \u001b[49m\u001b[38;5;124;43m\"\u001b[39;49m\u001b[38;5;124;43m20\u001b[39;49m\u001b[38;5;124;43m\"\u001b[39;49m\n",
      "\u001b[1;31mTypeError\u001b[0m: unsupported operand type(s) for +: 'int' and 'str'"
     ]
    }
   ],
   "source": [
    "# Error de tipo: Suma entre tipos incompatibles\n",
    "resultado = 10 + \"20\""
   ]
  },
  {
   "cell_type": "markdown",
   "id": "15b7f092",
   "metadata": {},
   "source": [
    "**Excepción de tipo `ValueError`**"
   ]
  },
  {
   "cell_type": "code",
   "execution_count": 81,
   "id": "c0c924be",
   "metadata": {},
   "outputs": [
    {
     "ename": "ValueError",
     "evalue": "math domain error",
     "output_type": "error",
     "traceback": [
      "\u001b[1;31m---------------------------------------------------------------------------\u001b[0m",
      "\u001b[1;31mValueError\u001b[0m                                Traceback (most recent call last)",
      "Cell \u001b[1;32mIn[81], line 3\u001b[0m\n\u001b[0;32m      1\u001b[0m \u001b[38;5;66;03m# Error de valor: Argumento fuera de rango\u001b[39;00m\n\u001b[0;32m      2\u001b[0m \u001b[38;5;28;01mimport\u001b[39;00m \u001b[38;5;21;01mmath\u001b[39;00m\n\u001b[1;32m----> 3\u001b[0m raiz_negativa \u001b[38;5;241m=\u001b[39m \u001b[43mmath\u001b[49m\u001b[38;5;241;43m.\u001b[39;49m\u001b[43msqrt\u001b[49m\u001b[43m(\u001b[49m\u001b[38;5;241;43m-\u001b[39;49m\u001b[38;5;241;43m9\u001b[39;49m\u001b[43m)\u001b[49m\n",
      "\u001b[1;31mValueError\u001b[0m: math domain error"
     ]
    }
   ],
   "source": [
    "# Error de valor: Argumento fuera de rango\n",
    "import math\n",
    "raiz_negativa = math.sqrt(-9)"
   ]
  },
  {
   "cell_type": "markdown",
   "id": "3cc6b9e5",
   "metadata": {},
   "source": [
    "**Excepción de tipo `ZeroDivisionError`**"
   ]
  },
  {
   "cell_type": "code",
   "execution_count": 82,
   "id": "bd3219f1",
   "metadata": {},
   "outputs": [
    {
     "ename": "ZeroDivisionError",
     "evalue": "division by zero",
     "output_type": "error",
     "traceback": [
      "\u001b[1;31m---------------------------------------------------------------------------\u001b[0m",
      "\u001b[1;31mZeroDivisionError\u001b[0m                         Traceback (most recent call last)",
      "Cell \u001b[1;32mIn[82], line 2\u001b[0m\n\u001b[0;32m      1\u001b[0m \u001b[38;5;66;03m# Error de división por cero\u001b[39;00m\n\u001b[1;32m----> 2\u001b[0m division \u001b[38;5;241m=\u001b[39m \u001b[38;5;241;43m10\u001b[39;49m\u001b[43m \u001b[49m\u001b[38;5;241;43m/\u001b[39;49m\u001b[43m \u001b[49m\u001b[38;5;241;43m0\u001b[39;49m\n",
      "\u001b[1;31mZeroDivisionError\u001b[0m: division by zero"
     ]
    }
   ],
   "source": [
    "# Error de división por cero\n",
    "division = 10 / 0"
   ]
  },
  {
   "cell_type": "markdown",
   "id": "68e98a08",
   "metadata": {},
   "source": [
    "**Excepción de tipo `OverflowError`**"
   ]
  },
  {
   "cell_type": "code",
   "execution_count": 83,
   "id": "65b8dd34",
   "metadata": {},
   "outputs": [
    {
     "ename": "OverflowError",
     "evalue": "(34, 'Result too large')",
     "output_type": "error",
     "traceback": [
      "\u001b[1;31m---------------------------------------------------------------------------\u001b[0m",
      "\u001b[1;31mOverflowError\u001b[0m                             Traceback (most recent call last)",
      "Cell \u001b[1;32mIn[83], line 2\u001b[0m\n\u001b[0;32m      1\u001b[0m \u001b[38;5;66;03m# Error de desbordamiento: Número demasiado grande para ser representado\u001b[39;00m\n\u001b[1;32m----> 2\u001b[0m numero_grande \u001b[38;5;241m=\u001b[39m \u001b[38;5;241;43m20.0\u001b[39;49m\u001b[43m \u001b[49m\u001b[38;5;241;43m*\u001b[39;49m\u001b[38;5;241;43m*\u001b[39;49m\u001b[43m \u001b[49m\u001b[38;5;241;43m20.0\u001b[39;49m\u001b[43m \u001b[49m\u001b[38;5;241;43m*\u001b[39;49m\u001b[38;5;241;43m*\u001b[39;49m\u001b[43m \u001b[49m\u001b[38;5;241;43m20.0\u001b[39;49m\n",
      "\u001b[1;31mOverflowError\u001b[0m: (34, 'Result too large')"
     ]
    }
   ],
   "source": [
    "# Error de desbordamiento: Número demasiado grande para ser representado\n",
    "numero_grande = 20.0 ** 20.0 ** 20.0"
   ]
  },
  {
   "cell_type": "markdown",
   "id": "d7f6770e",
   "metadata": {},
   "source": [
    "**Manejo de Excepciones**\n"
   ]
  },
  {
   "cell_type": "code",
   "execution_count": 84,
   "id": "b945aad7",
   "metadata": {},
   "outputs": [
    {
     "name": "stdout",
     "output_type": "stream",
     "text": [
      "Error: División por cero\n"
     ]
    }
   ],
   "source": [
    "try:\n",
    "    # Código propenso a generar una excepción\n",
    "    resultado = 10 / 0\n",
    "except ZeroDivisionError:\n",
    "    # Manejar la excepción\n",
    "    print(\"Error: División por cero\")"
   ]
  },
  {
   "cell_type": "markdown",
   "id": "89afb7b0",
   "metadata": {},
   "source": [
    "### Errores Semánticos\n",
    "\n",
    "Los errores semánticos en Python son más difíciles de detectar que los errores de sintaxis o las excepciones porque el código puede ejecutarse sin generar mensajes de error, pero produce resultados inesperados o incorrectos debido a una lógica incorrecta en el programa. Aquí se presentan algunos ejemplos de errores semánticos comunes en Python:"
   ]
  },
  {
   "cell_type": "markdown",
   "id": "07991696",
   "metadata": {},
   "source": [
    "**Operaciones incorrectas**"
   ]
  },
  {
   "cell_type": "code",
   "execution_count": 85,
   "id": "5b617bea",
   "metadata": {},
   "outputs": [
    {
     "ename": "ZeroDivisionError",
     "evalue": "division by zero",
     "output_type": "error",
     "traceback": [
      "\u001b[1;31m---------------------------------------------------------------------------\u001b[0m",
      "\u001b[1;31mZeroDivisionError\u001b[0m                         Traceback (most recent call last)",
      "Cell \u001b[1;32mIn[85], line 2\u001b[0m\n\u001b[0;32m      1\u001b[0m \u001b[38;5;66;03m# Error semántico: Operación incorrecta\u001b[39;00m\n\u001b[1;32m----> 2\u001b[0m resultado \u001b[38;5;241m=\u001b[39m \u001b[38;5;241;43m10\u001b[39;49m\u001b[43m \u001b[49m\u001b[38;5;241;43m/\u001b[39;49m\u001b[43m \u001b[49m\u001b[38;5;241;43m0\u001b[39;49m  \u001b[38;5;66;03m# División por cero\u001b[39;00m\n",
      "\u001b[1;31mZeroDivisionError\u001b[0m: division by zero"
     ]
    }
   ],
   "source": [
    "# Error semántico: Operación incorrecta\n",
    "resultado = 10 / 0  # División por cero"
   ]
  },
  {
   "cell_type": "markdown",
   "id": "b18820ca",
   "metadata": {},
   "source": [
    "**Lógica incorrecta**"
   ]
  },
  {
   "cell_type": "code",
   "execution_count": 86,
   "id": "3a4d2427",
   "metadata": {},
   "outputs": [
    {
     "ename": "ZeroDivisionError",
     "evalue": "division by zero",
     "output_type": "error",
     "traceback": [
      "\u001b[1;31m---------------------------------------------------------------------------\u001b[0m",
      "\u001b[1;31mZeroDivisionError\u001b[0m                         Traceback (most recent call last)",
      "Cell \u001b[1;32mIn[86], line 11\u001b[0m\n\u001b[0;32m      9\u001b[0m \u001b[38;5;66;03m# Llamar a la función con una lista vacía\u001b[39;00m\n\u001b[0;32m     10\u001b[0m valores \u001b[38;5;241m=\u001b[39m []\n\u001b[1;32m---> 11\u001b[0m promedio \u001b[38;5;241m=\u001b[39m \u001b[43mcalcular_promedio\u001b[49m\u001b[43m(\u001b[49m\u001b[43mvalores\u001b[49m\u001b[43m)\u001b[49m\n\u001b[0;32m     12\u001b[0m \u001b[38;5;28mprint\u001b[39m(\u001b[38;5;124m\"\u001b[39m\u001b[38;5;124mEl promedio es:\u001b[39m\u001b[38;5;124m\"\u001b[39m, promedio)\n",
      "Cell \u001b[1;32mIn[86], line 6\u001b[0m, in \u001b[0;36mcalcular_promedio\u001b[1;34m(valores)\u001b[0m\n\u001b[0;32m      4\u001b[0m \u001b[38;5;28;01mfor\u001b[39;00m valor \u001b[38;5;129;01min\u001b[39;00m valores:\n\u001b[0;32m      5\u001b[0m     suma \u001b[38;5;241m+\u001b[39m\u001b[38;5;241m=\u001b[39m valor\n\u001b[1;32m----> 6\u001b[0m promedio \u001b[38;5;241m=\u001b[39m \u001b[43msuma\u001b[49m\u001b[43m \u001b[49m\u001b[38;5;241;43m/\u001b[39;49m\u001b[43m \u001b[49m\u001b[38;5;28;43mlen\u001b[39;49m\u001b[43m(\u001b[49m\u001b[43mvalores\u001b[49m\u001b[43m)\u001b[49m\n\u001b[0;32m      7\u001b[0m \u001b[38;5;28;01mreturn\u001b[39;00m promedio\n",
      "\u001b[1;31mZeroDivisionError\u001b[0m: division by zero"
     ]
    }
   ],
   "source": [
    "# Error semántico: Lógica incorrecta\n",
    "def calcular_promedio(valores):\n",
    "    suma = 0\n",
    "    for valor in valores:\n",
    "        suma += valor\n",
    "    promedio = suma / len(valores)\n",
    "    return promedio\n",
    "\n",
    "# Llamar a la función con una lista vacía\n",
    "valores = []\n",
    "promedio = calcular_promedio(valores)\n",
    "print(\"El promedio es:\", promedio)"
   ]
  },
  {
   "cell_type": "markdown",
   "id": "cc6257c0",
   "metadata": {},
   "source": [
    "En este caso, si la lista `valores` está vacía, se generará un error al intentar dividir por cero, lo cual es un error semántico en el contexto del programa."
   ]
  },
  {
   "cell_type": "markdown",
   "id": "7f657160",
   "metadata": {},
   "source": [
    "**Uso incorrecto de estructuras de datos**"
   ]
  },
  {
   "cell_type": "code",
   "execution_count": 87,
   "id": "352b7519",
   "metadata": {},
   "outputs": [
    {
     "ename": "IndexError",
     "evalue": "list index out of range",
     "output_type": "error",
     "traceback": [
      "\u001b[1;31m---------------------------------------------------------------------------\u001b[0m",
      "\u001b[1;31mIndexError\u001b[0m                                Traceback (most recent call last)",
      "Cell \u001b[1;32mIn[87], line 3\u001b[0m\n\u001b[0;32m      1\u001b[0m \u001b[38;5;66;03m# Error semántico: Uso incorrecto de una lista\u001b[39;00m\n\u001b[0;32m      2\u001b[0m numeros \u001b[38;5;241m=\u001b[39m [\u001b[38;5;241m1\u001b[39m, \u001b[38;5;241m2\u001b[39m, \u001b[38;5;241m3\u001b[39m, \u001b[38;5;241m4\u001b[39m, \u001b[38;5;241m5\u001b[39m]\n\u001b[1;32m----> 3\u001b[0m ultimo_numero \u001b[38;5;241m=\u001b[39m \u001b[43mnumeros\u001b[49m\u001b[43m[\u001b[49m\u001b[38;5;241;43m10\u001b[39;49m\u001b[43m]\u001b[49m  \u001b[38;5;66;03m# Acceso a un índice fuera de rango\u001b[39;00m\n",
      "\u001b[1;31mIndexError\u001b[0m: list index out of range"
     ]
    }
   ],
   "source": [
    "# Error semántico: Uso incorrecto de una lista\n",
    "numeros = [1, 2, 3, 4, 5]\n",
    "ultimo_numero = numeros[10]  # Acceso a un índice fuera de rango"
   ]
  },
  {
   "cell_type": "markdown",
   "id": "b6e9b7e7",
   "metadata": {},
   "source": [
    "**Valores incorrectos**"
   ]
  },
  {
   "cell_type": "code",
   "execution_count": 88,
   "id": "22c30597",
   "metadata": {},
   "outputs": [],
   "source": [
    "# Error semántico: Asignación incorrecta de valores\n",
    "edad = -10  # Edad negativa"
   ]
  },
  {
   "cell_type": "markdown",
   "id": "9ec06f94",
   "metadata": {},
   "source": [
    "**Lógica de negocio incorrecta**"
   ]
  },
  {
   "cell_type": "code",
   "execution_count": 89,
   "id": "b5c984be",
   "metadata": {},
   "outputs": [],
   "source": [
    "# Error semántico: Cálculo incorrecto\n",
    "precio = 100\n",
    "descuento = 200  # Descuento mayor que el precio\n",
    "precio_final = precio - descuento"
   ]
  },
  {
   "cell_type": "markdown",
   "id": "14391b2c",
   "metadata": {},
   "source": [
    "**Cómo Identificar Errores Semánticos**\n",
    "\n",
    "Los errores semánticos generalmente se detectan cuando el programa produce resultados inesperados o incorrectos. Para identificar y corregir estos errores, es importante comprender la lógica del programa y revisar cuidadosamente el código en busca de posibles problemas. La depuración paso a paso y las pruebas exhaustivas del programa pueden ayudar a identificar y corregir los errores semánticos de manera efectiva."
   ]
  }
 ],
 "metadata": {
  "kernelspec": {
   "display_name": "Python 3 (ipykernel)",
   "language": "python",
   "name": "python3"
  },
  "language_info": {
   "codemirror_mode": {
    "name": "ipython",
    "version": 3
   },
   "file_extension": ".py",
   "mimetype": "text/x-python",
   "name": "python",
   "nbconvert_exporter": "python",
   "pygments_lexer": "ipython3",
   "version": "3.8.10"
  },
  "nbTranslate": {
   "displayLangs": [
    "*"
   ],
   "hotkey": "alt-t",
   "langInMainMenu": true,
   "sourceLang": "en",
   "targetLang": "fr",
   "useGoogleTranslate": true
  }
 },
 "nbformat": 4,
 "nbformat_minor": 5
}
