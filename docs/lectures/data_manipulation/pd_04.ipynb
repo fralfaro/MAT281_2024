{
 "cells": [
  {
   "cell_type": "markdown",
   "metadata": {},
   "source": [
    "<a href=\"https://colab.research.google.com/github/fralfaro/MAT281_2023/blob/main/docs/lectures/data_manipulation/pd_04.ipynb\" target=\"_parent\"><img src=\"https://colab.research.google.com/assets/colab-badge.svg\" alt=\"Open In Colab\"/></a>\n",
    "\n",
    "# Pivot & Melt"
   ]
  },
  {
   "cell_type": "markdown",
   "metadata": {},
   "source": [
    "## Formato Wide y Formato Long\n",
    "\n",
    "<img src=\"https://drive.google.com/uc?export=view&id=1NuAyGD-XH0MZd0YI01mBIBSOxski34k8\" width = \"600\" align=\"center\"/>\n",
    "\n",
    "\n",
    "\n",
    "Dentro del mundo de los dataframe (o datos tabulares) existen dos formas de presentar la naturaleza de los datos: formato wide y formato long. \n"
   ]
  },
  {
   "cell_type": "markdown",
   "metadata": {},
   "source": [
    "Por ejemplo, el conjunto de datos [Zoo Data Set](http://archive.ics.uci.edu/ml/datasets/zoo) presenta las características de diversos animales, de los cuales presentamos las primeras 5 columnas.\n",
    "\n",
    "|animal_name|hair|feathers|eggs|milk|\n",
    "|-----------|----|--------|----|----|\n",
    "|antelope|1|0|0|1|\n",
    "|bear|1|0|0|1|\n",
    "|buffalo|1|0|0|1|\n",
    "|catfish|0|0|1|0|\n",
    "\n",
    "La tabla así presentada se encuentra en **wide format**, es decir, donde los valores se extienden a través de las columnas."
   ]
  },
  {
   "cell_type": "markdown",
   "metadata": {},
   "source": [
    "Sería posible representar el mismo contenido anterior en **long format**, es decir, donde los mismos valores se indicaran a través de las filas:\n",
    "\n",
    "|animal_name|characteristic|value|\n",
    "|-----------|----|--------|\n",
    "|antelope|hair |1|\n",
    "|antelope|feathers|0|\n",
    "|antelope|eggs|0|\n",
    "|antelope|milk|1|\n",
    "|...|...|...|...|..|\n",
    "|catfish|hair |0|\n",
    "|catfish|feathers|0|\n",
    "|catfish|eggs|1|\n",
    "|catfish|milk|0|"
   ]
  },
  {
   "cell_type": "markdown",
   "metadata": {},
   "source": [
    "En python existen maneras de pasar del formato **wide** al formato **long** y viceversa."
   ]
  },
  {
   "cell_type": "markdown",
   "metadata": {},
   "source": [
    "## Pivotear y despivotear tablas"
   ]
  },
  {
   "cell_type": "markdown",
   "metadata": {},
   "source": [
    "### Pivot\n",
    "\n",
    "El pivoteo de una tabla corresponde al paso de una tabla desde el formato **long** al formato **wide**. Típicamente esto se realiza para poder comparar los valores que se obtienen para algún registro en particular, o para utilizar algunas herramientas de visualización básica que requieren dicho formato.\n",
    "\n",
    "Para ejemplificar estos resultados, ocupemos el conjunto de datos **terremotos.csv**, con contiene los registros de  terremotos de distintos paises desde el año 2000 al 2011.\n",
    "\n",
    "<img src=\"https://drive.google.com/uc?export=view&id=1ZPr9CE2Oq7a5HpaLuqbp43vpaSfPM9ty\" width = \"200\" align=\"center\"/>\n",
    "\n"
   ]
  },
  {
   "cell_type": "code",
   "execution_count": null,
   "metadata": {},
   "outputs": [],
   "source": [
    "import pandas as pd\n",
    "import numpy as np\n",
    "import os"
   ]
  },
  {
   "cell_type": "code",
   "execution_count": null,
   "metadata": {},
   "outputs": [],
   "source": [
    "# formato long\n",
    "\n",
    "url='https://drive.google.com/file/d/1Knut8vY4wuDFrO3bEjlQVUwq-CaRNJpu/view?usp=drive_link'\n",
    "url='https://drive.google.com/uc?id=' + url.split('/')[-2]\n",
    "\n",
    "df = pd.read_csv(url, sep=\",\")\n",
    "df.head()"
   ]
  },
  {
   "cell_type": "markdown",
   "metadata": {},
   "source": [
    "Por ejemplo,  se quiere saber el terremoto de mayor magnitud a nivel de país año. Tenemos dos formas de mostrar la información."
   ]
  },
  {
   "cell_type": "code",
   "execution_count": null,
   "metadata": {},
   "outputs": [],
   "source": [
    "# formato long\n",
    "df.groupby(['Pais','Año']).max()"
   ]
  },
  {
   "cell_type": "code",
   "execution_count": null,
   "metadata": {},
   "outputs": [],
   "source": [
    "# formato wide\n",
    "df_pivot = df.pivot_table(index=\"Pais\", columns=\"Año\", values=\"Magnitud\", fill_value='', aggfunc=np.max)\n",
    "df_pivot"
   ]
  },
  {
   "cell_type": "markdown",
   "metadata": {},
   "source": [
    "### Despivotear un tabla\n",
    "\n",
    "El despivotear una tabla corresponde al paso de una tabla desde el formato **wide** al formato **long**. \n",
    "\n",
    "Se reconocen dos situaciones:\n",
    "\n",
    "1. El valor indicado para la columna es único, y sólo se requiere definir correctamente las columnas.\n",
    "2. El valor indicado por la columna no es único o requiere un procesamiento adicional, y se requiere una iteración más profunda.\n",
    "\n",
    "Para ejemplificar esto, crearemos un conjunto de datos con los horarios de los ramos que se tiene que dictar en un determinado día, hora y lugar."
   ]
  },
  {
   "cell_type": "markdown",
   "metadata": {},
   "source": [
    "<img src=\"https://drive.google.com/uc?export=view&id=1VpJA_7QwTbpogVnIWMr0mxwSStSaZiCd\" width = \"250\" align=\"center\"/>\n",
    "\n"
   ]
  },
  {
   "cell_type": "markdown",
   "metadata": {},
   "source": [
    "**a) El valor indicado para la columna es único**"
   ]
  },
  {
   "cell_type": "code",
   "execution_count": null,
   "metadata": {},
   "outputs": [],
   "source": [
    "columns = [\"sala\",\"dia\",\"08:00\",\"09:00\",\"10:00\"]\n",
    "data = [\n",
    "        [\"C201\",\"Lu\", \"mat1\",\"mat1\",    \"\"],\n",
    "        [\"C201\",\"Ma\", \"\",\"\",\"\"],\n",
    "        [\"C202\",\"Lu\", \"\",\"\",\"\"],\n",
    "        [\"C202\",\"Ma\", \"mat1\",\"mat1\",    \"\"],\n",
    "        [\"C203\",\"Lu\", \"fis1\",\"fis1\",\"fis1\"],\n",
    "        [\"C203\",\"Ma\", \"fis1\",\"fis1\",\"fis1\"],\n",
    "       ]\n",
    "df = pd.DataFrame(data=data, columns=columns)\n",
    "df"
   ]
  },
  {
   "cell_type": "code",
   "execution_count": null,
   "metadata": {},
   "outputs": [],
   "source": [
    "# Despivotear incorrectamente la tabla\n",
    "df_melt = df.melt(id_vars=[\"sala\"], var_name=\"hora\", value_name=\"curso\")\n",
    "df_melt"
   ]
  },
  {
   "cell_type": "code",
   "execution_count": null,
   "metadata": {},
   "outputs": [],
   "source": [
    "# Despivotear correctamente la tabla\n",
    "df_melt = df.melt(id_vars=[\"sala\", \"dia\"], var_name=\"hora\", value_name=\"curso\")\n",
    "df_melt[df_melt.curso!=\"\"].sort_values([\"sala\",\"dia\",\"hora\"])"
   ]
  },
  {
   "cell_type": "markdown",
   "metadata": {},
   "source": [
    "**b) Relaciones no únicas**"
   ]
  },
  {
   "cell_type": "code",
   "execution_count": null,
   "metadata": {},
   "outputs": [],
   "source": [
    "columns = [\"sala\",\"curso\",\"Lu\",\"Ma\",\"hora\"]\n",
    "data = [\n",
    "        [\"C201\",\"mat1\",\"X\",\"\",\"8:00-10:00\"],\n",
    "        [\"C202\",\"mat1\",\"\",\"X\",\"8:00-10:00\"],\n",
    "        [\"C203\",\"fis1\",\"X\",\"X\",\"8:00-11:00\"],\n",
    "       ]\n",
    "df = pd.DataFrame(data=data, columns=columns)\n",
    "df"
   ]
  },
  {
   "cell_type": "markdown",
   "metadata": {},
   "source": [
    "#### Métodos"
   ]
  },
  {
   "cell_type": "markdown",
   "metadata": {},
   "source": [
    "**método 01:  Despivotear manualmente y generar un nuevo dataframe**\n",
    "\n",
    "* **Ventajas**: Si se puede es una solución directa y rápida.\n",
    "* **Desventaja**: requiere programación explícita de la tarea, no es reutilizable."
   ]
  },
  {
   "cell_type": "code",
   "execution_count": null,
   "metadata": {},
   "outputs": [],
   "source": [
    "# Obtener el día lunes\n",
    "df_Lu = df.loc[df.Lu==\"X\", [\"sala\",\"curso\",\"hora\"]]\n",
    "df_Lu[\"dia\"] = \"Lu\"\n",
    "df_Lu"
   ]
  },
  {
   "cell_type": "code",
   "execution_count": null,
   "metadata": {},
   "outputs": [],
   "source": [
    "# Obtener el día martes\n",
    "df_Ma = df.loc[df.Ma==\"X\", [\"sala\",\"curso\",\"hora\"]]\n",
    "df_Ma[\"dia\"] = \"Ma\"\n",
    "df_Ma"
   ]
  },
  {
   "cell_type": "code",
   "execution_count": null,
   "metadata": {},
   "outputs": [],
   "source": [
    "# Juntar\n",
    "pd.concat([df_Lu,df_Ma])"
   ]
  },
  {
   "cell_type": "markdown",
   "metadata": {},
   "source": [
    "**método 02: Iterar sobre las filas y generar contenido para un nuevo dataframe**\n",
    "* **Ventajas**: En general, fácil de codificar.\n",
    "* **Desventaja**: puede ser lento, es ineficiente."
   ]
  },
  {
   "cell_type": "code",
   "execution_count": null,
   "metadata": {},
   "outputs": [],
   "source": [
    "my_columns = [\"sala\",\"curso\",\"dia\",\"hora\"]\n",
    "my_data = []\n",
    "for i, df_row in df.iterrows():\n",
    "    # Procesar cada fila\n",
    "    if df_row.Lu==\"X\":\n",
    "        my_row = [df_row.sala, df_row.curso, \"Lu\", df_row.hora]\n",
    "        my_data.append(my_row)\n",
    "    if df_row.Ma==\"X\":\n",
    "        my_row = [df_row.sala, df_row.curso, \"Ma\", df_row.hora]\n",
    "        my_data.append(my_row)\n",
    "new_df = pd.DataFrame(data=my_data, columns=my_columns)\n",
    "new_df"
   ]
  },
  {
   "cell_type": "markdown",
   "metadata": {},
   "source": [
    "## Referencias\n",
    "\n",
    "1. [Reshaping and pivot tables](https://pandas.pydata.org/pandas-docs/stable/user_guide/reshaping.html)"
   ]
  }
 ],
 "metadata": {
  "kernelspec": {
   "display_name": "Python 3 (ipykernel)",
   "language": "python",
   "name": "python3"
  },
  "language_info": {
   "codemirror_mode": {
    "name": "ipython",
    "version": 3
   },
   "file_extension": ".py",
   "mimetype": "text/x-python",
   "name": "python",
   "nbconvert_exporter": "python",
   "pygments_lexer": "ipython3",
   "version": "3.8.10"
  },
  "nbTranslate": {
   "displayLangs": [
    "*"
   ],
   "hotkey": "alt-t",
   "langInMainMenu": true,
   "sourceLang": "en",
   "targetLang": "fr",
   "useGoogleTranslate": true
  }
 },
 "nbformat": 4,
 "nbformat_minor": 4
}
