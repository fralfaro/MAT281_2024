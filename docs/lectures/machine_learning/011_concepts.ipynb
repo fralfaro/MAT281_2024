{
 "cells": [
  {
   "cell_type": "markdown",
   "id": "cffc10f4",
   "metadata": {},
   "source": [
    "<a href=\"https://colab.research.google.com/github/fralfaro/MAT281_2024/blob/main/docs/lectures/machine_learning/011_concepts.ipynb\" target=\"_parent\"><img src=\"https://colab.research.google.com/assets/colab-badge.svg\" alt=\"Open In Colab\"/></a>\n",
    "\n",
    "# Conceptos Básicos ML"
   ]
  },
  {
   "cell_type": "markdown",
   "id": "457888a6",
   "metadata": {},
   "source": [
    "## Representación de Datos\n",
    "\n",
    "Una tabla es una cuadrícula de datos organizada en filas y columnas. Las filas corresponden a elementos individuales del conjunto, mientras que las columnas representan atributos o características de estos elementos.\n",
    "\n",
    "Por ejemplo, el conjunto de datos **Iris**, estudiado por **Ronald Fisher** en 1936, utiliza esta estructura para mostrar las características de diferentes especies de flores.\n",
    "\n",
    "**Descripción de los columnas**\n",
    "\n",
    "- **sepal_length**: Longitud del sépalo en centímetros.\n",
    "- **sepal_width**: Ancho del sépalo en centímetros.\n",
    "- **petal_length**: Longitud del pétalo en centímetros.\n",
    "- **petal_width**: Ancho del pétalo en centímetros.\n",
    "- **species**: Especie de la flor (setosa, versicolor, virginica)."
   ]
  },
  {
   "cell_type": "code",
   "execution_count": 1,
   "id": "49364d7e",
   "metadata": {},
   "outputs": [
    {
     "data": {
      "text/html": [
       "<div>\n",
       "<style scoped>\n",
       "    .dataframe tbody tr th:only-of-type {\n",
       "        vertical-align: middle;\n",
       "    }\n",
       "\n",
       "    .dataframe tbody tr th {\n",
       "        vertical-align: top;\n",
       "    }\n",
       "\n",
       "    .dataframe thead th {\n",
       "        text-align: right;\n",
       "    }\n",
       "</style>\n",
       "<table border=\"1\" class=\"dataframe\">\n",
       "  <thead>\n",
       "    <tr style=\"text-align: right;\">\n",
       "      <th></th>\n",
       "      <th>sepal_length</th>\n",
       "      <th>sepal_width</th>\n",
       "      <th>petal_length</th>\n",
       "      <th>petal_width</th>\n",
       "      <th>species</th>\n",
       "    </tr>\n",
       "  </thead>\n",
       "  <tbody>\n",
       "    <tr>\n",
       "      <th>0</th>\n",
       "      <td>5.1</td>\n",
       "      <td>3.5</td>\n",
       "      <td>1.4</td>\n",
       "      <td>0.2</td>\n",
       "      <td>setosa</td>\n",
       "    </tr>\n",
       "    <tr>\n",
       "      <th>1</th>\n",
       "      <td>4.9</td>\n",
       "      <td>3.0</td>\n",
       "      <td>1.4</td>\n",
       "      <td>0.2</td>\n",
       "      <td>setosa</td>\n",
       "    </tr>\n",
       "    <tr>\n",
       "      <th>2</th>\n",
       "      <td>4.7</td>\n",
       "      <td>3.2</td>\n",
       "      <td>1.3</td>\n",
       "      <td>0.2</td>\n",
       "      <td>setosa</td>\n",
       "    </tr>\n",
       "    <tr>\n",
       "      <th>3</th>\n",
       "      <td>4.6</td>\n",
       "      <td>3.1</td>\n",
       "      <td>1.5</td>\n",
       "      <td>0.2</td>\n",
       "      <td>setosa</td>\n",
       "    </tr>\n",
       "    <tr>\n",
       "      <th>4</th>\n",
       "      <td>5.0</td>\n",
       "      <td>3.6</td>\n",
       "      <td>1.4</td>\n",
       "      <td>0.2</td>\n",
       "      <td>setosa</td>\n",
       "    </tr>\n",
       "  </tbody>\n",
       "</table>\n",
       "</div>"
      ],
      "text/plain": [
       "   sepal_length  sepal_width  petal_length  petal_width species\n",
       "0           5.1          3.5           1.4          0.2  setosa\n",
       "1           4.9          3.0           1.4          0.2  setosa\n",
       "2           4.7          3.2           1.3          0.2  setosa\n",
       "3           4.6          3.1           1.5          0.2  setosa\n",
       "4           5.0          3.6           1.4          0.2  setosa"
      ]
     },
     "execution_count": 1,
     "metadata": {},
     "output_type": "execute_result"
    }
   ],
   "source": [
    "import seaborn as sns\n",
    "iris = sns.load_dataset('iris')\n",
    "iris.head()"
   ]
  },
  {
   "cell_type": "markdown",
   "id": "dbd4ad10",
   "metadata": {},
   "source": [
    "Aquí, cada fila representa una flor observada, y el número total de filas corresponde a la cantidad de flores en el conjunto de datos, denominado `n_samples`. Las filas se conocen como muestras (*samples*). \n",
    "\n",
    "De manera similar, cada columna proporciona información específica sobre cada muestra, llamada característica (*feature*). El número total de columnas se denomina `n_features`."
   ]
  },
  {
   "cell_type": "markdown",
   "id": "281d808c",
   "metadata": {},
   "source": [
    "### Matriz de características y Arreglo de Etiquetas \n",
    "\n",
    "<img src=\"https://raw.githubusercontent.com/jakevdp/PythonDataScienceHandbook/master/notebooks/figures/05.02-samples-features.png\"  align=\"center\"  />\n"
   ]
  },
  {
   "cell_type": "markdown",
   "id": "75759fd9",
   "metadata": {},
   "source": [
    "#### Matriz de Características \n",
    "\n",
    "La **matriz de características** es la representación de los datos de entrada en un problema de aprendizaje automático. Se trata de una matriz bidimensional con forma `[n_samples, n_features]`, donde las filas representan muestras y las columnas las características o atributos que describen cada muestra. \n",
    "\n",
    "Las características suelen ser valores cuantitativos, aunque pueden ser booleanos o discretos. Por convención, esta matriz se almacena en una variable llamada `X`."
   ]
  },
  {
   "cell_type": "code",
   "execution_count": 2,
   "id": "34ea1dd5",
   "metadata": {},
   "outputs": [
    {
     "data": {
      "text/html": [
       "<div>\n",
       "<style scoped>\n",
       "    .dataframe tbody tr th:only-of-type {\n",
       "        vertical-align: middle;\n",
       "    }\n",
       "\n",
       "    .dataframe tbody tr th {\n",
       "        vertical-align: top;\n",
       "    }\n",
       "\n",
       "    .dataframe thead th {\n",
       "        text-align: right;\n",
       "    }\n",
       "</style>\n",
       "<table border=\"1\" class=\"dataframe\">\n",
       "  <thead>\n",
       "    <tr style=\"text-align: right;\">\n",
       "      <th></th>\n",
       "      <th>sepal_length</th>\n",
       "      <th>sepal_width</th>\n",
       "      <th>petal_length</th>\n",
       "      <th>petal_width</th>\n",
       "    </tr>\n",
       "  </thead>\n",
       "  <tbody>\n",
       "    <tr>\n",
       "      <th>0</th>\n",
       "      <td>5.1</td>\n",
       "      <td>3.5</td>\n",
       "      <td>1.4</td>\n",
       "      <td>0.2</td>\n",
       "    </tr>\n",
       "    <tr>\n",
       "      <th>1</th>\n",
       "      <td>4.9</td>\n",
       "      <td>3.0</td>\n",
       "      <td>1.4</td>\n",
       "      <td>0.2</td>\n",
       "    </tr>\n",
       "    <tr>\n",
       "      <th>2</th>\n",
       "      <td>4.7</td>\n",
       "      <td>3.2</td>\n",
       "      <td>1.3</td>\n",
       "      <td>0.2</td>\n",
       "    </tr>\n",
       "    <tr>\n",
       "      <th>3</th>\n",
       "      <td>4.6</td>\n",
       "      <td>3.1</td>\n",
       "      <td>1.5</td>\n",
       "      <td>0.2</td>\n",
       "    </tr>\n",
       "    <tr>\n",
       "      <th>4</th>\n",
       "      <td>5.0</td>\n",
       "      <td>3.6</td>\n",
       "      <td>1.4</td>\n",
       "      <td>0.2</td>\n",
       "    </tr>\n",
       "    <tr>\n",
       "      <th>...</th>\n",
       "      <td>...</td>\n",
       "      <td>...</td>\n",
       "      <td>...</td>\n",
       "      <td>...</td>\n",
       "    </tr>\n",
       "    <tr>\n",
       "      <th>145</th>\n",
       "      <td>6.7</td>\n",
       "      <td>3.0</td>\n",
       "      <td>5.2</td>\n",
       "      <td>2.3</td>\n",
       "    </tr>\n",
       "    <tr>\n",
       "      <th>146</th>\n",
       "      <td>6.3</td>\n",
       "      <td>2.5</td>\n",
       "      <td>5.0</td>\n",
       "      <td>1.9</td>\n",
       "    </tr>\n",
       "    <tr>\n",
       "      <th>147</th>\n",
       "      <td>6.5</td>\n",
       "      <td>3.0</td>\n",
       "      <td>5.2</td>\n",
       "      <td>2.0</td>\n",
       "    </tr>\n",
       "    <tr>\n",
       "      <th>148</th>\n",
       "      <td>6.2</td>\n",
       "      <td>3.4</td>\n",
       "      <td>5.4</td>\n",
       "      <td>2.3</td>\n",
       "    </tr>\n",
       "    <tr>\n",
       "      <th>149</th>\n",
       "      <td>5.9</td>\n",
       "      <td>3.0</td>\n",
       "      <td>5.1</td>\n",
       "      <td>1.8</td>\n",
       "    </tr>\n",
       "  </tbody>\n",
       "</table>\n",
       "<p>150 rows × 4 columns</p>\n",
       "</div>"
      ],
      "text/plain": [
       "     sepal_length  sepal_width  petal_length  petal_width\n",
       "0             5.1          3.5           1.4          0.2\n",
       "1             4.9          3.0           1.4          0.2\n",
       "2             4.7          3.2           1.3          0.2\n",
       "3             4.6          3.1           1.5          0.2\n",
       "4             5.0          3.6           1.4          0.2\n",
       "..            ...          ...           ...          ...\n",
       "145           6.7          3.0           5.2          2.3\n",
       "146           6.3          2.5           5.0          1.9\n",
       "147           6.5          3.0           5.2          2.0\n",
       "148           6.2          3.4           5.4          2.3\n",
       "149           5.9          3.0           5.1          1.8\n",
       "\n",
       "[150 rows x 4 columns]"
      ]
     },
     "execution_count": 2,
     "metadata": {},
     "output_type": "execute_result"
    }
   ],
   "source": [
    "# features matrix\n",
    "X = iris.drop('species',axis=1)\n",
    "X"
   ]
  },
  {
   "cell_type": "markdown",
   "id": "c581741a",
   "metadata": {},
   "source": [
    "#### Arreglo de Etiquetas\n",
    "\n",
    "Además de la matriz de características `X`, trabajamos con un **arreglo de etiquetas** (`target array`), comúnmente llamado `y`. Este arreglo es unidimensional y tiene una longitud igual a `n_samples`, almacenando los valores objetivo para cada muestra. Los valores pueden ser numéricos continuos o clases discretas. \n",
    "\n",
    "Aunque algunos estimadores de Scikit-Learn permiten una matriz bidimensional `[n_samples, n_targets]`, generalmente nos enfocamos en el caso más común de un arreglo unidimensional."
   ]
  },
  {
   "cell_type": "code",
   "execution_count": 3,
   "id": "2eda7f6f",
   "metadata": {},
   "outputs": [
    {
     "data": {
      "text/plain": [
       "0         setosa\n",
       "1         setosa\n",
       "2         setosa\n",
       "3         setosa\n",
       "4         setosa\n",
       "         ...    \n",
       "145    virginica\n",
       "146    virginica\n",
       "147    virginica\n",
       "148    virginica\n",
       "149    virginica\n",
       "Name: species, Length: 150, dtype: object"
      ]
     },
     "execution_count": 3,
     "metadata": {},
     "output_type": "execute_result"
    }
   ],
   "source": [
    "# target\n",
    "y = iris['species']\n",
    "y"
   ]
  },
  {
   "cell_type": "markdown",
   "id": "2a964e24",
   "metadata": {},
   "source": [
    "### Conjunto de Entrenamiento y Prueba\n",
    "\n",
    "El **conjunto de entrenamiento** (train set) y el **conjunto de prueba** (test set) son dos subconjuntos de datos utilizados en aprendizaje automático. \n",
    "\n",
    "El primero se usa para entrenar el modelo, mientras que el segundo se reserva para evaluar su rendimiento y capacidad de generalización.\n",
    "\n",
    "\n",
    "<img src=\"https://media.licdn.com/dms/image/D4D12AQGDGMjsrzigDg/article-cover_image-shrink_600_2000/0/1674057624735?e=2147483647&v=beta&t=tVSJ36hIjz7sFWVEDRQuvBZxAtFu5JnlCiDpvIuDGI4\" width = \"600\"  align=\"center\"  />"
   ]
  },
  {
   "cell_type": "markdown",
   "id": "7a33475b",
   "metadata": {},
   "source": [
    "\n",
    "- El **conjunto de entrenamiento** es un subconjunto de datos utilizado para ajustar los parámetros del modelo y aprender la relación entre las variables de entrada y la salida. En esencia, sirve para entrenar al modelo.\n",
    "\n",
    "- El **conjunto de prueba** es otro subconjunto, separado del proceso de entrenamiento, empleado para evaluar el rendimiento del modelo. Permite medir su capacidad de generalización al enfrentarlo a datos nuevos y no vistos previamente."
   ]
  },
  {
   "cell_type": "markdown",
   "id": "0c2cbc36",
   "metadata": {},
   "source": [
    "La función `train_test_split` de Scikit-learn es una herramienta esencial para dividir un conjunto de datos en subconjuntos de entrenamiento y prueba. Permite especificar la proporción de datos para cada conjunto, siendo 75% para entrenamiento y 25% para prueba de forma predeterminada. Además, toma como entrada tanto los datos como las etiquetas correspondientes. \n",
    "\n",
    "\n",
    "\n",
    "Aquí un ejemplo de cómo utilizarla:"
   ]
  },
  {
   "cell_type": "code",
   "execution_count": 7,
   "id": "9b9e09a4",
   "metadata": {},
   "outputs": [],
   "source": [
    "from sklearn.model_selection import train_test_split\n",
    "\n",
    "# separar informacion\n",
    "X_train, X_test, y_train, y_test = train_test_split(X, y,test_size=0.25, random_state=42)"
   ]
  },
  {
   "cell_type": "markdown",
   "id": "d66c52f0",
   "metadata": {},
   "source": [
    "La función `train_test_split(X, y, test_size=0.25, random_state=42)` divide los datos en un conjunto de entrenamiento y otro de prueba. \n",
    "\n",
    "- `X` son los datos de entrada y `y` las etiquetas.\n",
    "- `test_size=0.25` asigna el 25% de los datos al conjunto de prueba y el 75% al de entrenamiento.\n",
    "- `random_state=42` asegura que la división sea reproducible, generando los mismos subconjuntos cada vez que se ejecuta el código.\n"
   ]
  },
  {
   "cell_type": "code",
   "execution_count": 8,
   "id": "857027f2",
   "metadata": {},
   "outputs": [
    {
     "name": "stdout",
     "output_type": "stream",
     "text": [
      "dimensiones de X_train: (112, 4)\n",
      "dimensiones de y_train: (112,)\n",
      "\n",
      "dimensiones de X_test:   (38, 4)\n",
      "dimensiones de y_test:   (38,)\n"
     ]
    }
   ],
   "source": [
    "print(f\"dimensiones de X_train: {X_train.shape}\")\n",
    "print(f\"dimensiones de y_train: {y_train.shape}\")\n",
    "print(\"\")\n",
    "print(f\"dimensiones de X_test:   {X_test.shape}\")\n",
    "print(f\"dimensiones de y_test:   {y_test.shape}\")"
   ]
  },
  {
   "cell_type": "markdown",
   "id": "a615559b",
   "metadata": {},
   "source": [
    "**Reglas de separación**\n",
    "\n",
    "En general, los datos se dividen en conjuntos de entrenamiento y prueba. El tamaño de cada conjunto puede variar según el número de filas y la complejidad del modelo. Por lo general, el conjunto de entrenamiento ocupa entre el 70% y el 80%, mientras que el de prueba ocupa entre el 20% y el 30%. \n",
    "\n",
    "Aquí hay una referencia sugerida:\n",
    "\n",
    "| Número de filas      | Conjunto de entrenamiento | Conjunto de prueba |\n",
    "|----------------------|---------------------------|--------------------|\n",
    "| 100 - 1,000          | 70%                       | 30%                |\n",
    "| 1,000 - 100,000      | 80%                       | 20%                |\n",
    "| Más de 100,000       | 90%                       | 10%                |"
   ]
  },
  {
   "cell_type": "markdown",
   "id": "b151125e",
   "metadata": {},
   "source": [
    "## Error de Estimación\n",
    "\n",
    "El **error de estimación** es la diferencia entre los valores reales y los valores predichos por un modelo. En aprendizaje automático, se refiere a la discrepancia entre la variable objetivo (dependiente) y la predicción del modelo. El objetivo principal es **minimizar este error** para mejorar la precisión en las predicciones.\n",
    "\n",
    "El cálculo del error de estimación depende del tipo de datos en la variable objetivo:\n",
    "- **Numéricos**: Se utilizan métricas como el Error Cuadrático Medio (MSE) o el Error Absoluto Medio (MAE).\n",
    "- **Categóricos**: Se aplican métricas como la precisión o el F1-score.\n",
    "\n",
    "<img src=\"https://images.ctfassets.net/dkgr2j75jrom/A6Xf1MfISZhiQWuyGFDpV/708d5fd82c14d8db6eb0d4af1c27d525/PillarPage-Qual-Quan-3.svg\" width = \"600\"  align=\"center\"  />"
   ]
  },
  {
   "cell_type": "markdown",
   "id": "f55665a7",
   "metadata": {},
   "source": [
    "### Error de Estimación: Datos Numéricos\n",
    "\n",
    "Para datos numéricos, el **error de estimación** se calcula como la diferencia entre el valor real y el valor predicho por el modelo. Este error se expresa matemáticamente como:\n",
    "\n",
    "\n",
    "$$\\text{Error} = \\text{Valor real} - \\text{Valor predicho}$$\n",
    "\n",
    "El objetivo es minimizar esta diferencia. Las métricas comunes para evaluar este error incluyen:\n",
    "\n",
    "- **Error Absoluto Medio (MAE)**: Promedio de los valores absolutos de las diferencias.\n",
    "- **Error Cuadrático Medio (MSE)**: Promedio de los cuadrados de las diferencias, sensible a valores atípicos.\n",
    "- **Raíz del Error Cuadrático Medio (RMSE)**: Raíz cuadrada del MSE, proporcionando una métrica en las mismas unidades que los datos. \n",
    "\n",
    "Estas métricas permiten evaluar la precisión del modelo y ajustar sus parámetros para mejorar las predicciones.\n",
    "\n",
    "\n",
    "<img src=\"https://raw.githubusercontent.com/fralfaro/MAT281_2022/main/docs/lectures/ml/analisis_supervisado_regresion/images/error.png\" width=\"480\" height=\"360\" align=\"rigt\"/>\n"
   ]
  },
  {
   "cell_type": "markdown",
   "id": "84f26e41",
   "metadata": {},
   "source": [
    "Vamos a ilustrarlo con un ejemplo práctico:\n",
    "\n",
    "El código crea un conjunto de datos de ejemplo utilizando números consecutivos (`x`) y valores calculados (`y_real` y `y_pred`). `y_real` es una función lineal de `x`, mientras que `y_pred` introduce variación aleatoria para simular diferencias de predicción. Los datos se organizan en un DataFrame de pandas y se muestran las primeras filas para su revisión."
   ]
  },
  {
   "cell_type": "code",
   "execution_count": 9,
   "id": "19160343",
   "metadata": {},
   "outputs": [
    {
     "data": {
      "text/html": [
       "<div>\n",
       "<style scoped>\n",
       "    .dataframe tbody tr th:only-of-type {\n",
       "        vertical-align: middle;\n",
       "    }\n",
       "\n",
       "    .dataframe tbody tr th {\n",
       "        vertical-align: top;\n",
       "    }\n",
       "\n",
       "    .dataframe thead th {\n",
       "        text-align: right;\n",
       "    }\n",
       "</style>\n",
       "<table border=\"1\" class=\"dataframe\">\n",
       "  <thead>\n",
       "    <tr style=\"text-align: right;\">\n",
       "      <th></th>\n",
       "      <th>x</th>\n",
       "      <th>y_real</th>\n",
       "      <th>y_pred</th>\n",
       "    </tr>\n",
       "  </thead>\n",
       "  <tbody>\n",
       "    <tr>\n",
       "      <th>0</th>\n",
       "      <td>1</td>\n",
       "      <td>2</td>\n",
       "      <td>2.993428</td>\n",
       "    </tr>\n",
       "    <tr>\n",
       "      <th>1</th>\n",
       "      <td>2</td>\n",
       "      <td>4</td>\n",
       "      <td>3.723471</td>\n",
       "    </tr>\n",
       "    <tr>\n",
       "      <th>2</th>\n",
       "      <td>3</td>\n",
       "      <td>6</td>\n",
       "      <td>7.295377</td>\n",
       "    </tr>\n",
       "    <tr>\n",
       "      <th>3</th>\n",
       "      <td>4</td>\n",
       "      <td>8</td>\n",
       "      <td>11.046060</td>\n",
       "    </tr>\n",
       "    <tr>\n",
       "      <th>4</th>\n",
       "      <td>5</td>\n",
       "      <td>10</td>\n",
       "      <td>9.531693</td>\n",
       "    </tr>\n",
       "  </tbody>\n",
       "</table>\n",
       "</div>"
      ],
      "text/plain": [
       "   x  y_real     y_pred\n",
       "0  1       2   2.993428\n",
       "1  2       4   3.723471\n",
       "2  3       6   7.295377\n",
       "3  4       8  11.046060\n",
       "4  5      10   9.531693"
      ]
     },
     "execution_count": 9,
     "metadata": {},
     "output_type": "execute_result"
    }
   ],
   "source": [
    "# Importar las bibliotecas necesarias\n",
    "import pandas as pd\n",
    "import numpy as np\n",
    "import matplotlib.pyplot as plt\n",
    "import seaborn as sns\n",
    "\n",
    "# Configurar semilla para reproducibilidad\n",
    "np.random.seed(42)\n",
    "\n",
    "# Crear un conjunto de datos de ejemplo\n",
    "n = 50\n",
    "x = np.arange(1, n + 1)\n",
    "y_real = 2 * x  \n",
    "y_pred = 2 * x + 2 * np.random.randn(n)  # Introducir variación aleatoria\n",
    "\n",
    "# Crear DataFrame\n",
    "df = pd.DataFrame({\n",
    "    'x': x,\n",
    "    'y_real': y_real,\n",
    "    'y_pred': y_pred\n",
    "})\n",
    "\n",
    "# Mostrar las primeras filas del DataFrame\n",
    "df.head()"
   ]
  },
  {
   "cell_type": "code",
   "execution_count": 10,
   "id": "76f669b3",
   "metadata": {},
   "outputs": [
    {
     "data": {
      "image/png": "[encoded data removed]",
      "text/plain": [
       "<Figure size 1200x400 with 1 Axes>"
      ]
     },
     "metadata": {},
     "output_type": "display_data"
    }
   ],
   "source": [
    "# Visualizar los resultados\n",
    "plt.figure(figsize=(12, 4))\n",
    "plt.scatter(df['x'], df['y_pred'], color='red', label='Predicciones')\n",
    "plt.plot(df['x'], df['y_real'], color='blue', label='Valores reales')\n",
    "plt.xlabel('x')\n",
    "plt.ylabel('Valores')\n",
    "plt.title('Comparación entre valores reales y predicciones')\n",
    "plt.legend()\n",
    "plt.show()"
   ]
  },
  {
   "cell_type": "markdown",
   "id": "75355948",
   "metadata": {},
   "source": [
    "La línea azul muestra los valores originales, mientras que los puntos rojos representan las predicciones del modelo. \n",
    "\n",
    "A continuación, analizaremos el error de estimación entre los valores originales ($y$) y los valores estimados ($\\hat{y}$):"
   ]
  },
  {
   "cell_type": "code",
   "execution_count": 11,
   "id": "2f18d539",
   "metadata": {},
   "outputs": [
    {
     "data": {
      "text/plain": [
       "array([-0.99342831,  0.2765286 , -1.29537708, -3.04605971,  0.46830675,\n",
       "        0.46827391, -3.15842563, -1.53486946,  0.93894877, -1.08512009,\n",
       "        0.92683539,  0.93145951, -0.48392454,  3.82656049,  3.44983567,\n",
       "        1.12457506,  2.02566224, -0.62849467,  1.81604815,  2.8246074 ,\n",
       "       -2.93129754,  0.4515526 , -0.13505641,  2.84949637,  1.08876545,\n",
       "       -0.22184518,  2.30198715, -0.75139604,  1.20127738,  0.5833875 ,\n",
       "        1.20341322, -3.70455637,  0.02699445,  2.11542186, -1.64508982,\n",
       "        2.4416873 , -0.41772719,  3.91934025,  2.6563721 , -0.39372247,\n",
       "       -1.47693316, -0.34273656,  0.23129656,  0.60220739,  2.95704398,\n",
       "        1.43968842,  0.92127754, -2.11424445, -0.68723658,  3.52608031])"
      ]
     },
     "execution_count": 11,
     "metadata": {},
     "output_type": "execute_result"
    }
   ],
   "source": [
    "# Calcular el error de estimación\n",
    "y_original = df['y_real'].values\n",
    "y_estimado = df['y_pred'].values\n",
    "\n",
    "error_estimacion = y_original - y_estimado\n",
    "error_estimacion"
   ]
  },
  {
   "cell_type": "markdown",
   "id": "db71ddcb",
   "metadata": {},
   "source": [
    "Este resultado nos muestra el **error de estimación** para cada muestra (o fila). Para resumir este error, utilizamos **métricas de evaluación**, que se dividen en dos categorías principales:\n",
    "\n",
    "\n",
    "1. **Métricas absolutas**: Las métricas absolutas o no escalada miden el error sin escalar los valores. Las métrica absolutas más ocupadas son:\n",
    "\n",
    "    *  **Mean Absolute Error** (MAE)\n",
    "\n",
    "    $$\\textrm{MAE}(y,\\hat{y}) = \\dfrac{1}{n}\\sum_{t=1}^{n}\\left | y_{t}-\\hat{y}_{t}\\right |$$\n",
    "\n",
    "    *  **Root Mean Squared Error** (RMSE):\n",
    "\n",
    "    $$\\textrm{RMSE}(y,\\hat{y}) =(\\dfrac{1}{n}\\sum_{t=1}^{n}\\left ( y_{t}-\\hat{y}_{t}\\right )^2)^{1/2}$$\n",
    "\n",
    "2. **Métricas Porcentuales**: Las métricas porcentuales o escaladas miden el error de manera escalada, es decir, se busca acotar el error entre valores de 0 a 1, donde 0 significa que el ajuste es perfecto, mientras que 1 sería un mal ajuste. Cabe destacar que muchas veces las métricas porcentuales puden tener valores mayores a 1.Las métrica Porcentuales más ocupadas son:\n",
    "\n",
    "    * **Mean absolute percentage error** (MAPE):\n",
    "    \n",
    "    $$\\textrm{MAPE}(y,\\hat{y}) = \\dfrac{1}{n}\\sum_{t=1}^{n}\\left | \\frac{y_{t}-\\hat{y}_{t}}{y_{t}} \\right |$$\n",
    "\n",
    "    \n",
    "Veamos un ejemplo práctico, las métricas de estimación  las podemos obtener desde `sklearn.metrics`:\n",
    "\n"
   ]
  },
  {
   "cell_type": "code",
   "execution_count": 14,
   "id": "9cc5cda0",
   "metadata": {},
   "outputs": [
    {
     "name": "stdout",
     "output_type": "stream",
     "text": [
      "MAE:  1.5328\n",
      "RMSE: 3.6206\n",
      "MAPE: 0.0586\n"
     ]
    }
   ],
   "source": [
    "from sklearn.metrics import mean_absolute_error, mean_squared_error, mean_absolute_percentage_error\n",
    "\n",
    "# Calcular las métricas de error\n",
    "mae = mean_absolute_error(y_original, y_estimado)\n",
    "rmse = mean_squared_error(y_original, y_estimado)  \n",
    "mape = mean_absolute_percentage_error(y_original, y_estimado)\n",
    "\n",
    "# Mostrar los resultados\n",
    "print(f\"MAE:  {mae:.4f}\")\n",
    "print(f\"RMSE: {rmse:.4f}\")\n",
    "print(f\"MAPE: {mape:.4f}\")"
   ]
  },
  {
   "cell_type": "markdown",
   "id": "08dc3443",
   "metadata": {},
   "source": [
    "El código calcula tres métricas de error para evaluar la precisión de un modelo de predicción: \n",
    "\n",
    "- `MAE` (Error Absoluto Medio): promedio de los errores absolutos.\n",
    "- `RMSE` (Raíz del Error Cuadrático Medio): mide el error con sensibilidad a valores extremos.\n",
    "- `MAPE` (Error Absoluto Porcentual Medio): calcula el error relativo en porcentaje.\n",
    "\n",
    "Luego, imprime estos valores con cuatro decimales para una mejor interpretación de los resultados."
   ]
  },
  {
   "cell_type": "markdown",
   "id": "27cbf4dc",
   "metadata": {},
   "source": [
    "**¿Cómo identificar la mejor estimación entre dos modelos?**\n",
    "\n",
    "Si tenemos dos estimaciones, $\\hat{y}_{1}$ y $\\hat{y}_{2}$, la mejor será aquella que tenga el menor error según las **métricas de evaluación** (como MAE, RMSE o MAPE). \n",
    "\n",
    "Ahora, definamos una segunda estimación ($\\hat{y}_{2}$) y comparemos ambas utilizando estas métricas para determinar cuál ofrece un mejor ajuste."
   ]
  },
  {
   "cell_type": "code",
   "execution_count": 15,
   "id": "532a17d9",
   "metadata": {},
   "outputs": [
    {
     "name": "stdout",
     "output_type": "stream",
     "text": [
      "MAE (segunda estimación):  1.8174\n",
      "RMSE (segunda estimación): 4.7062\n",
      "MAPE (segunda estimación): 0.0671\n"
     ]
    }
   ],
   "source": [
    "# Definir una nueva estimación\n",
    "y_estimado_2 = y_estimado + np.random.randn(n)\n",
    "\n",
    "# Calcular el error de la segunda estimación\n",
    "mae_2 = mean_absolute_error(y_original, y_estimado_2)\n",
    "rmse_2 = mean_squared_error(y_original, y_estimado_2)  \n",
    "mape_2 = mean_absolute_percentage_error(y_original, y_estimado_2)\n",
    "\n",
    "# Mostrar los resultados\n",
    "print(f\"MAE (segunda estimación):  {mae_2:.4f}\")\n",
    "print(f\"RMSE (segunda estimación): {rmse_2:.4f}\")\n",
    "print(f\"MAPE (segunda estimación): {mape_2:.4f}\")\n"
   ]
  },
  {
   "cell_type": "markdown",
   "id": "239beda2",
   "metadata": {},
   "source": [
    "Al analizar las métricas de ambas estimaciones, encontramos los siguientes valores:\n",
    "\n",
    "- **Primera estimación ($\\hat{y}_{1}$):** \n",
    "  - MAE: 1.5328\n",
    "  - RMSE: 3.6206\n",
    "  - MAPE: 0.0586\n",
    "\n",
    "- **Segunda estimación ($\\hat{y}_{2}$):**\n",
    "  - MAE: 1.8174\n",
    "  - RMSE: 4.7062\n",
    "  - MAPE: 0.0671\n",
    "\n",
    "En este caso, todas las métricas (MAE, RMSE, MAPE) para la primera estimación son menores que las de la segunda. Por lo tanto, la primera estimación ($\\hat{y}_{1}$) se considera más precisa y efectiva que la segunda ($\\hat{y}_{2}$)."
   ]
  },
  {
   "cell_type": "markdown",
   "id": "38d4f41c",
   "metadata": {},
   "source": [
    "### Error de Estimación: Datos Categóricos\n",
    "\n",
    "Para calcular el **error de estimación** en datos categóricos, primero es importante comprender conceptos como la **matriz de confusión**. Por ejemplo, si los valores de $y$ representan categorías como \"alto\" y \"bajo\", a menudo se convierten en números enteros (por ejemplo, \"alto\" = 1, \"bajo\" = 0). Luego, se cuenta cuántas veces la predicción ($\\hat{y}$) coincide con el valor real ($y$).\n",
    "\n",
    "![Matriz de Confusión](https://www.researchgate.net/publication/335080302/figure/fig1/AS:790214687600646@1565413271171/Classification-error-calculation.png)\n",
    "\n",
    "A continuación, veamos un ejemplo práctico para un problema de **clasificación binaria**."
   ]
  },
  {
   "cell_type": "code",
   "execution_count": 18,
   "id": "7cad9954",
   "metadata": {},
   "outputs": [
    {
     "data": {
      "text/html": [
       "<div>\n",
       "<style scoped>\n",
       "    .dataframe tbody tr th:only-of-type {\n",
       "        vertical-align: middle;\n",
       "    }\n",
       "\n",
       "    .dataframe tbody tr th {\n",
       "        vertical-align: top;\n",
       "    }\n",
       "\n",
       "    .dataframe thead th {\n",
       "        text-align: right;\n",
       "    }\n",
       "</style>\n",
       "<table border=\"1\" class=\"dataframe\">\n",
       "  <thead>\n",
       "    <tr style=\"text-align: right;\">\n",
       "      <th></th>\n",
       "      <th>y_real</th>\n",
       "      <th>y_pred</th>\n",
       "      <th>coincidencia</th>\n",
       "    </tr>\n",
       "  </thead>\n",
       "  <tbody>\n",
       "    <tr>\n",
       "      <th>0</th>\n",
       "      <td>1</td>\n",
       "      <td>1</td>\n",
       "      <td>True</td>\n",
       "    </tr>\n",
       "    <tr>\n",
       "      <th>1</th>\n",
       "      <td>0</td>\n",
       "      <td>0</td>\n",
       "      <td>True</td>\n",
       "    </tr>\n",
       "    <tr>\n",
       "      <th>2</th>\n",
       "      <td>1</td>\n",
       "      <td>1</td>\n",
       "      <td>True</td>\n",
       "    </tr>\n",
       "    <tr>\n",
       "      <th>3</th>\n",
       "      <td>1</td>\n",
       "      <td>1</td>\n",
       "      <td>True</td>\n",
       "    </tr>\n",
       "    <tr>\n",
       "      <th>4</th>\n",
       "      <td>0</td>\n",
       "      <td>0</td>\n",
       "      <td>True</td>\n",
       "    </tr>\n",
       "  </tbody>\n",
       "</table>\n",
       "</div>"
      ],
      "text/plain": [
       "   y_real  y_pred  coincidencia\n",
       "0       1       1          True\n",
       "1       0       0          True\n",
       "2       1       1          True\n",
       "3       1       1          True\n",
       "4       0       0          True"
      ]
     },
     "execution_count": 18,
     "metadata": {},
     "output_type": "execute_result"
    }
   ],
   "source": [
    "import pandas as pd\n",
    "import numpy as np\n",
    "\n",
    "# Datos reales (50 valores) y predicciones cercanas a 80% de precisión\n",
    "y_real = [1, 0, 1, 1, 0, 0, 1, 0, 1, 0, 1, 0, 1, 1, 0, 1, 0, 1, 1, 0,\n",
    "          1, 0, 1, 1, 0, 1, 0, 0, 1, 0, 1, 1, 0, 1, 0, 0, 1, 0, 1, 1,\n",
    "          0, 1, 1, 0, 0, 1, 0, 1, 1, 0]\n",
    "\n",
    "# Generar predicciones con aproximadamente un 80% de precisión\n",
    "y_pred = [1, 0, 1, 1, 0, 0, 1, 0, 1, 1, 1, 0, 1, 1, 0, 1, 0, 1, 0, 0,\n",
    "          1, 0, 1, 1, 1, 1, 0, 0, 1, 0, 1, 1, 0, 1, 1, 0, 1, 0, 1, 1,\n",
    "          0, 1, 1, 0, 0, 1, 0, 1, 1, 0]\n",
    "\n",
    "# Crear un DataFrame con los valores reales y estimados\n",
    "df = pd.DataFrame({\n",
    "    'y_real': y_real,\n",
    "    'y_pred': y_pred\n",
    "})\n",
    "\n",
    "# Agregar una columna para indicar coincidencias entre las predicciones y los valores reales\n",
    "df['coincidencia'] = df['y_real'] == df['y_pred']\n",
    "\n",
    "\n",
    "\n",
    "# Mostrar los resultados\n",
    "df.head()\n"
   ]
  },
  {
   "cell_type": "markdown",
   "id": "2b077ec3",
   "metadata": {},
   "source": [
    "En este caso, la columna **coincidencia** indica los casos en los que $y_{i}$ y $\\hat{y}_{i}$ son iguales."
   ]
  },
  {
   "cell_type": "code",
   "execution_count": 19,
   "id": "1c1d51f9",
   "metadata": {},
   "outputs": [
    {
     "data": {
      "text/plain": [
       "coincidencia\n",
       "True     46\n",
       "False     4\n",
       "Name: count, dtype: int64"
      ]
     },
     "execution_count": 19,
     "metadata": {},
     "output_type": "execute_result"
    }
   ],
   "source": [
    "# total de coincidencias\n",
    "df['coincidencia'].value_counts()"
   ]
  },
  {
   "cell_type": "markdown",
   "id": "57d0a79e",
   "metadata": {},
   "source": [
    "El resultado muestra que de las 50 predicciones realizadas:\n",
    "\n",
    "- **46** son **True**, lo que significa que en estos casos las predicciones ($\\hat{y}_{i}$) coinciden con los valores reales ($y_{i}$).\n",
    "- **4** son **False**, lo que indica que en estos casos las predicciones no coinciden con los valores reales.\n",
    "\n",
    "Esto refleja una alta precisión del modelo, ya que la mayoría de las predicciones son correctas (46 de 50)."
   ]
  },
  {
   "cell_type": "markdown",
   "id": "d218f0ee",
   "metadata": {},
   "source": [
    "**Matriz de Confusión**\n",
    "\n",
    "La **matriz de confusión** es una herramienta fundamental para evaluar el rendimiento de un modelo de clasificación. Proporciona una representación visual que resume las predicciones realizadas por el modelo y las compara con los valores reales.\n",
    "\n",
    "Para la clasificación binaria (por ejemplo, clases 0 y 1), la matriz de confusión tiene la siguiente estructura:\n",
    "\n",
    "<img src=\"https://live.staticflickr.com/65535/48051372813_0e6a4a0806_b.jpg\" width=\"700\" align=\"center\"/>\n",
    "\n",
    "Aquí se definen los componentes:\n",
    "\n",
    "- **TP (Verdadero Positivo)**: El modelo predijo correctamente la clase positiva.\n",
    "- **FP (Falso Positivo)**: El modelo predijo incorrectamente la clase positiva cuando era realmente negativa.\n",
    "- **FN (Falso Negativo)**: El modelo predijo incorrectamente la clase negativa cuando era realmente positiva.\n",
    "- **TN (Verdadero Negativo)**: El modelo predijo correctamente la clase negativa.\n",
    "\n",
    "En resumen, **TP** y **TN** representan las predicciones correctas, mientras que **FP** y **FN** indican los errores de clasificación del modelo.\n",
    "\n",
    "La siguiente imagen ilustra estos conceptos de **FN** y **FP**:\n",
    "\n",
    "<img src=\"https://raw.githubusercontent.com/fralfaro/MAT281_2022/main/docs/lectures/ml/analisis_supervisado_clasificacion/images/error.jpg\" width=\"600\"  align=\"center\"/>\n",
    "\n",
    "Ahora, vamos a calcular la matriz de confusión utilizando el comando `confusion_matrix`:"
   ]
  },
  {
   "cell_type": "code",
   "execution_count": 20,
   "id": "43e4988d",
   "metadata": {},
   "outputs": [
    {
     "name": "stdout",
     "output_type": "stream",
     "text": [
      "\n",
      "Matriz de Confusión:\n",
      "\n",
      "[[20  3]\n",
      " [ 1 26]]\n"
     ]
    }
   ],
   "source": [
    "from sklearn.metrics import confusion_matrix\n",
    "\n",
    "# Calcular la matriz de confusión\n",
    "cm = confusion_matrix(df['y_real'], df['y_pred'])\n",
    "\n",
    "# Mostrar la matriz de confusión de forma clara\n",
    "print('\\nMatriz de Confusión:\\n')\n",
    "print(cm)\n"
   ]
  },
  {
   "cell_type": "markdown",
   "id": "c371663b",
   "metadata": {},
   "source": [
    "**Métricas de Evaluación**\n",
    "\n",
    "En el contexto de clasificación, el objetivo es maximizar la cantidad de **TP** (Verdaderos Positivos) y **TN** (Verdaderos Negativos) y minimizar los **FP** (Falsos Positivos) y **FN** (Falsos Negativos). Para evaluar el rendimiento del modelo, se utilizan las siguientes métricas:\n",
    "\n",
    "1. **Accuracy (Precisión Global)**:\n",
    "   - Mide la proporción de predicciones correctas (positivas y negativas) sobre el total de casos.\n",
    "   \n",
    "   $$accuracy(y,\\hat{y}) = \\dfrac{TP+TN}{TP+TN+FP+FN}$$\n",
    "\n",
    "2. **Recall (Sensibilidad o Tasa de Verdaderos Positivos)**:\n",
    "   - Evalúa la capacidad del modelo para identificar correctamente las muestras positivas.\n",
    "   $$recall(y,\\hat{y}) = \\dfrac{TP}{TP+FN}$$\n",
    "\n",
    "3. **Precision (Precisión Positiva)**:\n",
    "   - Indica la proporción de verdaderos positivos sobre todas las predicciones positivas.\n",
    "   $$precision(y,\\hat{y}) = \\dfrac{TP}{TP+FP} $$\n",
    "\n",
    "4. **F-score (F1-Score)**:\n",
    "   - Es la media armónica de la precisión y el recall, proporcionando un balance entre ambos.\n",
    "   $$fscore(y,\\hat{y}) = 2\\times \\dfrac{precision(y,\\hat{y})\\times recall(y,\\hat{y})}{precision(y,\\hat{y})+recall(y,\\hat{y})} $$\n",
    "\n",
    "Veamos un ejemplo práctico donde calculamos estas métricas utilizando `sklearn.metrics`:"
   ]
  },
  {
   "cell_type": "code",
   "execution_count": 21,
   "id": "30708de2",
   "metadata": {},
   "outputs": [
    {
     "name": "stdout",
     "output_type": "stream",
     "text": [
      "Accuracy:  0.9200\n",
      "Recall:    0.9630\n",
      "Precision: 0.8966\n",
      "F1-Score:  0.9286\n"
     ]
    }
   ],
   "source": [
    "from sklearn.metrics import accuracy_score, recall_score, precision_score, f1_score\n",
    "\n",
    "# Calcular las métricas de evaluación\n",
    "accuracy = accuracy_score(df['y_real'], df['y_pred'])\n",
    "recall = recall_score(df['y_real'], df['y_pred'])\n",
    "precision = precision_score(df['y_real'], df['y_pred'])\n",
    "fscore = f1_score(df['y_real'], df['y_pred'])\n",
    "\n",
    "# Mostrar los resultados\n",
    "print(f\"Accuracy:  {accuracy:.4f}\")\n",
    "print(f\"Recall:    {recall:.4f}\")\n",
    "print(f\"Precision: {precision:.4f}\")\n",
    "print(f\"F1-Score:  {fscore:.4f}\")"
   ]
  },
  {
   "cell_type": "markdown",
   "id": "f2f99c4f",
   "metadata": {},
   "source": [
    "**Resultados**:\n",
    "- **Accuracy: 0.9200**: El 92% de las predicciones fueron correctas.\n",
    "- **Recall: 0.9630**: El modelo identificó el 96.3% de las muestras positivas correctamente.\n",
    "- **Precision: 0.8966**: El 89.66% de las predicciones positivas fueron realmente positivas.\n",
    "- **F1-Score: 0.9286**: Indica un buen balance entre precisión y recall, lo que refleja un modelo con buen desempeño en identificar correctamente las clases."
   ]
  },
  {
   "cell_type": "markdown",
   "id": "bca8ae17",
   "metadata": {},
   "source": [
    "### Curva ROC y AUC\n",
    "\n",
    "<img src=\"https://polmartisanahuja.com/wp-content/uploads/2021/01/word-image.png\" width=\"600\" height=\"360\" align=\"center\"/>"
   ]
  },
  {
   "cell_type": "markdown",
   "id": "4d2e4d64",
   "metadata": {},
   "source": [
    "\n",
    "La **curva ROC** (Receiver Operating Characteristic) es una herramienta gráfica que evalúa el rendimiento de algoritmos de clasificación binaria, representando visualmente el desempeño del modelo. Se construye trazando la **tasa de verdaderos positivos** (TPR) frente a la **tasa de falsos positivos** (FPR) a diferentes umbrales de decisión, permitiendo analizar el equilibrio entre sensibilidad y especificidad.\n",
    "\n",
    "La curva se genera calculando la TPR y la FPR para distintos umbrales, comenzando generalmente con un valor de 0.5, aunque se pueden usar valores entre 0 y 1. Esto permite observar cómo cambia el rendimiento del clasificador al ajustar los umbrales.\n",
    "\n",
    "\n",
    "\n",
    "**Definición de las tasas**:\n",
    "\n",
    "- **Tasa de verdaderos positivos (TPR)** o **Sensibilidad**:\n",
    "  \n",
    "  $$\n",
    "  TPR = \\dfrac{TP}{TP + FN}\n",
    "  $$\n",
    "\n",
    "  donde **TP** es el número de Verdaderos Positivos y **FN** es el número de Falsos Negativos. El TPR mide la probabilidad de que una instancia verdaderamente positiva sea correctamente clasificada como positiva.\n",
    "\n",
    "- **Tasa de falsos positivos (FPR)** o **1 - Especificidad**:\n",
    "  \n",
    "  $$\n",
    "  FPR = \\dfrac{FP}{FP + TN}\n",
    "  $$\n",
    "\n",
    "  donde **FP** es el número de Falsos Positivos y **TN** es el número de Verdaderos Negativos. La FPR mide la frecuencia con la que una instancia verdaderamente negativa se clasifica incorrectamente como positiva, es decir, una \"falsa alarma\".\n",
    "\n",
    "\n",
    "**Área Bajo la Curva** (AUC)\n",
    "\n",
    "El AUC (Área Bajo la Curva) resume el rendimiento del clasificador:\n",
    "\n",
    "* AUC = 0.5: Sin poder predictivo (predicción aleatoria).\n",
    "* AUC = 1.0: Clasificador perfecto.\n",
    "\n",
    "Un mayor AUC indica mejor rendimiento; AUC < 0.5 sugiere predicciones inversas.\n",
    "\n"
   ]
  },
  {
   "cell_type": "markdown",
   "id": "8f81b818",
   "metadata": {},
   "source": [
    "Continuando con el ejemplo anterior:\n"
   ]
  },
  {
   "cell_type": "code",
   "execution_count": 22,
   "id": "92d181f3",
   "metadata": {},
   "outputs": [
    {
     "data": {
      "image/png": "[encoded data removed]",
      "text/plain": [
       "<Figure size 800x600 with 1 Axes>"
      ]
     },
     "metadata": {},
     "output_type": "display_data"
    }
   ],
   "source": [
    "from sklearn.metrics import roc_curve, auc\n",
    "import matplotlib.pyplot as plt\n",
    "\n",
    "# Calcular la curva ROC y el AUC\n",
    "fpr, tpr, thresholds = roc_curve(df['y_real'], df['y_pred'])\n",
    "roc_auc = auc(fpr, tpr)\n",
    "\n",
    "# Graficar la curva ROC\n",
    "plt.figure(figsize=(8, 6))\n",
    "plt.plot(fpr, tpr, color='blue', lw=2, label='Curva ROC (AUC = %0.2f)' % roc_auc)\n",
    "plt.plot([0, 1], [0, 1], color='gray', linestyle='--', lw=2, label='Clasificador Aleatorio (AUC = 0.50)')\n",
    "\n",
    "# Configurar límites y etiquetas\n",
    "plt.xlim([0.0, 1.0])\n",
    "plt.ylim([0.0, 1.05])\n",
    "plt.xlabel('Tasa de Falsos Positivos', fontsize=12)\n",
    "plt.ylabel('Tasa de Verdaderos Positivos', fontsize=12)\n",
    "plt.title('Curva ROC', fontsize=15)\n",
    "plt.legend(loc=\"lower right\", fontsize=12)\n",
    "plt.grid(alpha=0.3)\n",
    "\n",
    "# Mostrar la gráfica\n",
    "plt.show()\n"
   ]
  },
  {
   "cell_type": "markdown",
   "id": "348acfcf",
   "metadata": {},
   "source": [
    "Un **AUC** de 0.92 indica que el modelo tiene un rendimiento excelente para distinguir entre clases. Esto significa que el modelo tiene un 92% de probabilidad de clasificar correctamente una instancia positiva. \n",
    "\n",
    "Cuanto más cercano esté el AUC a 1.0, mejor es el modelo. Un AUC de 0.5, en cambio, indica que el modelo no tiene capacidad predictiva y está adivinando al azar."
   ]
  },
  {
   "cell_type": "markdown",
   "id": "6bbd0a3e",
   "metadata": {},
   "source": [
    "## Referencias\n",
    "\n",
    "\n",
    "- [Scikit-learn: Error Metrics](https://scikit-learn.org/stable/modules/model_evaluation.html#regression-metrics) - La documentación oficial de Scikit-learn proporciona ejemplos de cómo calcular métricas de error como MAE, MSE y RMSE.\n",
    "\n",
    "- [Wikipedia: Matriz de Confusión](https://es.wikipedia.org/wiki/Matriz_de_confusi%C3%B3n) - Un artículo introductorio que explica los conceptos de TP, FP, TN y FN.\n",
    "\n",
    "- [Scikit-learn: ROC Curve](https://scikit-learn.org/stable/auto_examples/model_selection/plot_roc.html) - Ejemplos prácticos sobre cómo calcular y graficar la curva ROC y AUC para modelos de clasificación.\n",
    "\n",
    "- [Métricas de Clasificación en Python](https://towardsdatascience.com/metrics-to-evaluate-your-machine-learning-algorithm-f10ba6e38234) - Un artículo simple que cubre las métricas de evaluación como Accuracy, Recall, Precision y F1-Score.\n",
    "\n",
    "- [Documentación de Scikit-learn: train_test_split](https://scikit-learn.org/stable/modules/generated/sklearn.model_selection.train_test_split.html) - Explicación detallada y ejemplos de cómo dividir los datos en conjuntos de entrenamiento y prueba.\n",
    "\n",
    "- [Machine Learning Mastery: ROC Curves and AUC](https://machinelearningmastery.com/roc-curves-and-precision-recall-curves-for-classification-in-python/) - Explicación clara y sencilla sobre cómo interpretar la curva ROC y el AUC, con ejemplos en Python.\n",
    "\n"
   ]
  }
 ],
 "metadata": {
  "kernelspec": {
   "display_name": "Python 3 (ipykernel)",
   "language": "python",
   "name": "python3"
  },
  "language_info": {
   "codemirror_mode": {
    "name": "ipython",
    "version": 3
   },
   "file_extension": ".py",
   "mimetype": "text/x-python",
   "name": "python",
   "nbconvert_exporter": "python",
   "pygments_lexer": "ipython3",
   "version": "3.10.11"
  }
 },
 "nbformat": 4,
 "nbformat_minor": 5
}
